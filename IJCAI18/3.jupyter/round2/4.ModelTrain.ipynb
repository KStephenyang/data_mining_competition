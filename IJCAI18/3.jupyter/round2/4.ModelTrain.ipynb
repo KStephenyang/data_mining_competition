{
 "cells": [
  {
   "cell_type": "code",
   "execution_count": 1,
   "metadata": {},
   "outputs": [],
   "source": [
    "# coding: utf-8\n",
    "import pandas as pd\n",
    "import numpy as np\n",
    "import matplotlib.pyplot as plt\n",
    "# import plotly.offline as py\n",
    "# py.init_notebook_mode(connected=True)\n",
    "# import plotly.graph_objs as go\n",
    "# import plotly.tools as tls\n",
    "from collections import Counter\n",
    "import time\n",
    "import gc\n",
    "import lightgbm as lgb\n",
    "import xgboost as xgb\n",
    "import warnings\n",
    "from sklearn.linear_model import LogisticRegression\n",
    "from sklearn.metrics import log_loss\n",
    "from sklearn.preprocessing import OneHotEncoder\n",
    "warnings.filterwarnings('ignore')\n",
    "np.random.seed(2018)"
   ]
  },
  {
   "cell_type": "code",
   "execution_count": 2,
   "metadata": {},
   "outputs": [],
   "source": [
    "train = pd.read_table('../data/round2_train.txt', delim_whitespace=True, index_col=None)\n",
    "test = pd.read_table('../data/round2_ijcai_18_test_a_20180425.txt', delim_whitespace=True, index_col=None)\n",
    "test_b = pd.read_table('../glq/2.data/round2_test_b.txt', delim_whitespace=True, index_col=None)\n",
    "\n",
    "train = train.drop_duplicates().reset_index(drop=True)\n",
    "data = pd.concat([train, test, test_b]).reset_index(drop=True)\n",
    "del train, test"
   ]
  },
  {
   "cell_type": "code",
   "execution_count": 3,
   "metadata": {},
   "outputs": [],
   "source": [
    "timeFeat = pd.read_csv('featFile-b/timeFeat.csv')\n",
    "data = pd.concat([data, timeFeat], axis=1)\n",
    "del timeFeat"
   ]
  },
  {
   "cell_type": "code",
   "execution_count": 4,
   "metadata": {},
   "outputs": [],
   "source": [
    "catFeat = pd.read_csv('featFile-b/catFeat.csv')\n",
    "data = pd.concat([data, catFeat], axis=1)\n",
    "del catFeat"
   ]
  },
  {
   "cell_type": "code",
   "execution_count": 5,
   "metadata": {},
   "outputs": [],
   "source": [
    "shopFeat = pd.read_csv('featFile-b/shopFeat.csv')\n",
    "data = pd.concat([data, shopFeat], axis=1)\n",
    "del shopFeat"
   ]
  },
  {
   "cell_type": "code",
   "execution_count": 6,
   "metadata": {},
   "outputs": [
    {
     "data": {
      "text/plain": [
       "56"
      ]
     },
     "execution_count": 6,
     "metadata": {},
     "output_type": "execute_result"
    }
   ],
   "source": [
    "import gc\n",
    "gc.collect()"
   ]
  },
  {
   "cell_type": "markdown",
   "metadata": {},
   "source": [
    "# haobin's feat"
   ]
  },
  {
   "cell_type": "code",
   "execution_count": 7,
   "metadata": {},
   "outputs": [],
   "source": [
    "haobin_dir = 'featFile-b/haobin/'"
   ]
  },
  {
   "cell_type": "markdown",
   "metadata": {},
   "source": [
    "### simple feats"
   ]
  },
  {
   "cell_type": "code",
   "execution_count": 8,
   "metadata": {},
   "outputs": [],
   "source": [
    "simple_entity_file = haobin_dir +  \"simple_uesful_features_b.csv\"\n",
    "simple_entity_features = pd.read_csv(simple_entity_file)\n",
    "data = pd.concat([data, simple_entity_features], axis=1)"
   ]
  },
  {
   "cell_type": "code",
   "execution_count": 9,
   "metadata": {},
   "outputs": [
    {
     "data": {
      "text/plain": [
       "['shop_item_sales_min',\n",
       " 'cat_item_cnt',\n",
       " 'shop_item_price_min',\n",
       " 'shop_user_age_mean',\n",
       " 'shop_cat_num']"
      ]
     },
     "execution_count": 9,
     "metadata": {},
     "output_type": "execute_result"
    }
   ],
   "source": [
    "simple_cols = simple_entity_features.columns.tolist()\n",
    "simple_cols"
   ]
  },
  {
   "cell_type": "code",
   "execution_count": 10,
   "metadata": {},
   "outputs": [],
   "source": [
    "del simple_entity_features"
   ]
  },
  {
   "cell_type": "markdown",
   "metadata": {},
   "source": [
    "### click_buy_ts_slicewin"
   ]
  },
  {
   "cell_type": "code",
   "execution_count": 11,
   "metadata": {},
   "outputs": [],
   "source": [
    "click_but_sub_dir = 'click_buy_ts_slicewin/'"
   ]
  },
  {
   "cell_type": "code",
   "execution_count": 12,
   "metadata": {},
   "outputs": [],
   "source": [
    "click_buy_feats = pd.DataFrame()\n",
    "# 读取 click&buy特征\n",
    "entity_names = ['user_id', 'item_id', 'shop_id', 'user_id_item_id', 'user_id_shop_id']\n",
    "# 5. 7号上午entity点击/购买相关特征  1/2/4\n",
    "for name in entity_names:\n",
    "    click_win = pd.read_pickle(haobin_dir+ click_but_sub_dir + name + \"_click&buy_ts_slicewin.pkl\")\n",
    "    click_win.fillna(0, inplace=True)\n",
    "#     if not click_buy_feats:\n",
    "#         click_buy_feats = click_win\n",
    "#     else:\n",
    "    click_buy_feats = pd.concat([click_buy_feats, click_win], axis=1)\n",
    "    del click_win\n",
    "data = pd.concat([data, click_buy_feats], axis=1)"
   ]
  },
  {
   "cell_type": "code",
   "execution_count": 13,
   "metadata": {
    "scrolled": true
   },
   "outputs": [
    {
     "data": {
      "text/plain": [
       "['buy_context_ts_user_id_hhour1_before',\n",
       " 'dis_context_ts_user_id_hhour1_before',\n",
       " 'buy_context_ts_user_id_hhour2_before',\n",
       " 'dis_context_ts_user_id_hhour2_before',\n",
       " 'buy_context_ts_user_id_hhour4_before',\n",
       " 'dis_context_ts_user_id_hhour4_before',\n",
       " 'dis_context_ts_user_id_hhour1_after',\n",
       " 'dis_context_ts_user_id_hhour2_after',\n",
       " 'dis_context_ts_user_id_hhour4_after',\n",
       " 'buy_context_ts_item_id_hhour1_before',\n",
       " 'dis_context_ts_item_id_hhour1_before',\n",
       " 'buy_context_ts_item_id_hhour2_before',\n",
       " 'dis_context_ts_item_id_hhour2_before',\n",
       " 'buy_context_ts_item_id_hhour4_before',\n",
       " 'dis_context_ts_item_id_hhour4_before',\n",
       " 'dis_context_ts_item_id_hhour1_after',\n",
       " 'dis_context_ts_item_id_hhour2_after',\n",
       " 'dis_context_ts_item_id_hhour4_after',\n",
       " 'buy_context_ts_shop_id_hhour1_before',\n",
       " 'dis_context_ts_shop_id_hhour1_before',\n",
       " 'buy_context_ts_shop_id_hhour2_before',\n",
       " 'dis_context_ts_shop_id_hhour2_before',\n",
       " 'buy_context_ts_shop_id_hhour4_before',\n",
       " 'dis_context_ts_shop_id_hhour4_before',\n",
       " 'dis_context_ts_shop_id_hhour1_after',\n",
       " 'dis_context_ts_shop_id_hhour2_after',\n",
       " 'dis_context_ts_shop_id_hhour4_after',\n",
       " 'buy_context_ts_user_id_item_id_hhour1_before',\n",
       " 'dis_context_ts_user_id_item_id_hhour1_before',\n",
       " 'buy_context_ts_user_id_item_id_hhour2_before',\n",
       " 'dis_context_ts_user_id_item_id_hhour2_before',\n",
       " 'buy_context_ts_user_id_item_id_hhour4_before',\n",
       " 'dis_context_ts_user_id_item_id_hhour4_before',\n",
       " 'dis_context_ts_user_id_item_id_hhour1_after',\n",
       " 'dis_context_ts_user_id_item_id_hhour2_after',\n",
       " 'dis_context_ts_user_id_item_id_hhour4_after',\n",
       " 'buy_context_ts_user_id_shop_id_hhour1_before',\n",
       " 'dis_context_ts_user_id_shop_id_hhour1_before',\n",
       " 'buy_context_ts_user_id_shop_id_hhour2_before',\n",
       " 'dis_context_ts_user_id_shop_id_hhour2_before',\n",
       " 'buy_context_ts_user_id_shop_id_hhour4_before',\n",
       " 'dis_context_ts_user_id_shop_id_hhour4_before',\n",
       " 'dis_context_ts_user_id_shop_id_hhour1_after',\n",
       " 'dis_context_ts_user_id_shop_id_hhour2_after',\n",
       " 'dis_context_ts_user_id_shop_id_hhour4_after']"
      ]
     },
     "execution_count": 13,
     "metadata": {},
     "output_type": "execute_result"
    }
   ],
   "source": [
    "click_buy_cols = click_buy_feats.columns.tolist()\n",
    "click_buy_cols"
   ]
  },
  {
   "cell_type": "markdown",
   "metadata": {},
   "source": [
    "### context_last_next_click"
   ]
  },
  {
   "cell_type": "code",
   "execution_count": 14,
   "metadata": {},
   "outputs": [],
   "source": [
    "context_last_next_sub_dir = 'context_last_next_click/'"
   ]
  },
  {
   "cell_type": "code",
   "execution_count": 15,
   "metadata": {
    "scrolled": true
   },
   "outputs": [],
   "source": [
    "context_last_next_feat = pd.DataFrame()\n",
    "entity_names = ['user_id', 'item_id', 'shop_id', 'user_id_item_id', 'user_id_shop_id']\n",
    "col_add = []\n",
    "for name in entity_names:\n",
    "    context_last_click_gap = pd.read_pickle(haobin_dir + context_last_next_sub_dir  + name + '_context_last_click_time_b.pkl')\n",
    "    context_last_click_gap.fillna(context_last_click_gap.max() + 1, inplace=True)\n",
    "    context_last_next_feat = pd.concat([context_last_next_feat, context_last_click_gap], axis=1)\n",
    "\n",
    "    try:\n",
    "        context_next_click_gap = pd.read_pickle(haobin_dir + context_last_next_sub_dir  + name + '_context_next_click_time_b.pkl')\n",
    "        context_next_click_gap.fillna(context_next_click_gap.max() + 1, inplace=True)\n",
    "        context_last_next_feat = pd.concat([context_last_next_feat, context_next_click_gap], axis=1)\n",
    "        del context_last_click_gap\n",
    "        del context_next_click_gap\n",
    "    except IOError:\n",
    "        pass\n",
    "data = pd.concat([data, context_last_next_feat], axis=1)"
   ]
  },
  {
   "cell_type": "code",
   "execution_count": 16,
   "metadata": {},
   "outputs": [
    {
     "data": {
      "text/plain": [
       "['user_id_context_time_gap',\n",
       " 'user_id_context_time_gap_next',\n",
       " 'item_id_context_time_gap',\n",
       " 'item_id_context_time_gap_next',\n",
       " 'shop_id_context_time_gap',\n",
       " 'shop_id_context_time_gap_next',\n",
       " 'user_id_item_id_context_time_gap',\n",
       " 'user_id_item_id_context_time_gap_next',\n",
       " 'user_id_shop_id_context_time_gap']"
      ]
     },
     "execution_count": 16,
     "metadata": {},
     "output_type": "execute_result"
    }
   ],
   "source": [
    "context_last_next_cols = context_last_next_feat.columns.tolist()\n",
    "context_last_next_cols"
   ]
  },
  {
   "cell_type": "code",
   "execution_count": 17,
   "metadata": {},
   "outputs": [],
   "source": [
    "del context_last_next_feat"
   ]
  },
  {
   "cell_type": "code",
   "execution_count": 18,
   "metadata": {},
   "outputs": [
    {
     "data": {
      "text/plain": [
       "56"
      ]
     },
     "execution_count": 18,
     "metadata": {},
     "output_type": "execute_result"
    }
   ],
   "source": [
    "gc.collect()"
   ]
  },
  {
   "cell_type": "markdown",
   "metadata": {},
   "source": [
    "# singleCVR"
   ]
  },
  {
   "cell_type": "code",
   "execution_count": 19,
   "metadata": {},
   "outputs": [],
   "source": [
    "singleCVR = pd.read_csv('featFile-b/singleCvrFeat.csv')"
   ]
  },
  {
   "cell_type": "code",
   "execution_count": 20,
   "metadata": {
    "scrolled": true
   },
   "outputs": [
    {
     "data": {
      "text/plain": [
       "['item_id_HistoryCVR',\n",
       " 'shop_id_HistoryCVR',\n",
       " 'user_id_HistoryCVR',\n",
       " 'user_age_level_HistoryCVR',\n",
       " 'context_page_id_HistoryCVR',\n",
       " 'item_brand_id_HistoryCVR',\n",
       " 'item_price_level_HistoryCVR',\n",
       " 'item_sales_level_HistoryCVR',\n",
       " 'item_collected_level_HistoryCVR',\n",
       " 'item_cat_1_HistoryCVR',\n",
       " 'user_star_level_HistoryCVR',\n",
       " 'shop_review_num_level_HistoryCVR',\n",
       " 'shop_star_level_HistoryCVR',\n",
       " 'hour_HistoryCVR',\n",
       " 'hour_range_HistoryCVR']"
      ]
     },
     "execution_count": 20,
     "metadata": {},
     "output_type": "execute_result"
    }
   ],
   "source": [
    "for cvr_col in singleCVR.columns.tolist():\n",
    "    data[cvr_col] = singleCVR[cvr_col].tolist()\n",
    "\n",
    "singleCVR_cols = singleCVR.columns.tolist()\n",
    "singleCVR_cols"
   ]
  },
  {
   "cell_type": "code",
   "execution_count": 21,
   "metadata": {},
   "outputs": [],
   "source": [
    "del singleCVR"
   ]
  },
  {
   "cell_type": "markdown",
   "metadata": {},
   "source": [
    "# clickTradeRatio"
   ]
  },
  {
   "cell_type": "code",
   "execution_count": 22,
   "metadata": {},
   "outputs": [],
   "source": [
    "clickTradeRatioFeat = pd.read_csv('featFile-b/clickTradeRatioFeat.csv')"
   ]
  },
  {
   "cell_type": "code",
   "execution_count": 23,
   "metadata": {},
   "outputs": [],
   "source": [
    "for ratio_col in clickTradeRatioFeat.columns.tolist():\n",
    "    data[ratio_col] = clickTradeRatioFeat[ratio_col].tolist()"
   ]
  },
  {
   "cell_type": "code",
   "execution_count": 24,
   "metadata": {
    "scrolled": true
   },
   "outputs": [
    {
     "data": {
      "text/plain": [
       "['his_item_cat_1_user_age_level_clickRatio',\n",
       " 'his_item_cat_1_user_age_level_tradeRatio',\n",
       " 'his_item_cat_1_user_gender_id_clickRatio',\n",
       " 'his_item_cat_1_user_gender_id_tradeRatio',\n",
       " 'his_item_cat_1_user_occupation_id_clickRatio',\n",
       " 'his_item_cat_1_user_occupation_id_tradeRatio',\n",
       " 'his_item_cat_1_user_age_level_clickRatio.1',\n",
       " 'his_item_cat_1_user_age_level_tradeRatio.1',\n",
       " 'his_item_cat_1_user_gender_id_clickRatio.1',\n",
       " 'his_item_cat_1_user_gender_id_tradeRatio.1',\n",
       " 'his_item_cat_1_user_occupation_id_clickRatio.1',\n",
       " 'his_item_cat_1_user_occupation_id_tradeRatio.1',\n",
       " 'his_shop_id_user_age_level_clickRatio',\n",
       " 'his_shop_id_user_age_level_tradeRatio',\n",
       " 'his_shop_id_user_gender_id_clickRatio',\n",
       " 'his_shop_id_user_gender_id_tradeRatio',\n",
       " 'his_shop_id_user_occupation_id_clickRatio',\n",
       " 'his_shop_id_user_occupation_id_tradeRatio',\n",
       " 'his_item_price_level_user_age_level_clickRatio',\n",
       " 'his_item_price_level_user_age_level_tradeRatio',\n",
       " 'his_item_price_level_user_gender_id_clickRatio',\n",
       " 'his_item_price_level_user_gender_id_tradeRatio',\n",
       " 'his_item_price_level_user_occupation_id_clickRatio',\n",
       " 'his_item_price_level_user_occupation_id_tradeRatio',\n",
       " 'his_item_brand_id_item_id_clickRatio',\n",
       " 'his_item_brand_id_item_id_tradeRatio',\n",
       " 'his_item_cat_1_item_id_clickRatio',\n",
       " 'his_item_cat_1_item_id_tradeRatio',\n",
       " 'his_item_cat_1_shop_id_clickRatio',\n",
       " 'his_item_cat_1_shop_id_tradeRatio',\n",
       " 'his_shop_id_item_id_clickRatio',\n",
       " 'his_shop_id_item_id_tradeRatio']"
      ]
     },
     "execution_count": 24,
     "metadata": {},
     "output_type": "execute_result"
    }
   ],
   "source": [
    "clickTradeRatio_cols = clickTradeRatioFeat.columns.tolist()\n",
    "clickTradeRatio_cols"
   ]
  },
  {
   "cell_type": "code",
   "execution_count": 25,
   "metadata": {},
   "outputs": [],
   "source": [
    "del clickTradeRatioFeat"
   ]
  },
  {
   "cell_type": "markdown",
   "metadata": {},
   "source": [
    "# <font color=\"red\">2018.5.12添加</font>"
   ]
  },
  {
   "cell_type": "markdown",
   "metadata": {},
   "source": [
    "# user当天/当小时的点击量"
   ]
  },
  {
   "cell_type": "code",
   "execution_count": 26,
   "metadata": {},
   "outputs": [
    {
     "data": {
      "text/plain": [
       "['initUserTotalClickCount',\n",
       " 'initUserDayClickCount',\n",
       " 'initUserHourClickCount',\n",
       " 'initUserTotalItemClickCount',\n",
       " 'initUserDayItemClickCount',\n",
       " 'initUserTotalBrandClickCount',\n",
       " 'initUserDayBrandClickCount',\n",
       " 'initUserTotalCat1ClickCount',\n",
       " 'initUserDayCat1ClickCount',\n",
       " 'initUserHourCat1ClickCount',\n",
       " 'initUserTotalCa2ClickCount',\n",
       " 'initUserDayCat2ClickCount',\n",
       " 'initUserTotalShopClickCount',\n",
       " 'initUserDayShopClickCount',\n",
       " 'initUserHourShopClickCount',\n",
       " 'initUserTotalPriceClickCount',\n",
       " 'initUserDayPriceClickCount',\n",
       " 'initUserTotalCityClickCount',\n",
       " 'initUserDayCityClickCount']"
      ]
     },
     "execution_count": 26,
     "metadata": {},
     "output_type": "execute_result"
    }
   ],
   "source": [
    "initUserClickCountFeat = pd.read_csv('featFile-b/initUserClickCountFeat.csv')\n",
    "initUserClickCountFeat_cols = initUserClickCountFeat.columns.tolist()\n",
    "initUserClickCountFeat_cols"
   ]
  },
  {
   "cell_type": "code",
   "execution_count": 27,
   "metadata": {},
   "outputs": [],
   "source": [
    "for _col in initUserClickCountFeat_cols:\n",
    "    data[_col] = initUserClickCountFeat[_col].tolist()"
   ]
  },
  {
   "cell_type": "code",
   "execution_count": 28,
   "metadata": {},
   "outputs": [],
   "source": [
    "del initUserClickCountFeat"
   ]
  },
  {
   "cell_type": "markdown",
   "metadata": {},
   "source": [
    "# user前一天的点击量"
   ]
  },
  {
   "cell_type": "code",
   "execution_count": 29,
   "metadata": {},
   "outputs": [
    {
     "data": {
      "text/plain": [
       "['preDay_initUserDayClickCount',\n",
       " 'preDay_initUserDayItemClickCount',\n",
       " 'preDay_initUserDayBrandClickCount',\n",
       " 'preDay_initUserDayCat1ClickCount',\n",
       " 'preDay_initUserDayCat2ClickCount',\n",
       " 'preDay_initUserDayShopClickCount',\n",
       " 'preDay_initUserDayPriceClickCount',\n",
       " 'preDay_initUserDayCityClickCount']"
      ]
     },
     "execution_count": 29,
     "metadata": {},
     "output_type": "execute_result"
    }
   ],
   "source": [
    "preDayUserClickCountFeat = pd.read_csv('featFile-b/preDayUserClickCountFeat.csv')\n",
    "preDayUserClickCountFeat_cols = preDayUserClickCountFeat.columns.tolist()\n",
    "preDayUserClickCountFeat_cols"
   ]
  },
  {
   "cell_type": "code",
   "execution_count": 30,
   "metadata": {},
   "outputs": [],
   "source": [
    "for _col in preDayUserClickCountFeat_cols:\n",
    "    data[_col] = preDayUserClickCountFeat[_col].tolist()"
   ]
  },
  {
   "cell_type": "code",
   "execution_count": 31,
   "metadata": {},
   "outputs": [],
   "source": [
    "del preDayUserClickCountFeat"
   ]
  },
  {
   "cell_type": "markdown",
   "metadata": {},
   "source": [
    "# 除user之外的当天/当小时的点击特征"
   ]
  },
  {
   "cell_type": "code",
   "execution_count": 32,
   "metadata": {},
   "outputs": [
    {
     "data": {
      "text/plain": [
       "['initItemDayMeanClickCount',\n",
       " 'initShopDayMeanClickCount',\n",
       " 'initItemClickCount',\n",
       " 'initItemDayClickCount',\n",
       " 'initItemHourClickCount',\n",
       " 'initShopTotalClickCount',\n",
       " 'initShopDayClickCount',\n",
       " 'initShopHourClickCount',\n",
       " 'initBrandTotalClickCount',\n",
       " 'initBrandDayClickCount',\n",
       " 'initBrandHourClickCount',\n",
       " 'initCat1TotalClickCount',\n",
       " 'initCat1DayClickCount',\n",
       " 'initCat1HourClickCount',\n",
       " 'initCa2TotalClickCount',\n",
       " 'initCa2DayClickCount']"
      ]
     },
     "execution_count": 32,
     "metadata": {},
     "output_type": "execute_result"
    }
   ],
   "source": [
    "initClickCountExceptUser = pd.read_csv('featFile-b/initClickCountExceptUserFeat.csv')\n",
    "initClickCountExceptUser_cols = initClickCountExceptUser.columns.tolist()\n",
    "initClickCountExceptUser_cols"
   ]
  },
  {
   "cell_type": "code",
   "execution_count": 33,
   "metadata": {},
   "outputs": [],
   "source": [
    "for _col in initClickCountExceptUser_cols:\n",
    "    data[_col] = initClickCountExceptUser[_col].tolist()"
   ]
  },
  {
   "cell_type": "code",
   "execution_count": 34,
   "metadata": {},
   "outputs": [],
   "source": [
    "del initClickCountExceptUser"
   ]
  },
  {
   "cell_type": "markdown",
   "metadata": {},
   "source": [
    "# 除user之外的前一天的点击量"
   ]
  },
  {
   "cell_type": "code",
   "execution_count": 35,
   "metadata": {},
   "outputs": [
    {
     "data": {
      "text/plain": [
       "['Unnamed: 0',\n",
       " 'preDay_initItemClickCount',\n",
       " 'preDay_initItemTradeCount',\n",
       " 'preDay_initShopClickCount',\n",
       " 'preDay_initShopTradeCount',\n",
       " 'preDay_initBrandClickCount',\n",
       " 'preDay_initBrandTradeCount',\n",
       " 'preDay_initCat1ClickCount',\n",
       " 'preDay_initCat1TradeCount',\n",
       " 'preDay_initCat2ClickCount',\n",
       " 'preDay_initCat2TradeCount']"
      ]
     },
     "execution_count": 35,
     "metadata": {},
     "output_type": "execute_result"
    }
   ],
   "source": [
    "preDayClickTradeCountExceptUserFeat = pd.read_csv('featFile-b/preDayClickTradeCountExceptUserFeat.csv')\n",
    "preDayClickTradeCountExceptUserFeat_cols = preDayClickTradeCountExceptUserFeat.columns.tolist()\n",
    "preDayClickTradeCountExceptUserFeat_cols"
   ]
  },
  {
   "cell_type": "code",
   "execution_count": 36,
   "metadata": {},
   "outputs": [],
   "source": [
    "for _col in preDayClickTradeCountExceptUserFeat_cols:\n",
    "    data[_col] = preDayClickTradeCountExceptUserFeat[_col].tolist()"
   ]
  },
  {
   "cell_type": "code",
   "execution_count": 37,
   "metadata": {},
   "outputs": [],
   "source": [
    "del preDayClickTradeCountExceptUserFeat"
   ]
  },
  {
   "cell_type": "markdown",
   "metadata": {},
   "source": [
    "# User当天已有的购买量"
   ]
  },
  {
   "cell_type": "code",
   "execution_count": 38,
   "metadata": {},
   "outputs": [
    {
     "data": {
      "text/plain": [
       "['userTodayAlreadyTradeCount',\n",
       " 'userItemTodayAlreadyTradeCount',\n",
       " 'userCat1TodayAlreadyTradeCount',\n",
       " 'userShopTodayAlreadyTradeCount',\n",
       " 'userBrandTodayAlreadyTradeCount']"
      ]
     },
     "execution_count": 38,
     "metadata": {},
     "output_type": "execute_result"
    }
   ],
   "source": [
    "userDayAlreadyTradeCount = pd.read_csv('featFile-b/userDayAlreadyTradeCount.csv')\n",
    "userDayAlreadyTradeCount_cols = userDayAlreadyTradeCount.columns.tolist()\n",
    "userDayAlreadyTradeCount_cols"
   ]
  },
  {
   "cell_type": "code",
   "execution_count": 39,
   "metadata": {},
   "outputs": [],
   "source": [
    "for _col in userDayAlreadyTradeCount_cols:\n",
    "    data[_col] = userDayAlreadyTradeCount[_col].tolist()"
   ]
  },
  {
   "cell_type": "code",
   "execution_count": 40,
   "metadata": {},
   "outputs": [],
   "source": [
    "del userDayAlreadyTradeCount"
   ]
  },
  {
   "cell_type": "code",
   "execution_count": 41,
   "metadata": {},
   "outputs": [
    {
     "data": {
      "text/plain": [
       "561"
      ]
     },
     "execution_count": 41,
     "metadata": {},
     "output_type": "execute_result"
    }
   ],
   "source": [
    "gc.collect()"
   ]
  },
  {
   "cell_type": "markdown",
   "metadata": {},
   "source": [
    "# <font color=\"red\">2018.5.13添加</font>"
   ]
  },
  {
   "cell_type": "markdown",
   "metadata": {},
   "source": [
    "# User当天的点击排序"
   ]
  },
  {
   "cell_type": "code",
   "execution_count": 42,
   "metadata": {},
   "outputs": [
    {
     "data": {
      "text/plain": [
       "['userDayClickRank',\n",
       " 'userDayItemClickRank',\n",
       " 'userDayCatClickRank',\n",
       " 'userDayShopClickRank',\n",
       " 'userDayBrandClickRank']"
      ]
     },
     "execution_count": 42,
     "metadata": {},
     "output_type": "execute_result"
    }
   ],
   "source": [
    "userDayClickRankFeat = pd.read_csv('featFile-b/userDayClickRank.csv')\n",
    "userDayClickRankFeat_cols = userDayClickRankFeat.columns.tolist()\n",
    "userDayClickRankFeat_cols"
   ]
  },
  {
   "cell_type": "code",
   "execution_count": 43,
   "metadata": {},
   "outputs": [],
   "source": [
    "for _col in userDayClickRankFeat_cols:\n",
    "    data[_col] = userDayClickRankFeat[_col].tolist()"
   ]
  },
  {
   "cell_type": "code",
   "execution_count": 44,
   "metadata": {},
   "outputs": [],
   "source": [
    "del userDayClickRankFeat"
   ]
  },
  {
   "cell_type": "markdown",
   "metadata": {},
   "source": [
    "# 当前item/shop/cat与平均的差值"
   ]
  },
  {
   "cell_type": "code",
   "execution_count": 45,
   "metadata": {},
   "outputs": [
    {
     "data": {
      "text/plain": [
       "['item_price_level_subHorizonMean',\n",
       " 'item_sales_level_subHorizonMean',\n",
       " 'shop_review_num_level_subHorizonMean',\n",
       " 'shop_score_service_subHorizonMean',\n",
       " 'shop_score_delivery_subHorizonMean',\n",
       " 'shop_score_description_subHorizonMean',\n",
       " 'shop_review_positive_rate_subHorizonMean']"
      ]
     },
     "execution_count": 45,
     "metadata": {},
     "output_type": "execute_result"
    }
   ],
   "source": [
    "horizonClickSubMeanFeat = pd.read_csv('featFile-b/horizonClickSubMeanFeat.csv')\n",
    "horizonClickSubMeanFeat_cols = horizonClickSubMeanFeat.columns.tolist()\n",
    "horizonClickSubMeanFeat_cols"
   ]
  },
  {
   "cell_type": "code",
   "execution_count": 46,
   "metadata": {},
   "outputs": [],
   "source": [
    "for _col in horizonClickSubMeanFeat_cols:\n",
    "    data[_col] = horizonClickSubMeanFeat[_col].tolist()"
   ]
  },
  {
   "cell_type": "code",
   "execution_count": 47,
   "metadata": {},
   "outputs": [],
   "source": [
    "del horizonClickSubMeanFeat"
   ]
  },
  {
   "cell_type": "markdown",
   "metadata": {},
   "source": [
    "# 交叉特征转化率"
   ]
  },
  {
   "cell_type": "markdown",
   "metadata": {},
   "source": [
    "## age/gender 交叉特征转化率"
   ]
  },
  {
   "cell_type": "code",
   "execution_count": 48,
   "metadata": {},
   "outputs": [
    {
     "data": {
      "text/plain": [
       "['user_gender_id_item_price_level_CrossCVR',\n",
       " 'user_gender_id_item_brand_id_CrossCVR',\n",
       " 'user_gender_id_item_cat_1_CrossCVR',\n",
       " 'user_gender_id_item_id_CrossCVR',\n",
       " 'user_age_level_item_price_level_CrossCVR',\n",
       " 'user_age_level_item_brand_id_CrossCVR',\n",
       " 'user_age_level_item_cat_1_CrossCVR',\n",
       " 'user_age_level_item_id_CrossCVR']"
      ]
     },
     "execution_count": 48,
     "metadata": {},
     "output_type": "execute_result"
    }
   ],
   "source": [
    "crossCvrFeat_gender_age = pd.read_csv('featFile-b/crossCvrFeat-gender-age.csv')\n",
    "crossCvrFeat_gender_age_cols = crossCvrFeat_gender_age.columns.tolist()\n",
    "crossCvrFeat_gender_age_cols"
   ]
  },
  {
   "cell_type": "code",
   "execution_count": 49,
   "metadata": {},
   "outputs": [],
   "source": [
    "for _col in crossCvrFeat_gender_age_cols:\n",
    "    data[_col] = crossCvrFeat_gender_age[_col].tolist()"
   ]
  },
  {
   "cell_type": "code",
   "execution_count": 50,
   "metadata": {},
   "outputs": [],
   "source": [
    "del crossCvrFeat_gender_age"
   ]
  },
  {
   "cell_type": "markdown",
   "metadata": {},
   "source": [
    "## occu 交叉特征转化率"
   ]
  },
  {
   "cell_type": "code",
   "execution_count": 51,
   "metadata": {},
   "outputs": [
    {
     "data": {
      "text/plain": [
       "['user_occupation_id_item_id_CrossCVR',\n",
       " 'user_occupation_id_item_price_level_CrossCVR',\n",
       " 'user_occupation_id_item_brand_id_CrossCVR',\n",
       " 'user_occupation_id_item_cat_1_CrossCVR']"
      ]
     },
     "execution_count": 51,
     "metadata": {},
     "output_type": "execute_result"
    }
   ],
   "source": [
    "crossCvrFeat_occu = pd.read_csv('featFile-b/crossCvrFeat-occu.csv')\n",
    "crossCvrFeat_occu_cols = crossCvrFeat_occu.columns.tolist()\n",
    "crossCvrFeat_occu_cols"
   ]
  },
  {
   "cell_type": "code",
   "execution_count": 52,
   "metadata": {},
   "outputs": [],
   "source": [
    "for _col in crossCvrFeat_occu_cols:\n",
    "    data[_col] = crossCvrFeat_occu[_col].tolist()"
   ]
  },
  {
   "cell_type": "code",
   "execution_count": 53,
   "metadata": {},
   "outputs": [],
   "source": [
    "del crossCvrFeat_occu"
   ]
  },
  {
   "cell_type": "markdown",
   "metadata": {},
   "source": [
    "# shop 交叉特征转化率"
   ]
  },
  {
   "cell_type": "code",
   "execution_count": 54,
   "metadata": {},
   "outputs": [
    {
     "data": {
      "text/plain": [
       "['shop_id_item_id_CrossCVR',\n",
       " 'shop_id_item_price_level_CrossCVR',\n",
       " 'shop_id_item_brand_id_CrossCVR',\n",
       " 'shop_id_item_cat_1_CrossCVR']"
      ]
     },
     "execution_count": 54,
     "metadata": {},
     "output_type": "execute_result"
    }
   ],
   "source": [
    "crossCvrFeat_shop = pd.read_csv('featFile-b/crossCvrFeat-shop.csv')\n",
    "crossCvrFeat_shop_cols = crossCvrFeat_shop.columns.tolist()\n",
    "crossCvrFeat_shop_cols"
   ]
  },
  {
   "cell_type": "code",
   "execution_count": 55,
   "metadata": {},
   "outputs": [],
   "source": [
    "for _col in crossCvrFeat_shop_cols:\n",
    "    data[_col] = crossCvrFeat_shop[_col].tolist()"
   ]
  },
  {
   "cell_type": "code",
   "execution_count": 56,
   "metadata": {},
   "outputs": [],
   "source": [
    "del crossCvrFeat_shop"
   ]
  },
  {
   "cell_type": "markdown",
   "metadata": {},
   "source": [
    "# glq的交叉转化率"
   ]
  },
  {
   "cell_type": "code",
   "execution_count": 57,
   "metadata": {
    "scrolled": true
   },
   "outputs": [
    {
     "data": {
      "text/plain": [
       "['item_id-item_brand_id-ratio-7',\n",
       " 'item_id-user_id-ratio-7',\n",
       " 'item_id-shop_id-ratio-7',\n",
       " 'item_brand_id-user_id-ratio-7',\n",
       " 'item_brand_id-shop_id-ratio-7',\n",
       " 'user_id-shop_id-ratio-7']"
      ]
     },
     "execution_count": 57,
     "metadata": {},
     "output_type": "execute_result"
    }
   ],
   "source": [
    "glq_crossCvr = pd.read_pickle('featFile-b/ratio')\n",
    "glq_crossCvr_cols = glq_crossCvr.columns.tolist()\n",
    "glq_crossCvr_cols"
   ]
  },
  {
   "cell_type": "code",
   "execution_count": 58,
   "metadata": {
    "scrolled": false
   },
   "outputs": [
    {
     "data": {
      "text/plain": [
       "435"
      ]
     },
     "execution_count": 58,
     "metadata": {},
     "output_type": "execute_result"
    }
   ],
   "source": [
    "del click_buy_feats,context_last_click_gap\n",
    "gc.collect()"
   ]
  },
  {
   "cell_type": "code",
   "execution_count": 59,
   "metadata": {
    "scrolled": true
   },
   "outputs": [],
   "source": [
    "data['index'] = data.index.tolist()\n",
    "index_time = data[['index', 'context_timestamp']].sort_values(by='context_timestamp').reset_index(drop=True)"
   ]
  },
  {
   "cell_type": "code",
   "execution_count": 60,
   "metadata": {},
   "outputs": [],
   "source": [
    "data.drop('index', inplace=True,axis = 1)\n",
    "_t = pd.concat([index_time, glq_crossCvr.reset_index(drop=True)], axis=1).sort_values(by='index').reset_index(drop=True)[glq_crossCvr_cols]"
   ]
  },
  {
   "cell_type": "code",
   "execution_count": 61,
   "metadata": {},
   "outputs": [],
   "source": [
    "for _col in glq_crossCvr_cols:\n",
    "    data[_col] = _t[_col].tolist()"
   ]
  },
  {
   "cell_type": "code",
   "execution_count": 62,
   "metadata": {},
   "outputs": [],
   "source": [
    "del glq_crossCvr, _t"
   ]
  },
  {
   "cell_type": "markdown",
   "metadata": {},
   "source": [
    "# 冷启动特征"
   ]
  },
  {
   "cell_type": "code",
   "execution_count": 63,
   "metadata": {},
   "outputs": [
    {
     "data": {
      "text/plain": [
       "['user_id-hour-browse-is-first', 'user_id-hour-browse-is-last']"
      ]
     },
     "execution_count": 63,
     "metadata": {},
     "output_type": "execute_result"
    }
   ],
   "source": [
    "hour_browse_is_last = pd.read_pickle('../glq/2.data/myfeature/hour_browse_is_last')\n",
    "hour_browse_is_last_cols = hour_browse_is_last.columns.tolist()\n",
    "hour_browse_is_last_cols"
   ]
  },
  {
   "cell_type": "code",
   "execution_count": 64,
   "metadata": {},
   "outputs": [],
   "source": [
    "for _col in hour_browse_is_last_cols:\n",
    "    data[_col] = hour_browse_is_last[_col].tolist()"
   ]
  },
  {
   "cell_type": "code",
   "execution_count": 65,
   "metadata": {},
   "outputs": [
    {
     "data": {
      "text/plain": [
       "310"
      ]
     },
     "execution_count": 65,
     "metadata": {},
     "output_type": "execute_result"
    }
   ],
   "source": [
    "del hour_browse_is_last\n",
    "gc.collect()"
   ]
  },
  {
   "cell_type": "markdown",
   "metadata": {},
   "source": [
    "# userClickSubMeanUnderCat"
   ]
  },
  {
   "cell_type": "code",
   "execution_count": 77,
   "metadata": {},
   "outputs": [
    {
     "data": {
      "text/plain": [
       "['item_price_levelsubUserCatHisMean',\n",
       " 'item_sales_levelsubUserCatHisMean',\n",
       " 'shop_review_num_levelsubUserCatHisMean',\n",
       " 'shop_score_servicesubUserCatHisMean',\n",
       " 'shop_score_deliverysubUserCatHisMean',\n",
       " 'shop_score_descriptionsubUserCatHisMean',\n",
       " 'shop_review_positive_ratesubUserCatHisMean']"
      ]
     },
     "execution_count": 77,
     "metadata": {},
     "output_type": "execute_result"
    }
   ],
   "source": [
    "# user_click_sub_mean_under_cat = pd.read_csv('featFile-b/userClickSubMeanUnderCat.csv')\n",
    "# user_click_sub_mean_under_cat_cols = user_click_sub_mean_under_cat.columns.tolist()\n",
    "# user_click_sub_mean_under_cat_cols"
   ]
  },
  {
   "cell_type": "code",
   "execution_count": 78,
   "metadata": {},
   "outputs": [],
   "source": [
    "# for _col in user_click_sub_mean_under_cat_cols:\n",
    "#     data[_col] = user_click_sub_mean_under_cat[_col].tolist()"
   ]
  },
  {
   "cell_type": "code",
   "execution_count": 79,
   "metadata": {},
   "outputs": [
    {
     "data": {
      "text/plain": [
       "13945"
      ]
     },
     "execution_count": 79,
     "metadata": {},
     "output_type": "execute_result"
    }
   ],
   "source": [
    "# del user_click_sub_mean_under_cat\n",
    "# gc.collect()"
   ]
  },
  {
   "cell_type": "markdown",
   "metadata": {},
   "source": [
    "# 合并"
   ]
  },
  {
   "cell_type": "code",
   "execution_count": 80,
   "metadata": {},
   "outputs": [
    {
     "name": "stdout",
     "output_type": "stream",
     "text": [
      "(2806831, 254)\n"
     ]
    }
   ],
   "source": [
    "just_7 = True # 只用第7填\n",
    "if just_7:\n",
    "    data_7 = data[data.day == 7]\n",
    "print(data_7.shape)"
   ]
  },
  {
   "cell_type": "code",
   "execution_count": 81,
   "metadata": {
    "scrolled": true
   },
   "outputs": [],
   "source": [
    "if just_7:\n",
    "    train, test = data_7[data_7.is_trade.notnull()], data_7[data_7.is_trade.isnull()]\n",
    "    off_train, off_valid = train[train.hour < 10], train[train.hour >= 10]\n",
    "del data_7"
   ]
  },
  {
   "cell_type": "code",
   "execution_count": 82,
   "metadata": {},
   "outputs": [],
   "source": [
    "# 必须drop的特征列\n",
    "drop_features = ['instance_id', 'item_category_list',\n",
    "                 'item_property_list', 'context_id',\n",
    "                 'is_trade', 'predict_category_property',\n",
    "                 'context_timestamp']\n",
    "\n",
    "drop_features += list(filter(lambda x: '.1' in x or '_y' in x or 'Unnamed' in x, data.columns.tolist()))\n",
    "\n",
    "drop_features += ['day', 'halfHour', 'total_hour'] # 保留minute\n",
    "drop_features += ['shop_score_service_level',\n",
    " 'shop_score_delivery_level',\n",
    " 'shop_score_description_level',\n",
    " 'shop_review_positive_rate_level'] # 170291\n",
    "drop_features += list(filter(lambda x: 'clickRatio' in x, data.columns.tolist()))\n",
    "drop_features += preDayUserClickCountFeat_cols # 加了下降\n",
    "drop_features += initClickCountExceptUser_cols # 加了lgb稍升，xgb下降\n",
    "\n",
    "drop_features += crossCvrFeat_gender_age_cols # 加了下降\n",
    "drop_features += crossCvrFeat_occu_cols # 加了下降\n",
    "drop_features += crossCvrFeat_shop_cols # 加了下降\n",
    "drop_features += hour_browse_is_last_cols\n",
    "\n",
    "# crossCvr_cols = crossCvrFeat_gender_age_cols + crossCvrFeat_occu_cols + crossCvrFeat_shop_cols\n",
    "# drop_features += list(filter(lambda x: 'gender' not in x, crossCvr_cols))\n",
    "\n",
    "features = train.drop(drop_features, axis=1).columns.tolist()"
   ]
  },
  {
   "cell_type": "code",
   "execution_count": 83,
   "metadata": {},
   "outputs": [
    {
     "data": {
      "text/plain": [
       "['context_page_id',\n",
       " 'item_brand_id',\n",
       " 'item_city_id',\n",
       " 'item_collected_level',\n",
       " 'item_id',\n",
       " 'item_price_level',\n",
       " 'item_pv_level',\n",
       " 'item_sales_level',\n",
       " 'shop_id',\n",
       " 'shop_review_num_level',\n",
       " 'shop_review_positive_rate',\n",
       " 'shop_score_delivery',\n",
       " 'shop_score_description',\n",
       " 'shop_score_service',\n",
       " 'shop_star_level',\n",
       " 'user_age_level',\n",
       " 'user_gender_id',\n",
       " 'user_id',\n",
       " 'user_occupation_id',\n",
       " 'user_star_level',\n",
       " 'hour',\n",
       " 'minute',\n",
       " 'hour_range',\n",
       " 'acc_jac_sim',\n",
       " 'acc_match_ratio_sim',\n",
       " 'best_predict_cat_hit_level',\n",
       " 'best_prop_jac',\n",
       " 'best_prop_match_ratio',\n",
       " 'item_cat_1',\n",
       " 'item_cat_2',\n",
       " 'predict_cat_hit',\n",
       " 'shop_review_positive_num',\n",
       " 'shop_item_sales_min',\n",
       " 'cat_item_cnt',\n",
       " 'shop_item_price_min',\n",
       " 'shop_user_age_mean',\n",
       " 'shop_cat_num',\n",
       " 'buy_context_ts_user_id_hhour1_before',\n",
       " 'dis_context_ts_user_id_hhour1_before',\n",
       " 'buy_context_ts_user_id_hhour2_before',\n",
       " 'dis_context_ts_user_id_hhour2_before',\n",
       " 'buy_context_ts_user_id_hhour4_before',\n",
       " 'dis_context_ts_user_id_hhour4_before',\n",
       " 'dis_context_ts_user_id_hhour1_after',\n",
       " 'dis_context_ts_user_id_hhour2_after',\n",
       " 'dis_context_ts_user_id_hhour4_after',\n",
       " 'buy_context_ts_item_id_hhour1_before',\n",
       " 'dis_context_ts_item_id_hhour1_before',\n",
       " 'buy_context_ts_item_id_hhour2_before',\n",
       " 'dis_context_ts_item_id_hhour2_before',\n",
       " 'buy_context_ts_item_id_hhour4_before',\n",
       " 'dis_context_ts_item_id_hhour4_before',\n",
       " 'dis_context_ts_item_id_hhour1_after',\n",
       " 'dis_context_ts_item_id_hhour2_after',\n",
       " 'dis_context_ts_item_id_hhour4_after',\n",
       " 'buy_context_ts_shop_id_hhour1_before',\n",
       " 'dis_context_ts_shop_id_hhour1_before',\n",
       " 'buy_context_ts_shop_id_hhour2_before',\n",
       " 'dis_context_ts_shop_id_hhour2_before',\n",
       " 'buy_context_ts_shop_id_hhour4_before',\n",
       " 'dis_context_ts_shop_id_hhour4_before',\n",
       " 'dis_context_ts_shop_id_hhour1_after',\n",
       " 'dis_context_ts_shop_id_hhour2_after',\n",
       " 'dis_context_ts_shop_id_hhour4_after',\n",
       " 'buy_context_ts_user_id_item_id_hhour1_before',\n",
       " 'dis_context_ts_user_id_item_id_hhour1_before',\n",
       " 'buy_context_ts_user_id_item_id_hhour2_before',\n",
       " 'dis_context_ts_user_id_item_id_hhour2_before',\n",
       " 'buy_context_ts_user_id_item_id_hhour4_before',\n",
       " 'dis_context_ts_user_id_item_id_hhour4_before',\n",
       " 'dis_context_ts_user_id_item_id_hhour1_after',\n",
       " 'dis_context_ts_user_id_item_id_hhour2_after',\n",
       " 'dis_context_ts_user_id_item_id_hhour4_after',\n",
       " 'buy_context_ts_user_id_shop_id_hhour1_before',\n",
       " 'dis_context_ts_user_id_shop_id_hhour1_before',\n",
       " 'buy_context_ts_user_id_shop_id_hhour2_before',\n",
       " 'dis_context_ts_user_id_shop_id_hhour2_before',\n",
       " 'buy_context_ts_user_id_shop_id_hhour4_before',\n",
       " 'dis_context_ts_user_id_shop_id_hhour4_before',\n",
       " 'dis_context_ts_user_id_shop_id_hhour1_after',\n",
       " 'dis_context_ts_user_id_shop_id_hhour2_after',\n",
       " 'dis_context_ts_user_id_shop_id_hhour4_after',\n",
       " 'user_id_context_time_gap',\n",
       " 'user_id_context_time_gap_next',\n",
       " 'item_id_context_time_gap',\n",
       " 'item_id_context_time_gap_next',\n",
       " 'shop_id_context_time_gap',\n",
       " 'shop_id_context_time_gap_next',\n",
       " 'user_id_item_id_context_time_gap',\n",
       " 'user_id_item_id_context_time_gap_next',\n",
       " 'user_id_shop_id_context_time_gap',\n",
       " 'item_id_HistoryCVR',\n",
       " 'shop_id_HistoryCVR',\n",
       " 'user_id_HistoryCVR',\n",
       " 'user_age_level_HistoryCVR',\n",
       " 'context_page_id_HistoryCVR',\n",
       " 'item_brand_id_HistoryCVR',\n",
       " 'item_price_level_HistoryCVR',\n",
       " 'item_sales_level_HistoryCVR',\n",
       " 'item_collected_level_HistoryCVR',\n",
       " 'item_cat_1_HistoryCVR',\n",
       " 'user_star_level_HistoryCVR',\n",
       " 'shop_review_num_level_HistoryCVR',\n",
       " 'shop_star_level_HistoryCVR',\n",
       " 'hour_HistoryCVR',\n",
       " 'hour_range_HistoryCVR',\n",
       " 'his_item_cat_1_user_age_level_tradeRatio',\n",
       " 'his_item_cat_1_user_gender_id_tradeRatio',\n",
       " 'his_item_cat_1_user_occupation_id_tradeRatio',\n",
       " 'his_shop_id_user_age_level_tradeRatio',\n",
       " 'his_shop_id_user_gender_id_tradeRatio',\n",
       " 'his_shop_id_user_occupation_id_tradeRatio',\n",
       " 'his_item_price_level_user_age_level_tradeRatio',\n",
       " 'his_item_price_level_user_gender_id_tradeRatio',\n",
       " 'his_item_price_level_user_occupation_id_tradeRatio',\n",
       " 'his_item_brand_id_item_id_tradeRatio',\n",
       " 'his_item_cat_1_item_id_tradeRatio',\n",
       " 'his_item_cat_1_shop_id_tradeRatio',\n",
       " 'his_shop_id_item_id_tradeRatio',\n",
       " 'initUserTotalClickCount',\n",
       " 'initUserDayClickCount',\n",
       " 'initUserHourClickCount',\n",
       " 'initUserTotalItemClickCount',\n",
       " 'initUserDayItemClickCount',\n",
       " 'initUserTotalBrandClickCount',\n",
       " 'initUserDayBrandClickCount',\n",
       " 'initUserTotalCat1ClickCount',\n",
       " 'initUserDayCat1ClickCount',\n",
       " 'initUserHourCat1ClickCount',\n",
       " 'initUserTotalCa2ClickCount',\n",
       " 'initUserDayCat2ClickCount',\n",
       " 'initUserTotalShopClickCount',\n",
       " 'initUserDayShopClickCount',\n",
       " 'initUserHourShopClickCount',\n",
       " 'initUserTotalPriceClickCount',\n",
       " 'initUserDayPriceClickCount',\n",
       " 'initUserTotalCityClickCount',\n",
       " 'initUserDayCityClickCount',\n",
       " 'preDay_initItemClickCount',\n",
       " 'preDay_initItemTradeCount',\n",
       " 'preDay_initShopClickCount',\n",
       " 'preDay_initShopTradeCount',\n",
       " 'preDay_initBrandClickCount',\n",
       " 'preDay_initBrandTradeCount',\n",
       " 'preDay_initCat1ClickCount',\n",
       " 'preDay_initCat1TradeCount',\n",
       " 'preDay_initCat2ClickCount',\n",
       " 'preDay_initCat2TradeCount',\n",
       " 'userTodayAlreadyTradeCount',\n",
       " 'userItemTodayAlreadyTradeCount',\n",
       " 'userCat1TodayAlreadyTradeCount',\n",
       " 'userShopTodayAlreadyTradeCount',\n",
       " 'userBrandTodayAlreadyTradeCount',\n",
       " 'userDayClickRank',\n",
       " 'userDayItemClickRank',\n",
       " 'userDayCatClickRank',\n",
       " 'userDayShopClickRank',\n",
       " 'userDayBrandClickRank',\n",
       " 'item_price_level_subHorizonMean',\n",
       " 'item_sales_level_subHorizonMean',\n",
       " 'shop_review_num_level_subHorizonMean',\n",
       " 'shop_score_service_subHorizonMean',\n",
       " 'shop_score_delivery_subHorizonMean',\n",
       " 'shop_score_description_subHorizonMean',\n",
       " 'shop_review_positive_rate_subHorizonMean',\n",
       " 'item_id-item_brand_id-ratio-7',\n",
       " 'item_id-user_id-ratio-7',\n",
       " 'item_id-shop_id-ratio-7',\n",
       " 'item_brand_id-user_id-ratio-7',\n",
       " 'item_brand_id-shop_id-ratio-7',\n",
       " 'user_id-shop_id-ratio-7',\n",
       " 'item_price_levelsubUserCatHisMean',\n",
       " 'item_sales_levelsubUserCatHisMean',\n",
       " 'shop_review_num_levelsubUserCatHisMean',\n",
       " 'shop_score_servicesubUserCatHisMean',\n",
       " 'shop_score_deliverysubUserCatHisMean',\n",
       " 'shop_score_descriptionsubUserCatHisMean',\n",
       " 'shop_review_positive_ratesubUserCatHisMean']"
      ]
     },
     "execution_count": 83,
     "metadata": {},
     "output_type": "execute_result"
    }
   ],
   "source": [
    "features"
   ]
  },
  {
   "cell_type": "code",
   "execution_count": 89,
   "metadata": {},
   "outputs": [],
   "source": [
    "# 这里别忘了删除掉ratio！！！！！！！"
   ]
  },
  {
   "cell_type": "code",
   "execution_count": 90,
   "metadata": {},
   "outputs": [
    {
     "data": {
      "text/plain": [
       "['context_page_id',\n",
       " 'item_brand_id',\n",
       " 'item_city_id',\n",
       " 'item_collected_level',\n",
       " 'item_id',\n",
       " 'item_price_level',\n",
       " 'item_pv_level',\n",
       " 'item_sales_level',\n",
       " 'shop_id',\n",
       " 'shop_review_num_level',\n",
       " 'shop_review_positive_rate',\n",
       " 'shop_score_delivery',\n",
       " 'shop_score_description',\n",
       " 'shop_score_service',\n",
       " 'shop_star_level',\n",
       " 'user_age_level',\n",
       " 'user_gender_id',\n",
       " 'user_id',\n",
       " 'user_occupation_id',\n",
       " 'user_star_level',\n",
       " 'hour',\n",
       " 'minute',\n",
       " 'hour_range',\n",
       " 'acc_jac_sim',\n",
       " 'acc_match_ratio_sim',\n",
       " 'best_predict_cat_hit_level',\n",
       " 'best_prop_jac',\n",
       " 'best_prop_match_ratio',\n",
       " 'item_cat_1',\n",
       " 'item_cat_2',\n",
       " 'predict_cat_hit',\n",
       " 'shop_review_positive_num',\n",
       " 'shop_item_sales_min',\n",
       " 'cat_item_cnt',\n",
       " 'shop_item_price_min',\n",
       " 'shop_user_age_mean',\n",
       " 'shop_cat_num',\n",
       " 'buy_context_ts_user_id_hhour1_before',\n",
       " 'dis_context_ts_user_id_hhour1_before',\n",
       " 'buy_context_ts_user_id_hhour2_before',\n",
       " 'dis_context_ts_user_id_hhour2_before',\n",
       " 'buy_context_ts_user_id_hhour4_before',\n",
       " 'dis_context_ts_user_id_hhour4_before',\n",
       " 'dis_context_ts_user_id_hhour1_after',\n",
       " 'dis_context_ts_user_id_hhour2_after',\n",
       " 'dis_context_ts_user_id_hhour4_after',\n",
       " 'buy_context_ts_item_id_hhour1_before',\n",
       " 'dis_context_ts_item_id_hhour1_before',\n",
       " 'buy_context_ts_item_id_hhour2_before',\n",
       " 'dis_context_ts_item_id_hhour2_before',\n",
       " 'buy_context_ts_item_id_hhour4_before',\n",
       " 'dis_context_ts_item_id_hhour4_before',\n",
       " 'dis_context_ts_item_id_hhour1_after',\n",
       " 'dis_context_ts_item_id_hhour2_after',\n",
       " 'dis_context_ts_item_id_hhour4_after',\n",
       " 'buy_context_ts_shop_id_hhour1_before',\n",
       " 'dis_context_ts_shop_id_hhour1_before',\n",
       " 'buy_context_ts_shop_id_hhour2_before',\n",
       " 'dis_context_ts_shop_id_hhour2_before',\n",
       " 'buy_context_ts_shop_id_hhour4_before',\n",
       " 'dis_context_ts_shop_id_hhour4_before',\n",
       " 'dis_context_ts_shop_id_hhour1_after',\n",
       " 'dis_context_ts_shop_id_hhour2_after',\n",
       " 'dis_context_ts_shop_id_hhour4_after',\n",
       " 'buy_context_ts_user_id_item_id_hhour1_before',\n",
       " 'dis_context_ts_user_id_item_id_hhour1_before',\n",
       " 'buy_context_ts_user_id_item_id_hhour2_before',\n",
       " 'dis_context_ts_user_id_item_id_hhour2_before',\n",
       " 'buy_context_ts_user_id_item_id_hhour4_before',\n",
       " 'dis_context_ts_user_id_item_id_hhour4_before',\n",
       " 'dis_context_ts_user_id_item_id_hhour1_after',\n",
       " 'dis_context_ts_user_id_item_id_hhour2_after',\n",
       " 'dis_context_ts_user_id_item_id_hhour4_after',\n",
       " 'buy_context_ts_user_id_shop_id_hhour1_before',\n",
       " 'dis_context_ts_user_id_shop_id_hhour1_before',\n",
       " 'buy_context_ts_user_id_shop_id_hhour2_before',\n",
       " 'dis_context_ts_user_id_shop_id_hhour2_before',\n",
       " 'buy_context_ts_user_id_shop_id_hhour4_before',\n",
       " 'dis_context_ts_user_id_shop_id_hhour4_before',\n",
       " 'dis_context_ts_user_id_shop_id_hhour1_after',\n",
       " 'dis_context_ts_user_id_shop_id_hhour2_after',\n",
       " 'dis_context_ts_user_id_shop_id_hhour4_after',\n",
       " 'user_id_context_time_gap',\n",
       " 'user_id_context_time_gap_next',\n",
       " 'item_id_context_time_gap',\n",
       " 'item_id_context_time_gap_next',\n",
       " 'shop_id_context_time_gap',\n",
       " 'shop_id_context_time_gap_next',\n",
       " 'user_id_item_id_context_time_gap',\n",
       " 'user_id_item_id_context_time_gap_next',\n",
       " 'user_id_shop_id_context_time_gap',\n",
       " 'item_id_HistoryCVR',\n",
       " 'shop_id_HistoryCVR',\n",
       " 'user_id_HistoryCVR',\n",
       " 'user_age_level_HistoryCVR',\n",
       " 'context_page_id_HistoryCVR',\n",
       " 'item_brand_id_HistoryCVR',\n",
       " 'item_price_level_HistoryCVR',\n",
       " 'item_sales_level_HistoryCVR',\n",
       " 'item_collected_level_HistoryCVR',\n",
       " 'item_cat_1_HistoryCVR',\n",
       " 'user_star_level_HistoryCVR',\n",
       " 'shop_review_num_level_HistoryCVR',\n",
       " 'shop_star_level_HistoryCVR',\n",
       " 'hour_HistoryCVR',\n",
       " 'hour_range_HistoryCVR',\n",
       " 'his_item_cat_1_user_age_level_tradeRatio',\n",
       " 'his_item_cat_1_user_gender_id_tradeRatio',\n",
       " 'his_item_cat_1_user_occupation_id_tradeRatio',\n",
       " 'his_shop_id_user_age_level_tradeRatio',\n",
       " 'his_shop_id_user_gender_id_tradeRatio',\n",
       " 'his_shop_id_user_occupation_id_tradeRatio',\n",
       " 'his_item_price_level_user_age_level_tradeRatio',\n",
       " 'his_item_price_level_user_gender_id_tradeRatio',\n",
       " 'his_item_price_level_user_occupation_id_tradeRatio',\n",
       " 'his_item_brand_id_item_id_tradeRatio',\n",
       " 'his_item_cat_1_item_id_tradeRatio',\n",
       " 'his_item_cat_1_shop_id_tradeRatio',\n",
       " 'his_shop_id_item_id_tradeRatio',\n",
       " 'initUserTotalClickCount',\n",
       " 'initUserDayClickCount',\n",
       " 'initUserHourClickCount',\n",
       " 'initUserTotalItemClickCount',\n",
       " 'initUserDayItemClickCount',\n",
       " 'initUserTotalBrandClickCount',\n",
       " 'initUserDayBrandClickCount',\n",
       " 'initUserTotalCat1ClickCount',\n",
       " 'initUserDayCat1ClickCount',\n",
       " 'initUserHourCat1ClickCount',\n",
       " 'initUserTotalCa2ClickCount',\n",
       " 'initUserDayCat2ClickCount',\n",
       " 'initUserTotalShopClickCount',\n",
       " 'initUserDayShopClickCount',\n",
       " 'initUserHourShopClickCount',\n",
       " 'initUserTotalPriceClickCount',\n",
       " 'initUserDayPriceClickCount',\n",
       " 'initUserTotalCityClickCount',\n",
       " 'initUserDayCityClickCount',\n",
       " 'preDay_initItemClickCount',\n",
       " 'preDay_initItemTradeCount',\n",
       " 'preDay_initShopClickCount',\n",
       " 'preDay_initShopTradeCount',\n",
       " 'preDay_initBrandClickCount',\n",
       " 'preDay_initBrandTradeCount',\n",
       " 'preDay_initCat1ClickCount',\n",
       " 'preDay_initCat1TradeCount',\n",
       " 'preDay_initCat2ClickCount',\n",
       " 'preDay_initCat2TradeCount',\n",
       " 'userTodayAlreadyTradeCount',\n",
       " 'userItemTodayAlreadyTradeCount',\n",
       " 'userCat1TodayAlreadyTradeCount',\n",
       " 'userShopTodayAlreadyTradeCount',\n",
       " 'userBrandTodayAlreadyTradeCount',\n",
       " 'userDayClickRank',\n",
       " 'userDayItemClickRank',\n",
       " 'userDayCatClickRank',\n",
       " 'userDayShopClickRank',\n",
       " 'userDayBrandClickRank',\n",
       " 'item_price_level_subHorizonMean',\n",
       " 'item_sales_level_subHorizonMean',\n",
       " 'shop_review_num_level_subHorizonMean',\n",
       " 'shop_score_service_subHorizonMean',\n",
       " 'shop_score_delivery_subHorizonMean',\n",
       " 'shop_score_description_subHorizonMean',\n",
       " 'shop_review_positive_rate_subHorizonMean',\n",
       " 'item_price_levelsubUserCatHisMean',\n",
       " 'item_sales_levelsubUserCatHisMean',\n",
       " 'shop_review_num_levelsubUserCatHisMean',\n",
       " 'shop_score_servicesubUserCatHisMean',\n",
       " 'shop_score_deliverysubUserCatHisMean',\n",
       " 'shop_score_descriptionsubUserCatHisMean',\n",
       " 'shop_review_positive_ratesubUserCatHisMean']"
      ]
     },
     "execution_count": 90,
     "metadata": {},
     "output_type": "execute_result"
    }
   ],
   "source": [
    "features"
   ]
  },
  {
   "cell_type": "markdown",
   "metadata": {},
   "source": [
    "# load data"
   ]
  },
  {
   "cell_type": "markdown",
   "metadata": {},
   "source": [
    "- 现在只需运行以下代码"
   ]
  },
  {
   "cell_type": "code",
   "execution_count": 2,
   "metadata": {},
   "outputs": [],
   "source": [
    "train, test = pd.read_pickle('train_all'), pd.read_pickle('test_all')"
   ]
  },
  {
   "cell_type": "code",
   "execution_count": 3,
   "metadata": {},
   "outputs": [],
   "source": [
    "total_pd = train.append(test)"
   ]
  },
  {
   "cell_type": "code",
   "execution_count": 4,
   "metadata": {},
   "outputs": [
    {
     "name": "stdout",
     "output_type": "stream",
     "text": [
      "item_brand_id 108.0 11097\n",
      "item_id 29.0 57493\n",
      "shop_id 76.0 19659\n",
      "user_id 3.0 1115301\n"
     ]
    }
   ],
   "source": [
    "id_features_more = [\"item_brand_id\", \"item_id\", \"shop_id\", \"user_id\"]\n",
    "for fea in id_features_more:\n",
    "    # 去掉低频的id特征\n",
    "    target = total_pd[fea]\n",
    "    cats = target.value_counts()\n",
    "    num = cats.describe()['75%']\n",
    "    print(fea, num, cats.shape[0])\n",
    "    index_val = cats[cats <= num].index\n",
    "\n",
    "    target.loc[target.isin(index_val)] = -1\n",
    "    total_pd[fea] = target"
   ]
  },
  {
   "cell_type": "code",
   "execution_count": 5,
   "metadata": {},
   "outputs": [
    {
     "data": {
      "text/plain": [
       "((1077175, 247), (1729656, 247))"
      ]
     },
     "execution_count": 5,
     "metadata": {},
     "output_type": "execute_result"
    }
   ],
   "source": [
    "train.shape,test.shape"
   ]
  },
  {
   "cell_type": "code",
   "execution_count": 6,
   "metadata": {
    "scrolled": true
   },
   "outputs": [],
   "source": [
    "train = total_pd.iloc[:1077175]\n",
    "test = total_pd.iloc[1077175:]"
   ]
  },
  {
   "cell_type": "code",
   "execution_count": 4,
   "metadata": {
    "scrolled": true
   },
   "outputs": [
    {
     "data": {
      "text/plain": [
       "21"
      ]
     },
     "execution_count": 4,
     "metadata": {},
     "output_type": "execute_result"
    }
   ],
   "source": [
    "# index = pd.read_pickle('../glq/2.data/data_all')['index']\n",
    "# time = pd.read_pickle('../glq/2.data/data_all')['context_timestamp:day']\n",
    "# gc.collect()"
   ]
  },
  {
   "cell_type": "code",
   "execution_count": 5,
   "metadata": {},
   "outputs": [
    {
     "data": {
      "text/plain": [
       "0"
      ]
     },
     "execution_count": 5,
     "metadata": {},
     "output_type": "execute_result"
    }
   ],
   "source": [
    "# t_test = pd.DataFrame(pd.read_pickle('../glq/2.data/myfeature/proportion'))\n",
    "# t_test['index'] = index\n",
    "# t_test.sort_values('index',inplace = True)\n",
    "# t_test = t_test.iloc[10432036:]\n",
    "# t_test.drop(['index'],axis = 1,inplace =True)\n",
    "# t_test.index = test.index\n",
    "# gc.collect()"
   ]
  },
  {
   "cell_type": "code",
   "execution_count": 6,
   "metadata": {},
   "outputs": [
    {
     "data": {
      "text/plain": [
       "0"
      ]
     },
     "execution_count": 6,
     "metadata": {},
     "output_type": "execute_result"
    }
   ],
   "source": [
    "# t_train = pd.DataFrame(pd.read_pickle('../glq/2.data/myfeature/proportion'))\n",
    "# t_train['index'] = index\n",
    "# t_train['context_timestamp:day'] = time\n",
    "# t_train.sort_values('index',inplace = True)\n",
    "# t_train = t_train.iloc[:10432035]\n",
    "# t_train = t_train[t_train['context_timestamp:day'] == 7]\n",
    "# t_train.drop(['index','context_timestamp:day'],axis = 1,inplace =True)\n",
    "# t_train.index = train.index\n",
    "# gc.collect()"
   ]
  },
  {
   "cell_type": "code",
   "execution_count": 7,
   "metadata": {},
   "outputs": [],
   "source": [
    "# def concat(total_pd, new_pd):\n",
    "#     if type(new_pd) == pd.DataFrame:\n",
    "#         for col in new_pd.columns:\n",
    "#             total_pd[col] = new_pd[col]\n",
    "#     elif type(new_pd) == pd.Series:\n",
    "#         total_pd[new_pd.name] = new_pd\n",
    "#     return total_pd"
   ]
  },
  {
   "cell_type": "code",
   "execution_count": 8,
   "metadata": {},
   "outputs": [
    {
     "name": "stdout",
     "output_type": "stream",
     "text": [
      "(1077175, 247) (1729656, 247)\n",
      "(1077175, 250) (1729656, 250)\n"
     ]
    }
   ],
   "source": [
    "# print(train.shape,test.shape)\n",
    "# train = concat(train,t_train)\n",
    "# test = concat(test,t_test)\n",
    "# gc.collect()\n",
    "# print(train.shape,test.shape)"
   ]
  },
  {
   "cell_type": "code",
   "execution_count": 9,
   "metadata": {
    "scrolled": true
   },
   "outputs": [
    {
     "data": {
      "text/plain": [
       "14"
      ]
     },
     "execution_count": 9,
     "metadata": {},
     "output_type": "execute_result"
    }
   ],
   "source": [
    "# del t_train,t_test\n",
    "# gc.collect()"
   ]
  },
  {
   "cell_type": "code",
   "execution_count": 7,
   "metadata": {},
   "outputs": [],
   "source": [
    "off_train, off_valid = train[train.hour < 10], train[train.hour >= 10]"
   ]
  },
  {
   "cell_type": "code",
   "execution_count": 8,
   "metadata": {},
   "outputs": [
    {
     "data": {
      "text/plain": [
       "((807438, 247), (269737, 247), (1729656, 247))"
      ]
     },
     "execution_count": 8,
     "metadata": {},
     "output_type": "execute_result"
    }
   ],
   "source": [
    "off_train.shape, off_valid.shape, test.shape"
   ]
  },
  {
   "cell_type": "code",
   "execution_count": 9,
   "metadata": {},
   "outputs": [],
   "source": [
    "features = ['context_page_id',\n",
    " 'item_brand_id',\n",
    " 'item_city_id',\n",
    " 'item_collected_level',\n",
    " 'item_id',\n",
    " 'item_price_level',\n",
    " 'item_pv_level',\n",
    " 'item_sales_level',\n",
    " 'shop_id',\n",
    " 'shop_review_num_level',\n",
    " 'shop_review_positive_rate',\n",
    " 'shop_score_delivery',\n",
    " 'shop_score_description',\n",
    " 'shop_score_service',\n",
    " 'shop_star_level',\n",
    " 'user_age_level',\n",
    " 'user_gender_id',\n",
    " 'user_id',\n",
    " 'user_occupation_id',\n",
    " 'user_star_level',\n",
    " 'hour',\n",
    " 'minute',\n",
    " 'hour_range',\n",
    " 'acc_jac_sim',\n",
    " 'acc_match_ratio_sim',\n",
    " 'best_predict_cat_hit_level',\n",
    " 'best_prop_jac',\n",
    " 'best_prop_match_ratio',\n",
    " 'item_cat_1',\n",
    " 'item_cat_2',\n",
    " 'predict_cat_hit',\n",
    " 'shop_review_positive_num',\n",
    " 'shop_item_sales_min',\n",
    " 'cat_item_cnt',\n",
    " 'shop_item_price_min',\n",
    " 'shop_user_age_mean',\n",
    " 'shop_cat_num',\n",
    " 'buy_context_ts_user_id_hhour1_before',\n",
    " 'dis_context_ts_user_id_hhour1_before',\n",
    " 'buy_context_ts_user_id_hhour2_before',\n",
    " 'dis_context_ts_user_id_hhour2_before',\n",
    " 'buy_context_ts_user_id_hhour4_before',\n",
    " 'dis_context_ts_user_id_hhour4_before',\n",
    " 'dis_context_ts_user_id_hhour1_after',\n",
    " 'dis_context_ts_user_id_hhour2_after',\n",
    " 'dis_context_ts_user_id_hhour4_after',\n",
    " 'buy_context_ts_item_id_hhour1_before',\n",
    " 'dis_context_ts_item_id_hhour1_before',\n",
    " 'buy_context_ts_item_id_hhour2_before',\n",
    " 'dis_context_ts_item_id_hhour2_before',\n",
    " 'buy_context_ts_item_id_hhour4_before',\n",
    " 'dis_context_ts_item_id_hhour4_before',\n",
    " 'dis_context_ts_item_id_hhour1_after',\n",
    " 'dis_context_ts_item_id_hhour2_after',\n",
    " 'dis_context_ts_item_id_hhour4_after',\n",
    " 'buy_context_ts_shop_id_hhour1_before',\n",
    " 'dis_context_ts_shop_id_hhour1_before',\n",
    " 'buy_context_ts_shop_id_hhour2_before',\n",
    " 'dis_context_ts_shop_id_hhour2_before',\n",
    " 'buy_context_ts_shop_id_hhour4_before',\n",
    " 'dis_context_ts_shop_id_hhour4_before',\n",
    " 'dis_context_ts_shop_id_hhour1_after',\n",
    " 'dis_context_ts_shop_id_hhour2_after',\n",
    " 'dis_context_ts_shop_id_hhour4_after',\n",
    " 'buy_context_ts_user_id_item_id_hhour1_before',\n",
    " 'dis_context_ts_user_id_item_id_hhour1_before',\n",
    " 'buy_context_ts_user_id_item_id_hhour2_before',\n",
    " 'dis_context_ts_user_id_item_id_hhour2_before',\n",
    " 'buy_context_ts_user_id_item_id_hhour4_before',\n",
    " 'dis_context_ts_user_id_item_id_hhour4_before',\n",
    " 'dis_context_ts_user_id_item_id_hhour1_after',\n",
    " 'dis_context_ts_user_id_item_id_hhour2_after',\n",
    " 'dis_context_ts_user_id_item_id_hhour4_after',\n",
    " 'buy_context_ts_user_id_shop_id_hhour1_before',\n",
    " 'dis_context_ts_user_id_shop_id_hhour1_before',\n",
    " 'buy_context_ts_user_id_shop_id_hhour2_before',\n",
    " 'dis_context_ts_user_id_shop_id_hhour2_before',\n",
    " 'buy_context_ts_user_id_shop_id_hhour4_before',\n",
    " 'dis_context_ts_user_id_shop_id_hhour4_before',\n",
    " 'dis_context_ts_user_id_shop_id_hhour1_after',\n",
    " 'dis_context_ts_user_id_shop_id_hhour2_after',\n",
    " 'dis_context_ts_user_id_shop_id_hhour4_after',\n",
    " 'user_id_context_time_gap',\n",
    " 'user_id_context_time_gap_next',\n",
    " 'item_id_context_time_gap',\n",
    " 'item_id_context_time_gap_next',\n",
    " 'shop_id_context_time_gap',\n",
    " 'shop_id_context_time_gap_next',\n",
    " 'user_id_item_id_context_time_gap',\n",
    " 'user_id_item_id_context_time_gap_next',\n",
    " 'user_id_shop_id_context_time_gap',\n",
    " 'item_id_HistoryCVR',\n",
    " 'shop_id_HistoryCVR',\n",
    " 'user_id_HistoryCVR',\n",
    " 'user_age_level_HistoryCVR',\n",
    " 'context_page_id_HistoryCVR',\n",
    " 'item_brand_id_HistoryCVR',\n",
    " 'item_price_level_HistoryCVR',\n",
    " 'item_sales_level_HistoryCVR',\n",
    " 'item_collected_level_HistoryCVR',\n",
    " 'item_cat_1_HistoryCVR',\n",
    " 'user_star_level_HistoryCVR',\n",
    " 'shop_review_num_level_HistoryCVR',\n",
    " 'shop_star_level_HistoryCVR',\n",
    " 'hour_HistoryCVR',\n",
    " 'hour_range_HistoryCVR',\n",
    " 'his_item_cat_1_user_age_level_tradeRatio',\n",
    " 'his_item_cat_1_user_gender_id_tradeRatio',\n",
    " 'his_item_cat_1_user_occupation_id_tradeRatio',\n",
    " 'his_shop_id_user_age_level_tradeRatio',\n",
    " 'his_shop_id_user_gender_id_tradeRatio',\n",
    " 'his_shop_id_user_occupation_id_tradeRatio',\n",
    " 'his_item_price_level_user_age_level_tradeRatio',\n",
    " 'his_item_price_level_user_gender_id_tradeRatio',\n",
    " 'his_item_price_level_user_occupation_id_tradeRatio',\n",
    " 'his_item_brand_id_item_id_tradeRatio',\n",
    " 'his_item_cat_1_item_id_tradeRatio',\n",
    " 'his_item_cat_1_shop_id_tradeRatio',\n",
    " 'his_shop_id_item_id_tradeRatio',\n",
    " 'initUserTotalClickCount',\n",
    " 'initUserDayClickCount',\n",
    " 'initUserHourClickCount',\n",
    " 'initUserTotalItemClickCount',\n",
    " 'initUserDayItemClickCount',\n",
    " 'initUserTotalBrandClickCount',\n",
    " 'initUserDayBrandClickCount',\n",
    " 'initUserTotalCat1ClickCount',\n",
    " 'initUserDayCat1ClickCount',\n",
    " 'initUserHourCat1ClickCount',\n",
    " 'initUserTotalCa2ClickCount',\n",
    " 'initUserDayCat2ClickCount',\n",
    " 'initUserTotalShopClickCount',\n",
    " 'initUserDayShopClickCount',\n",
    " 'initUserHourShopClickCount',\n",
    " 'initUserTotalPriceClickCount',\n",
    " 'initUserDayPriceClickCount',\n",
    " 'initUserTotalCityClickCount',\n",
    " 'initUserDayCityClickCount',\n",
    " 'preDay_initItemClickCount',\n",
    " 'preDay_initItemTradeCount',\n",
    " 'preDay_initShopClickCount',\n",
    " 'preDay_initShopTradeCount',\n",
    " 'preDay_initBrandClickCount',\n",
    " 'preDay_initBrandTradeCount',\n",
    " 'preDay_initCat1ClickCount',\n",
    " 'preDay_initCat1TradeCount',\n",
    " 'preDay_initCat2ClickCount',\n",
    " 'preDay_initCat2TradeCount',\n",
    " 'userTodayAlreadyTradeCount',\n",
    " 'userItemTodayAlreadyTradeCount',\n",
    " 'userCat1TodayAlreadyTradeCount',\n",
    " 'userShopTodayAlreadyTradeCount',\n",
    " 'userBrandTodayAlreadyTradeCount',\n",
    " 'userDayClickRank',\n",
    " 'userDayItemClickRank',\n",
    " 'userDayCatClickRank',\n",
    " 'userDayShopClickRank',\n",
    " 'userDayBrandClickRank',\n",
    " 'item_price_level_subHorizonMean',\n",
    " 'item_sales_level_subHorizonMean',\n",
    " 'shop_review_num_level_subHorizonMean',\n",
    " 'shop_score_service_subHorizonMean',\n",
    " 'shop_score_delivery_subHorizonMean',\n",
    " 'shop_score_description_subHorizonMean',\n",
    " 'shop_review_positive_rate_subHorizonMean',\n",
    "\n",
    "]"
   ]
  },
  {
   "cell_type": "code",
   "execution_count": 10,
   "metadata": {},
   "outputs": [
    {
     "data": {
      "text/plain": [
       "165"
      ]
     },
     "execution_count": 10,
     "metadata": {},
     "output_type": "execute_result"
    }
   ],
   "source": [
    "len(features)"
   ]
  },
  {
   "cell_type": "code",
   "execution_count": null,
   "metadata": {},
   "outputs": [],
   "source": [
    "# del train\n",
    "# gc.collect()"
   ]
  },
  {
   "cell_type": "markdown",
   "metadata": {},
   "source": [
    "# LGB训练"
   ]
  },
  {
   "cell_type": "code",
   "execution_count": 11,
   "metadata": {},
   "outputs": [],
   "source": [
    "off_train_all = off_train"
   ]
  },
  {
   "cell_type": "code",
   "execution_count": 95,
   "metadata": {},
   "outputs": [],
   "source": [
    "off_train = off_train_all.sample(frac = 0.9,axis=0,random_state = 9999)"
   ]
  },
  {
   "cell_type": "code",
   "execution_count": 96,
   "metadata": {
    "scrolled": true
   },
   "outputs": [
    {
     "name": "stdout",
     "output_type": "stream",
     "text": [
      "[1]\tvalid_0's binary_logloss: 0.652649\n",
      "Training until validation scores don't improve for 50 rounds.\n",
      "[2]\tvalid_0's binary_logloss: 0.615991\n",
      "[3]\tvalid_0's binary_logloss: 0.582686\n",
      "[4]\tvalid_0's binary_logloss: 0.552344\n",
      "[5]\tvalid_0's binary_logloss: 0.524593\n",
      "[6]\tvalid_0's binary_logloss: 0.49913\n",
      "[7]\tvalid_0's binary_logloss: 0.475731\n",
      "[8]\tvalid_0's binary_logloss: 0.454158\n",
      "[9]\tvalid_0's binary_logloss: 0.43425\n",
      "[10]\tvalid_0's binary_logloss: 0.415874\n",
      "[11]\tvalid_0's binary_logloss: 0.398862\n",
      "[12]\tvalid_0's binary_logloss: 0.383085\n",
      "[13]\tvalid_0's binary_logloss: 0.368458\n",
      "[14]\tvalid_0's binary_logloss: 0.354878\n",
      "[15]\tvalid_0's binary_logloss: 0.342269\n",
      "[16]\tvalid_0's binary_logloss: 0.330535\n",
      "[17]\tvalid_0's binary_logloss: 0.319627\n",
      "[18]\tvalid_0's binary_logloss: 0.309458\n",
      "[19]\tvalid_0's binary_logloss: 0.299993\n",
      "[20]\tvalid_0's binary_logloss: 0.291166\n",
      "[21]\tvalid_0's binary_logloss: 0.282912\n",
      "[22]\tvalid_0's binary_logloss: 0.27522\n",
      "[23]\tvalid_0's binary_logloss: 0.268029\n",
      "[24]\tvalid_0's binary_logloss: 0.261312\n",
      "[25]\tvalid_0's binary_logloss: 0.255039\n",
      "[26]\tvalid_0's binary_logloss: 0.249187\n",
      "[27]\tvalid_0's binary_logloss: 0.243714\n",
      "[28]\tvalid_0's binary_logloss: 0.238596\n",
      "[29]\tvalid_0's binary_logloss: 0.233816\n",
      "[30]\tvalid_0's binary_logloss: 0.229339\n",
      "[31]\tvalid_0's binary_logloss: 0.225143\n",
      "[32]\tvalid_0's binary_logloss: 0.221224\n",
      "[33]\tvalid_0's binary_logloss: 0.217558\n",
      "[34]\tvalid_0's binary_logloss: 0.214127\n",
      "[35]\tvalid_0's binary_logloss: 0.210918\n",
      "[36]\tvalid_0's binary_logloss: 0.207916\n",
      "[37]\tvalid_0's binary_logloss: 0.205105\n",
      "[38]\tvalid_0's binary_logloss: 0.2025\n",
      "[39]\tvalid_0's binary_logloss: 0.200058\n",
      "[40]\tvalid_0's binary_logloss: 0.197776\n",
      "[41]\tvalid_0's binary_logloss: 0.195627\n",
      "[42]\tvalid_0's binary_logloss: 0.193623\n",
      "[43]\tvalid_0's binary_logloss: 0.191747\n",
      "[44]\tvalid_0's binary_logloss: 0.189988\n",
      "[45]\tvalid_0's binary_logloss: 0.188351\n",
      "[46]\tvalid_0's binary_logloss: 0.186809\n",
      "[47]\tvalid_0's binary_logloss: 0.185361\n",
      "[48]\tvalid_0's binary_logloss: 0.184025\n",
      "[49]\tvalid_0's binary_logloss: 0.182767\n",
      "[50]\tvalid_0's binary_logloss: 0.181588\n",
      "[51]\tvalid_0's binary_logloss: 0.180485\n",
      "[52]\tvalid_0's binary_logloss: 0.179466\n",
      "[53]\tvalid_0's binary_logloss: 0.178512\n",
      "[54]\tvalid_0's binary_logloss: 0.177613\n",
      "[55]\tvalid_0's binary_logloss: 0.176772\n",
      "[56]\tvalid_0's binary_logloss: 0.175984\n",
      "[57]\tvalid_0's binary_logloss: 0.175243\n",
      "[58]\tvalid_0's binary_logloss: 0.174567\n",
      "[59]\tvalid_0's binary_logloss: 0.173929\n",
      "[60]\tvalid_0's binary_logloss: 0.173323\n",
      "[61]\tvalid_0's binary_logloss: 0.172754\n",
      "[62]\tvalid_0's binary_logloss: 0.172219\n",
      "[63]\tvalid_0's binary_logloss: 0.171738\n",
      "[64]\tvalid_0's binary_logloss: 0.171269\n",
      "[65]\tvalid_0's binary_logloss: 0.170834\n",
      "[66]\tvalid_0's binary_logloss: 0.170412\n",
      "[67]\tvalid_0's binary_logloss: 0.170023\n",
      "[68]\tvalid_0's binary_logloss: 0.169655\n",
      "[69]\tvalid_0's binary_logloss: 0.169316\n",
      "[70]\tvalid_0's binary_logloss: 0.168996\n",
      "[71]\tvalid_0's binary_logloss: 0.168703\n",
      "[72]\tvalid_0's binary_logloss: 0.168428\n",
      "[73]\tvalid_0's binary_logloss: 0.16817\n",
      "[74]\tvalid_0's binary_logloss: 0.167936\n",
      "[75]\tvalid_0's binary_logloss: 0.167701\n",
      "[76]\tvalid_0's binary_logloss: 0.167477\n",
      "[77]\tvalid_0's binary_logloss: 0.167261\n",
      "[78]\tvalid_0's binary_logloss: 0.167065\n",
      "[79]\tvalid_0's binary_logloss: 0.166889\n",
      "[80]\tvalid_0's binary_logloss: 0.166708\n",
      "[81]\tvalid_0's binary_logloss: 0.166543\n",
      "[82]\tvalid_0's binary_logloss: 0.166374\n",
      "[83]\tvalid_0's binary_logloss: 0.166229\n",
      "[84]\tvalid_0's binary_logloss: 0.166095\n",
      "[85]\tvalid_0's binary_logloss: 0.165958\n",
      "[86]\tvalid_0's binary_logloss: 0.165827\n",
      "[87]\tvalid_0's binary_logloss: 0.165699\n",
      "[88]\tvalid_0's binary_logloss: 0.165582\n",
      "[89]\tvalid_0's binary_logloss: 0.165493\n",
      "[90]\tvalid_0's binary_logloss: 0.16539\n",
      "[91]\tvalid_0's binary_logloss: 0.165296\n",
      "[92]\tvalid_0's binary_logloss: 0.165194\n",
      "[93]\tvalid_0's binary_logloss: 0.165107\n",
      "[94]\tvalid_0's binary_logloss: 0.165019\n",
      "[95]\tvalid_0's binary_logloss: 0.16496\n",
      "[96]\tvalid_0's binary_logloss: 0.164882\n",
      "[97]\tvalid_0's binary_logloss: 0.164808\n",
      "[98]\tvalid_0's binary_logloss: 0.16473\n",
      "[99]\tvalid_0's binary_logloss: 0.164663\n",
      "[100]\tvalid_0's binary_logloss: 0.164595\n",
      "[101]\tvalid_0's binary_logloss: 0.16453\n",
      "[102]\tvalid_0's binary_logloss: 0.164486\n",
      "[103]\tvalid_0's binary_logloss: 0.164427\n",
      "[104]\tvalid_0's binary_logloss: 0.164375\n",
      "[105]\tvalid_0's binary_logloss: 0.164329\n",
      "[106]\tvalid_0's binary_logloss: 0.164261\n",
      "[107]\tvalid_0's binary_logloss: 0.164209\n",
      "[108]\tvalid_0's binary_logloss: 0.164161\n",
      "[109]\tvalid_0's binary_logloss: 0.164121\n",
      "[110]\tvalid_0's binary_logloss: 0.164086\n",
      "[111]\tvalid_0's binary_logloss: 0.164046\n",
      "[112]\tvalid_0's binary_logloss: 0.164011\n",
      "[113]\tvalid_0's binary_logloss: 0.163971\n",
      "[114]\tvalid_0's binary_logloss: 0.163938\n",
      "[115]\tvalid_0's binary_logloss: 0.163899\n",
      "[116]\tvalid_0's binary_logloss: 0.163871\n",
      "[117]\tvalid_0's binary_logloss: 0.163846\n",
      "[118]\tvalid_0's binary_logloss: 0.163816\n",
      "[119]\tvalid_0's binary_logloss: 0.163786\n",
      "[120]\tvalid_0's binary_logloss: 0.163741\n",
      "[121]\tvalid_0's binary_logloss: 0.163704\n",
      "[122]\tvalid_0's binary_logloss: 0.163677\n",
      "[123]\tvalid_0's binary_logloss: 0.163646\n",
      "[124]\tvalid_0's binary_logloss: 0.163615\n",
      "[125]\tvalid_0's binary_logloss: 0.163596\n",
      "[126]\tvalid_0's binary_logloss: 0.163573\n",
      "[127]\tvalid_0's binary_logloss: 0.163562\n",
      "[128]\tvalid_0's binary_logloss: 0.16353\n",
      "[129]\tvalid_0's binary_logloss: 0.16351\n",
      "[130]\tvalid_0's binary_logloss: 0.163496\n",
      "[131]\tvalid_0's binary_logloss: 0.163476\n",
      "[132]\tvalid_0's binary_logloss: 0.163452\n",
      "[133]\tvalid_0's binary_logloss: 0.163439\n",
      "[134]\tvalid_0's binary_logloss: 0.163418\n",
      "[135]\tvalid_0's binary_logloss: 0.1634\n",
      "[136]\tvalid_0's binary_logloss: 0.163386\n",
      "[137]\tvalid_0's binary_logloss: 0.163368\n",
      "[138]\tvalid_0's binary_logloss: 0.163341\n",
      "[139]\tvalid_0's binary_logloss: 0.16333\n",
      "[140]\tvalid_0's binary_logloss: 0.163311\n",
      "[141]\tvalid_0's binary_logloss: 0.163296\n",
      "[142]\tvalid_0's binary_logloss: 0.163279\n",
      "[143]\tvalid_0's binary_logloss: 0.163257\n",
      "[144]\tvalid_0's binary_logloss: 0.163241\n",
      "[145]\tvalid_0's binary_logloss: 0.163238\n",
      "[146]\tvalid_0's binary_logloss: 0.163216\n",
      "[147]\tvalid_0's binary_logloss: 0.163207\n",
      "[148]\tvalid_0's binary_logloss: 0.163198\n",
      "[149]\tvalid_0's binary_logloss: 0.163186\n",
      "[150]\tvalid_0's binary_logloss: 0.163173\n",
      "[151]\tvalid_0's binary_logloss: 0.163148\n",
      "[152]\tvalid_0's binary_logloss: 0.163138\n",
      "[153]\tvalid_0's binary_logloss: 0.163121\n",
      "[154]\tvalid_0's binary_logloss: 0.163106\n",
      "[155]\tvalid_0's binary_logloss: 0.163084\n",
      "[156]\tvalid_0's binary_logloss: 0.163077\n",
      "[157]\tvalid_0's binary_logloss: 0.163073\n",
      "[158]\tvalid_0's binary_logloss: 0.163057\n",
      "[159]\tvalid_0's binary_logloss: 0.163045\n",
      "[160]\tvalid_0's binary_logloss: 0.163025\n",
      "[161]\tvalid_0's binary_logloss: 0.163013\n",
      "[162]\tvalid_0's binary_logloss: 0.163011\n",
      "[163]\tvalid_0's binary_logloss: 0.163005\n",
      "[164]\tvalid_0's binary_logloss: 0.163004\n",
      "[165]\tvalid_0's binary_logloss: 0.162997\n",
      "[166]\tvalid_0's binary_logloss: 0.162987\n",
      "[167]\tvalid_0's binary_logloss: 0.162982\n",
      "[168]\tvalid_0's binary_logloss: 0.162979\n",
      "[169]\tvalid_0's binary_logloss: 0.162983\n",
      "[170]\tvalid_0's binary_logloss: 0.162979\n",
      "[171]\tvalid_0's binary_logloss: 0.162965\n",
      "[172]\tvalid_0's binary_logloss: 0.162955\n",
      "[173]\tvalid_0's binary_logloss: 0.162944\n",
      "[174]\tvalid_0's binary_logloss: 0.16293\n",
      "[175]\tvalid_0's binary_logloss: 0.162924\n",
      "[176]\tvalid_0's binary_logloss: 0.162918\n",
      "[177]\tvalid_0's binary_logloss: 0.162915\n",
      "[178]\tvalid_0's binary_logloss: 0.162909\n",
      "[179]\tvalid_0's binary_logloss: 0.162899\n",
      "[180]\tvalid_0's binary_logloss: 0.162893\n",
      "[181]\tvalid_0's binary_logloss: 0.162887\n",
      "[182]\tvalid_0's binary_logloss: 0.162875\n",
      "[183]\tvalid_0's binary_logloss: 0.162867\n",
      "[184]\tvalid_0's binary_logloss: 0.162865\n",
      "[185]\tvalid_0's binary_logloss: 0.162851\n",
      "[186]\tvalid_0's binary_logloss: 0.162848\n",
      "[187]\tvalid_0's binary_logloss: 0.162833\n",
      "[188]\tvalid_0's binary_logloss: 0.162818\n",
      "[189]\tvalid_0's binary_logloss: 0.162815\n",
      "[190]\tvalid_0's binary_logloss: 0.162813\n",
      "[191]\tvalid_0's binary_logloss: 0.162811\n",
      "[192]\tvalid_0's binary_logloss: 0.162801\n",
      "[193]\tvalid_0's binary_logloss: 0.162796\n",
      "[194]\tvalid_0's binary_logloss: 0.162795\n",
      "[195]\tvalid_0's binary_logloss: 0.162788\n",
      "[196]\tvalid_0's binary_logloss: 0.162787\n",
      "[197]\tvalid_0's binary_logloss: 0.162776\n",
      "[198]\tvalid_0's binary_logloss: 0.162772\n",
      "[199]\tvalid_0's binary_logloss: 0.162761\n",
      "[200]\tvalid_0's binary_logloss: 0.162762\n",
      "[201]\tvalid_0's binary_logloss: 0.162759\n",
      "[202]\tvalid_0's binary_logloss: 0.162758\n"
     ]
    },
    {
     "name": "stdout",
     "output_type": "stream",
     "text": [
      "[203]\tvalid_0's binary_logloss: 0.162751\n",
      "[204]\tvalid_0's binary_logloss: 0.162748\n",
      "[205]\tvalid_0's binary_logloss: 0.162747\n",
      "[206]\tvalid_0's binary_logloss: 0.162743\n",
      "[207]\tvalid_0's binary_logloss: 0.162739\n",
      "[208]\tvalid_0's binary_logloss: 0.162741\n",
      "[209]\tvalid_0's binary_logloss: 0.162731\n",
      "[210]\tvalid_0's binary_logloss: 0.162731\n",
      "[211]\tvalid_0's binary_logloss: 0.162741\n",
      "[212]\tvalid_0's binary_logloss: 0.162738\n",
      "[213]\tvalid_0's binary_logloss: 0.162734\n",
      "[214]\tvalid_0's binary_logloss: 0.162731\n",
      "[215]\tvalid_0's binary_logloss: 0.162728\n",
      "[216]\tvalid_0's binary_logloss: 0.162719\n",
      "[217]\tvalid_0's binary_logloss: 0.162723\n",
      "[218]\tvalid_0's binary_logloss: 0.16273\n",
      "[219]\tvalid_0's binary_logloss: 0.162731\n",
      "[220]\tvalid_0's binary_logloss: 0.16273\n",
      "[221]\tvalid_0's binary_logloss: 0.16273\n",
      "[222]\tvalid_0's binary_logloss: 0.162732\n",
      "[223]\tvalid_0's binary_logloss: 0.162728\n",
      "[224]\tvalid_0's binary_logloss: 0.162722\n",
      "[225]\tvalid_0's binary_logloss: 0.162725\n",
      "[226]\tvalid_0's binary_logloss: 0.162718\n",
      "[227]\tvalid_0's binary_logloss: 0.162717\n",
      "[228]\tvalid_0's binary_logloss: 0.162713\n",
      "[229]\tvalid_0's binary_logloss: 0.162707\n",
      "[230]\tvalid_0's binary_logloss: 0.162706\n",
      "[231]\tvalid_0's binary_logloss: 0.162697\n",
      "[232]\tvalid_0's binary_logloss: 0.162699\n",
      "[233]\tvalid_0's binary_logloss: 0.1627\n",
      "[234]\tvalid_0's binary_logloss: 0.162696\n",
      "[235]\tvalid_0's binary_logloss: 0.162692\n",
      "[236]\tvalid_0's binary_logloss: 0.162691\n",
      "[237]\tvalid_0's binary_logloss: 0.162688\n",
      "[238]\tvalid_0's binary_logloss: 0.162682\n",
      "[239]\tvalid_0's binary_logloss: 0.162678\n",
      "[240]\tvalid_0's binary_logloss: 0.162681\n",
      "[241]\tvalid_0's binary_logloss: 0.162681\n",
      "[242]\tvalid_0's binary_logloss: 0.162681\n",
      "[243]\tvalid_0's binary_logloss: 0.16268\n",
      "[244]\tvalid_0's binary_logloss: 0.162685\n",
      "[245]\tvalid_0's binary_logloss: 0.162684\n",
      "[246]\tvalid_0's binary_logloss: 0.162678\n",
      "[247]\tvalid_0's binary_logloss: 0.162673\n",
      "[248]\tvalid_0's binary_logloss: 0.162671\n",
      "[249]\tvalid_0's binary_logloss: 0.16267\n",
      "[250]\tvalid_0's binary_logloss: 0.162661\n",
      "[251]\tvalid_0's binary_logloss: 0.162667\n",
      "[252]\tvalid_0's binary_logloss: 0.162668\n",
      "[253]\tvalid_0's binary_logloss: 0.162666\n",
      "[254]\tvalid_0's binary_logloss: 0.162668\n",
      "[255]\tvalid_0's binary_logloss: 0.162671\n",
      "[256]\tvalid_0's binary_logloss: 0.162669\n",
      "[257]\tvalid_0's binary_logloss: 0.162669\n",
      "[258]\tvalid_0's binary_logloss: 0.162671\n",
      "[259]\tvalid_0's binary_logloss: 0.162677\n",
      "[260]\tvalid_0's binary_logloss: 0.162677\n",
      "[261]\tvalid_0's binary_logloss: 0.16268\n",
      "[262]\tvalid_0's binary_logloss: 0.162679\n",
      "[263]\tvalid_0's binary_logloss: 0.162685\n",
      "[264]\tvalid_0's binary_logloss: 0.162686\n",
      "[265]\tvalid_0's binary_logloss: 0.162692\n",
      "[266]\tvalid_0's binary_logloss: 0.16269\n",
      "[267]\tvalid_0's binary_logloss: 0.162686\n",
      "[268]\tvalid_0's binary_logloss: 0.162689\n",
      "[269]\tvalid_0's binary_logloss: 0.162686\n",
      "[270]\tvalid_0's binary_logloss: 0.162688\n",
      "[271]\tvalid_0's binary_logloss: 0.162689\n",
      "[272]\tvalid_0's binary_logloss: 0.162681\n",
      "[273]\tvalid_0's binary_logloss: 0.162677\n",
      "[274]\tvalid_0's binary_logloss: 0.162669\n",
      "[275]\tvalid_0's binary_logloss: 0.162671\n",
      "[276]\tvalid_0's binary_logloss: 0.162674\n",
      "[277]\tvalid_0's binary_logloss: 0.162673\n",
      "[278]\tvalid_0's binary_logloss: 0.162674\n",
      "[279]\tvalid_0's binary_logloss: 0.162677\n",
      "[280]\tvalid_0's binary_logloss: 0.16267\n",
      "[281]\tvalid_0's binary_logloss: 0.162674\n",
      "[282]\tvalid_0's binary_logloss: 0.162672\n",
      "[283]\tvalid_0's binary_logloss: 0.162674\n",
      "[284]\tvalid_0's binary_logloss: 0.162677\n",
      "[285]\tvalid_0's binary_logloss: 0.162675\n",
      "[286]\tvalid_0's binary_logloss: 0.162672\n",
      "[287]\tvalid_0's binary_logloss: 0.162673\n",
      "[288]\tvalid_0's binary_logloss: 0.162675\n",
      "[289]\tvalid_0's binary_logloss: 0.162664\n",
      "[290]\tvalid_0's binary_logloss: 0.162662\n",
      "[291]\tvalid_0's binary_logloss: 0.162661\n",
      "[292]\tvalid_0's binary_logloss: 0.162661\n",
      "[293]\tvalid_0's binary_logloss: 0.162659\n",
      "[294]\tvalid_0's binary_logloss: 0.162658\n",
      "[295]\tvalid_0's binary_logloss: 0.162661\n",
      "[296]\tvalid_0's binary_logloss: 0.162661\n",
      "[297]\tvalid_0's binary_logloss: 0.162662\n",
      "[298]\tvalid_0's binary_logloss: 0.162663\n",
      "[299]\tvalid_0's binary_logloss: 0.162666\n",
      "[300]\tvalid_0's binary_logloss: 0.162662\n",
      "[301]\tvalid_0's binary_logloss: 0.162655\n",
      "[302]\tvalid_0's binary_logloss: 0.162653\n",
      "[303]\tvalid_0's binary_logloss: 0.162645\n",
      "[304]\tvalid_0's binary_logloss: 0.162647\n",
      "[305]\tvalid_0's binary_logloss: 0.162646\n",
      "[306]\tvalid_0's binary_logloss: 0.162646\n",
      "[307]\tvalid_0's binary_logloss: 0.162643\n",
      "[308]\tvalid_0's binary_logloss: 0.16264\n",
      "[309]\tvalid_0's binary_logloss: 0.16264\n",
      "[310]\tvalid_0's binary_logloss: 0.162636\n",
      "[311]\tvalid_0's binary_logloss: 0.162635\n",
      "[312]\tvalid_0's binary_logloss: 0.162638\n",
      "[313]\tvalid_0's binary_logloss: 0.162634\n",
      "[314]\tvalid_0's binary_logloss: 0.162636\n",
      "[315]\tvalid_0's binary_logloss: 0.162637\n",
      "[316]\tvalid_0's binary_logloss: 0.162642\n",
      "[317]\tvalid_0's binary_logloss: 0.162639\n",
      "[318]\tvalid_0's binary_logloss: 0.16264\n",
      "[319]\tvalid_0's binary_logloss: 0.16264\n",
      "[320]\tvalid_0's binary_logloss: 0.16264\n",
      "[321]\tvalid_0's binary_logloss: 0.16264\n",
      "[322]\tvalid_0's binary_logloss: 0.162638\n",
      "[323]\tvalid_0's binary_logloss: 0.162639\n",
      "[324]\tvalid_0's binary_logloss: 0.162635\n",
      "[325]\tvalid_0's binary_logloss: 0.162639\n",
      "[326]\tvalid_0's binary_logloss: 0.162639\n",
      "[327]\tvalid_0's binary_logloss: 0.162638\n",
      "[328]\tvalid_0's binary_logloss: 0.162639\n",
      "[329]\tvalid_0's binary_logloss: 0.162642\n",
      "[330]\tvalid_0's binary_logloss: 0.162639\n",
      "[331]\tvalid_0's binary_logloss: 0.16263\n",
      "[332]\tvalid_0's binary_logloss: 0.16263\n",
      "[333]\tvalid_0's binary_logloss: 0.162629\n",
      "[334]\tvalid_0's binary_logloss: 0.162627\n",
      "[335]\tvalid_0's binary_logloss: 0.162622\n",
      "[336]\tvalid_0's binary_logloss: 0.162619\n",
      "[337]\tvalid_0's binary_logloss: 0.162616\n",
      "[338]\tvalid_0's binary_logloss: 0.162612\n",
      "[339]\tvalid_0's binary_logloss: 0.162615\n",
      "[340]\tvalid_0's binary_logloss: 0.16261\n",
      "[341]\tvalid_0's binary_logloss: 0.162616\n",
      "[342]\tvalid_0's binary_logloss: 0.162613\n",
      "[343]\tvalid_0's binary_logloss: 0.162618\n",
      "[344]\tvalid_0's binary_logloss: 0.162623\n",
      "[345]\tvalid_0's binary_logloss: 0.16263\n",
      "[346]\tvalid_0's binary_logloss: 0.162638\n",
      "[347]\tvalid_0's binary_logloss: 0.162642\n",
      "[348]\tvalid_0's binary_logloss: 0.162642\n",
      "[349]\tvalid_0's binary_logloss: 0.162642\n",
      "[350]\tvalid_0's binary_logloss: 0.162647\n",
      "[351]\tvalid_0's binary_logloss: 0.162651\n",
      "[352]\tvalid_0's binary_logloss: 0.162648\n",
      "[353]\tvalid_0's binary_logloss: 0.162648\n",
      "[354]\tvalid_0's binary_logloss: 0.162654\n",
      "[355]\tvalid_0's binary_logloss: 0.162655\n",
      "[356]\tvalid_0's binary_logloss: 0.162651\n",
      "[357]\tvalid_0's binary_logloss: 0.162648\n",
      "[358]\tvalid_0's binary_logloss: 0.162648\n",
      "[359]\tvalid_0's binary_logloss: 0.162649\n",
      "[360]\tvalid_0's binary_logloss: 0.162643\n",
      "[361]\tvalid_0's binary_logloss: 0.162643\n",
      "[362]\tvalid_0's binary_logloss: 0.162642\n",
      "[363]\tvalid_0's binary_logloss: 0.162644\n",
      "[364]\tvalid_0's binary_logloss: 0.162644\n",
      "[365]\tvalid_0's binary_logloss: 0.162646\n",
      "[366]\tvalid_0's binary_logloss: 0.162646\n",
      "[367]\tvalid_0's binary_logloss: 0.162648\n",
      "[368]\tvalid_0's binary_logloss: 0.162647\n",
      "[369]\tvalid_0's binary_logloss: 0.162646\n",
      "[370]\tvalid_0's binary_logloss: 0.162648\n",
      "[371]\tvalid_0's binary_logloss: 0.162638\n",
      "[372]\tvalid_0's binary_logloss: 0.162639\n",
      "[373]\tvalid_0's binary_logloss: 0.162644\n",
      "[374]\tvalid_0's binary_logloss: 0.162646\n",
      "[375]\tvalid_0's binary_logloss: 0.162645\n",
      "[376]\tvalid_0's binary_logloss: 0.162647\n",
      "[377]\tvalid_0's binary_logloss: 0.162653\n",
      "[378]\tvalid_0's binary_logloss: 0.162649\n",
      "[379]\tvalid_0's binary_logloss: 0.16265\n",
      "[380]\tvalid_0's binary_logloss: 0.162653\n",
      "[381]\tvalid_0's binary_logloss: 0.162647\n",
      "[382]\tvalid_0's binary_logloss: 0.162647\n",
      "[383]\tvalid_0's binary_logloss: 0.16265\n",
      "[384]\tvalid_0's binary_logloss: 0.162649\n",
      "[385]\tvalid_0's binary_logloss: 0.162649\n",
      "[386]\tvalid_0's binary_logloss: 0.162646\n",
      "[387]\tvalid_0's binary_logloss: 0.162644\n",
      "[388]\tvalid_0's binary_logloss: 0.162644\n",
      "[389]\tvalid_0's binary_logloss: 0.16264\n",
      "[390]\tvalid_0's binary_logloss: 0.16264\n",
      "Early stopping, best iteration is:\n",
      "[340]\tvalid_0's binary_logloss: 0.16261\n"
     ]
    }
   ],
   "source": [
    "lgbParam = {\n",
    "    'boosting_type': 'gbdt',\n",
    "    'objective': 'binary',\n",
    "    'metric': 'binary_logloss',\n",
    "    'num_leaves': 64,\n",
    "    'learning_rate': 0.05,\n",
    "    'feature_fraction': 0.7,\n",
    "    'bagging_fraction': 0.8,\n",
    "    'bagging_freq': 5,\n",
    "    'is_unbalance': False,\n",
    "    'verbose': 0\n",
    "}\n",
    "# 线下验证\n",
    "# lgb_train = lgb.Dataset(off_train[features], off_train['is_trade'])\n",
    "# lgb_eval = lgb.Dataset(off_test[features], off_test['is_trade'], reference=lgb_train)\n",
    "# lgbM = lgb.train(lgbParam, lgb_train, num_boost_round=5000, early_stopping_rounds=15, valid_sets=lgb_eval)\n",
    "\n",
    "lgb_train = lgb.Dataset(off_train[features], off_train['is_trade'])\n",
    "lgb_eval = lgb.Dataset(off_valid[features], off_valid['is_trade'], reference=lgb_train)\n",
    "lgbM = lgb.train(lgbParam, lgb_train, num_boost_round=2000, valid_sets=lgb_eval, early_stopping_rounds=50)"
   ]
  },
  {
   "cell_type": "code",
   "execution_count": 55,
   "metadata": {},
   "outputs": [],
   "source": [
    "bst_now = lgbM.best_iteration\n",
    "val1 = lgbM.predict(off_valid[features]) # 1111,0.1626334699309283\n",
    "on_train = off_train.append(off_valid)\n",
    "\n",
    "lgb_train = lgb.Dataset(on_train[features], on_train['is_trade'])\n",
    "lgbM = lgb.train(lgbParam, lgb_train, num_boost_round=bst_now)\n",
    "test1 = lgbM.predict(test[features]) # 1111"
   ]
  },
  {
   "cell_type": "code",
   "execution_count": 62,
   "metadata": {},
   "outputs": [],
   "source": [
    "bst_now = lgbM.best_iteration\n",
    "val2 = lgbM.predict(off_valid[features]) # 2222,0.16238135755997427\n",
    "on_train = off_train.append(off_valid)\n",
    "\n",
    "lgb_train = lgb.Dataset(on_train[features], on_train['is_trade'])\n",
    "lgbM = lgb.train(lgbParam, lgb_train, num_boost_round=bst_now)\n",
    "test2 = lgbM.predict(test[features]) # 2222"
   ]
  },
  {
   "cell_type": "code",
   "execution_count": 67,
   "metadata": {},
   "outputs": [],
   "source": [
    "bst_now = lgbM.best_iteration\n",
    "val3 = lgbM.predict(off_valid[features]) # 3333,0.16232054891066366\n",
    "on_train = off_train.append(off_valid)\n",
    "\n",
    "lgb_train = lgb.Dataset(on_train[features], on_train['is_trade'])\n",
    "lgbM = lgb.train(lgbParam, lgb_train, num_boost_round=bst_now)\n",
    "test3 = lgbM.predict(test[features]) # 3333"
   ]
  },
  {
   "cell_type": "code",
   "execution_count": 72,
   "metadata": {},
   "outputs": [],
   "source": [
    "bst_now = lgbM.best_iteration\n",
    "val4 = lgbM.predict(off_valid[features]) # 4444, 0.1622630958278548\n",
    "on_train = off_train.append(off_valid)\n",
    "\n",
    "lgb_train = lgb.Dataset(on_train[features], on_train['is_trade'])\n",
    "lgbM = lgb.train(lgbParam, lgb_train, num_boost_round=bst_now)\n",
    "test4 = lgbM.predict(test[features]) # 4444"
   ]
  },
  {
   "cell_type": "code",
   "execution_count": 77,
   "metadata": {},
   "outputs": [],
   "source": [
    "bst_now = lgbM.best_iteration\n",
    "val5 = lgbM.predict(off_valid[features]) # 5555,0.16220347239945873\n",
    "on_train = off_train.append(off_valid)\n",
    "\n",
    "lgb_train = lgb.Dataset(on_train[features], on_train['is_trade'])\n",
    "lgbM = lgb.train(lgbParam, lgb_train, num_boost_round=bst_now)\n",
    "test5 = lgbM.predict(test[features]) # 5555"
   ]
  },
  {
   "cell_type": "code",
   "execution_count": 82,
   "metadata": {},
   "outputs": [],
   "source": [
    "bst_now = lgbM.best_iteration\n",
    "val6 = lgbM.predict(off_valid[features]) # 6666,0.1621927042859721\n",
    "on_train = off_train.append(off_valid)\n",
    "\n",
    "lgb_train = lgb.Dataset(on_train[features], on_train['is_trade'])\n",
    "lgbM = lgb.train(lgbParam, lgb_train, num_boost_round=bst_now)\n",
    "test6 = lgbM.predict(test[features]) # 6666,"
   ]
  },
  {
   "cell_type": "code",
   "execution_count": 87,
   "metadata": {},
   "outputs": [],
   "source": [
    "bst_now = lgbM.best_iteration\n",
    "val7 = lgbM.predict(off_valid[features]) # 7777,0.16217402601979042\n",
    "on_train = off_train.append(off_valid)\n",
    "\n",
    "lgb_train = lgb.Dataset(on_train[features], on_train['is_trade'])\n",
    "lgbM = lgb.train(lgbParam, lgb_train, num_boost_round=bst_now)\n",
    "test7 = lgbM.predict(test[features]) # 7777,"
   ]
  },
  {
   "cell_type": "code",
   "execution_count": 92,
   "metadata": {},
   "outputs": [],
   "source": [
    "bst_now = lgbM.best_iteration\n",
    "val8 = lgbM.predict(off_valid[features]) # 8888,0.162180544960351\n",
    "on_train = off_train.append(off_valid)\n",
    "\n",
    "lgb_train = lgb.Dataset(on_train[features], on_train['is_trade'])\n",
    "lgbM = lgb.train(lgbParam, lgb_train, num_boost_round=bst_now)\n",
    "test8 = lgbM.predict(test[features]) # 8888,"
   ]
  },
  {
   "cell_type": "code",
   "execution_count": 97,
   "metadata": {},
   "outputs": [],
   "source": [
    "bst_now = lgbM.best_iteration\n",
    "val9 = lgbM.predict(off_valid[features]) # 9999,0.16216385039056\n",
    "on_train = off_train.append(off_valid)\n",
    "\n",
    "lgb_train = lgb.Dataset(on_train[features], on_train['is_trade'])\n",
    "lgbM = lgb.train(lgbParam, lgb_train, num_boost_round=bst_now)\n",
    "test9 = lgbM.predict(test[features]) # 9999,"
   ]
  },
  {
   "cell_type": "code",
   "execution_count": 98,
   "metadata": {},
   "outputs": [],
   "source": [
    "val = (val1 + val2 + val3 + val4 + val5 + val6 + val7 + val8 + val9) / 9.0"
   ]
  },
  {
   "cell_type": "code",
   "execution_count": 99,
   "metadata": {
    "scrolled": true
   },
   "outputs": [
    {
     "data": {
      "text/plain": [
       "0.16216385039056"
      ]
     },
     "execution_count": 99,
     "metadata": {},
     "output_type": "execute_result"
    }
   ],
   "source": [
    "log_loss(off_valid['is_trade'],val)"
   ]
  },
  {
   "cell_type": "code",
   "execution_count": 111,
   "metadata": {},
   "outputs": [],
   "source": [
    "test_res = (test1 + test2 + test3 + test4 + test5 + test6) / 6.0"
   ]
  },
  {
   "cell_type": "code",
   "execution_count": 107,
   "metadata": {},
   "outputs": [],
   "source": [
    "pd.Series(test1).to_pickle('test1')\n",
    "pd.Series(test2).to_pickle('test2')\n",
    "pd.Series(test3).to_pickle('test3')\n",
    "pd.Series(test4).to_pickle('test4')\n",
    "pd.Series(test5).to_pickle('test5')\n",
    "pd.Series(test6).to_pickle('test6')"
   ]
  },
  {
   "cell_type": "code",
   "execution_count": 160,
   "metadata": {},
   "outputs": [
    {
     "name": "stdout",
     "output_type": "stream",
     "text": [
      "[['user_id_context_time_gap_next' 790]\n",
      " ['item_id_HistoryCVR' 572]\n",
      " ['item_sales_level' 553]\n",
      " ['shop_id_HistoryCVR' 430]\n",
      " ['acc_jac_sim' 403]\n",
      " ['initUserDayCat1ClickCount' 383]\n",
      " ['user_id_item_id_context_time_gap' 379]\n",
      " ['acc_match_ratio_sim' 378]\n",
      " ['item_id_context_time_gap' 373]\n",
      " ['user_id' 366]\n",
      " ['user_id_context_time_gap' 344]\n",
      " ['shop_user_age_mean' 340]\n",
      " ['item_brand_id_HistoryCVR' 339]\n",
      " ['user_id_HistoryCVR' 330]\n",
      " ['userTodayAlreadyTradeCount' 321]\n",
      " ['item_id_context_time_gap_next' 318]\n",
      " ['user_star_level' 317]\n",
      " ['item_sales_level_subHorizonMean' 291]\n",
      " ['minute' 290]\n",
      " ['initUserTotalClickCount' 289]\n",
      " ['his_shop_id_user_age_level_tradeRatio' 275]\n",
      " ['shop_id_context_time_gap_next' 275]\n",
      " ['shop_review_num_level_subHorizonMean' 268]\n",
      " ['his_shop_id_user_occupation_id_tradeRatio' 260]\n",
      " ['item_id' 258]\n",
      " ['his_shop_id_user_gender_id_tradeRatio' 258]\n",
      " ['shop_id_context_time_gap' 233]\n",
      " ['shop_score_description' 233]\n",
      " ['item_cat_1_HistoryCVR' 220]\n",
      " ['item_brand_id' 218]\n",
      " ['user_id_item_id_context_time_gap_next' 218]\n",
      " ['shop_id' 217]\n",
      " ['best_prop_jac' 206]\n",
      " ['shop_score_description_subHorizonMean' 202]\n",
      " ['item_price_level_subHorizonMean' 202]\n",
      " ['dis_context_ts_item_id_hhour4_after' 197]\n",
      " ['dis_context_ts_item_id_hhour4_before' 191]\n",
      " ['preDay_initItemClickCount' 184]\n",
      " ['userDayCatClickRank' 180]\n",
      " ['his_item_cat_1_user_age_level_tradeRatio' 178]\n",
      " ['initUserDayClickCount' 175]\n",
      " ['shop_score_delivery_subHorizonMean' 172]\n",
      " ['context_page_id' 172]\n",
      " ['his_item_cat_1_user_occupation_id_tradeRatio' 169]\n",
      " ['user_age_level' 167]\n",
      " ['shop_score_service' 167]\n",
      " ['dis_context_ts_shop_id_hhour4_before' 166]\n",
      " ['shop_review_positive_rate' 164]\n",
      " ['item_sales_level_HistoryCVR' 162]\n",
      " ['shop_review_positive_rate_subHorizonMean' 161]\n",
      " ['initUserTotalCat1ClickCount' 160]\n",
      " ['shop_score_delivery' 156]\n",
      " ['user_id_shop_id_context_time_gap' 156]\n",
      " ['preDay_initBrandClickCount' 152]\n",
      " ['item_city_id' 151]\n",
      " ['preDay_initShopClickCount' 150]\n",
      " ['initUserTotalItemClickCount' 147]\n",
      " ['preDay_initCat1TradeCount' 146]\n",
      " ['his_item_cat_1_shop_id_tradeRatio' 145]\n",
      " ['dis_context_ts_shop_id_hhour4_after' 143]\n",
      " ['his_item_brand_id_item_id_tradeRatio' 139]\n",
      " ['his_item_price_level_user_age_level_tradeRatio' 136]\n",
      " ['shop_score_service_subHorizonMean' 135]\n",
      " ['dis_context_ts_item_id_hhour2_before' 134]\n",
      " ['his_item_cat_1_user_gender_id_tradeRatio' 132]\n",
      " ['his_shop_id_item_id_tradeRatio' 131]\n",
      " ['dis_context_ts_shop_id_hhour1_after' 129]\n",
      " ['his_item_cat_1_item_id_tradeRatio' 125]\n",
      " ['user_star_level_HistoryCVR' 122]\n",
      " ['hour' 120]\n",
      " ['dis_context_ts_item_id_hhour1_after' 118]\n",
      " ['item_collected_level' 118]\n",
      " ['shop_review_positive_num' 116]\n",
      " ['dis_context_ts_shop_id_hhour2_before' 116]\n",
      " ['dis_context_ts_item_id_hhour2_after' 115]\n",
      " ['preDay_initCat1ClickCount' 111]\n",
      " ['initUserTotalCa2ClickCount' 108]\n",
      " ['preDay_initCat2ClickCount' 107]\n",
      " ['dis_context_ts_shop_id_hhour1_before' 106]\n",
      " ['buy_context_ts_shop_id_hhour4_before' 103]\n",
      " ['buy_context_ts_item_id_hhour4_before' 101]\n",
      " ['dis_context_ts_item_id_hhour1_before' 100]\n",
      " ['dis_context_ts_shop_id_hhour2_after' 97]\n",
      " ['item_cat_1' 94]\n",
      " ['his_item_price_level_user_occupation_id_tradeRatio' 93]\n",
      " ['shop_cat_num' 91]\n",
      " ['initUserTotalPriceClickCount' 91]\n",
      " ['shop_item_sales_min' 90]\n",
      " ['userDayClickRank' 89]\n",
      " ['initUserTotalCityClickCount' 89]\n",
      " ['user_age_level_HistoryCVR' 88]\n",
      " ['item_cat_2' 81]\n",
      " ['context_page_id_HistoryCVR' 81]\n",
      " ['initUserHourClickCount' 78]\n",
      " ['preDay_initCat2TradeCount' 77]\n",
      " ['shop_review_num_level_HistoryCVR' 77]\n",
      " ['dis_context_ts_user_id_hhour4_after' 75]\n",
      " ['item_pv_level' 74]\n",
      " ['his_item_price_level_user_gender_id_tradeRatio' 74]\n",
      " ['shop_item_price_min' 73]\n",
      " ['initUserDayCat2ClickCount' 73]\n",
      " ['cat_item_cnt' 70]\n",
      " ['initUserHourCat1ClickCount' 69]\n",
      " ['initUserDayItemClickCount' 69]\n",
      " ['preDay_initShopTradeCount' 69]\n",
      " ['item_collected_level_HistoryCVR' 68]\n",
      " ['best_predict_cat_hit_level' 67]\n",
      " ['initUserDayPriceClickCount' 65]\n",
      " ['shop_star_level_HistoryCVR' 64]\n",
      " ['dis_context_ts_user_id_hhour1_after' 60]\n",
      " ['dis_context_ts_user_id_hhour2_after' 60]\n",
      " ['hour_range' 59]\n",
      " ['buy_context_ts_shop_id_hhour2_before' 57]\n",
      " ['hour_HistoryCVR' 57]\n",
      " ['initUserTotalBrandClickCount' 56]\n",
      " ['preDay_initBrandTradeCount' 54]\n",
      " ['buy_context_ts_shop_id_hhour1_before' 53]\n",
      " ['shop_review_num_level' 52]\n",
      " ['initUserTotalShopClickCount' 52]\n",
      " ['initUserDayCityClickCount' 49]\n",
      " ['buy_context_ts_item_id_hhour2_before' 48]\n",
      " ['item_price_level' 43]\n",
      " ['dis_context_ts_user_id_hhour4_before' 41]\n",
      " ['dis_context_ts_user_id_hhour2_before' 38]\n",
      " ['shop_star_level' 38]\n",
      " ['buy_context_ts_item_id_hhour1_before' 34]\n",
      " ['user_gender_id' 33]\n",
      " ['user_occupation_id' 31]\n",
      " ['preDay_initItemTradeCount' 29]\n",
      " ['dis_context_ts_user_id_hhour1_before' 29]\n",
      " ['initUserDayBrandClickCount' 29]\n",
      " ['userCat1TodayAlreadyTradeCount' 26]\n",
      " ['buy_context_ts_user_id_hhour2_before' 24]\n",
      " ['userDayBrandClickRank' 22]\n",
      " ['item_price_level_HistoryCVR' 22]\n",
      " ['initUserHourShopClickCount' 21]\n",
      " ['userDayShopClickRank' 19]\n",
      " ['userDayItemClickRank' 18]\n",
      " ['userShopTodayAlreadyTradeCount' 17]\n",
      " ['buy_context_ts_user_id_hhour1_before' 16]\n",
      " ['initUserDayShopClickCount' 15]\n",
      " ['dis_context_ts_user_id_item_id_hhour4_before' 14]\n",
      " ['dis_context_ts_user_id_shop_id_hhour4_before' 11]\n",
      " ['buy_context_ts_user_id_hhour4_before' 10]\n",
      " ['userBrandTodayAlreadyTradeCount' 10]\n",
      " ['dis_context_ts_user_id_item_id_hhour2_before' 9]\n",
      " ['user_id-hour-browse-is-first' 9]\n",
      " ['dis_context_ts_user_id_shop_id_hhour1_after' 9]\n",
      " ['dis_context_ts_user_id_item_id_hhour4_after' 8]\n",
      " ['user_id-hour-browse-is-last' 7]\n",
      " ['dis_context_ts_user_id_shop_id_hhour1_before' 7]\n",
      " ['dis_context_ts_user_id_shop_id_hhour2_after' 7]\n",
      " ['dis_context_ts_user_id_shop_id_hhour2_before' 7]\n",
      " ['userItemTodayAlreadyTradeCount' 6]\n",
      " ['dis_context_ts_user_id_shop_id_hhour4_after' 6]\n",
      " ['dis_context_ts_user_id_item_id_hhour1_before' 5]\n",
      " ['hour_range_HistoryCVR' 5]\n",
      " ['dis_context_ts_user_id_item_id_hhour1_after' 4]\n",
      " ['predict_cat_hit' 1]\n",
      " ['dis_context_ts_user_id_item_id_hhour2_after' 1]\n",
      " ['buy_context_ts_user_id_shop_id_hhour4_before' 0]\n",
      " ['buy_context_ts_user_id_shop_id_hhour2_before' 0]\n",
      " ['best_prop_match_ratio' 0]\n",
      " ['buy_context_ts_user_id_shop_id_hhour1_before' 0]\n",
      " ['buy_context_ts_user_id_item_id_hhour4_before' 0]\n",
      " ['buy_context_ts_user_id_item_id_hhour2_before' 0]\n",
      " ['buy_context_ts_user_id_item_id_hhour1_before' 0]]\n"
     ]
    }
   ],
   "source": [
    "lgbFeatureScore = pd.DataFrame({'feature': lgbM.feature_name(), 'score': lgbM.feature_importance()}).sort_values(by='score', ascending=False)\n",
    "print(lgbFeatureScore.values)"
   ]
  },
  {
   "cell_type": "code",
   "execution_count": 112,
   "metadata": {},
   "outputs": [],
   "source": [
    "test_b = pd.read_table('../glq/2.data/round2_test_b.txt', delim_whitespace=True, index_col=None)"
   ]
  },
  {
   "cell_type": "code",
   "execution_count": 113,
   "metadata": {},
   "outputs": [
    {
     "name": "stdout",
     "output_type": "stream",
     "text": [
      "1209768\n",
      "1209768\n",
      "instance_id        False\n",
      "predicted_score    False\n",
      "dtype: bool\n"
     ]
    }
   ],
   "source": [
    "testB_len = len(test_b)\n",
    "print(testB_len)\n",
    "test.loc[:, 'predicted_score'] = test_res\n",
    "res = test[['instance_id', 'predicted_score']].iloc[-1*testB_len:].reset_index(drop=True)\n",
    "print(len(res))\n",
    "print(res.isnull().any())\n",
    "res.to_csv('res-lgb-subsample-final.txt', index=False, sep=' ', line_terminator='\\r')  # 保存在线提交结果"
   ]
  },
  {
   "cell_type": "code",
   "execution_count": 117,
   "metadata": {},
   "outputs": [
    {
     "data": {
      "text/plain": [
       "0.03515847418696045"
      ]
     },
     "execution_count": 117,
     "metadata": {},
     "output_type": "execute_result"
    }
   ],
   "source": [
    "res['predicted_score'].std()"
   ]
  },
  {
   "cell_type": "code",
   "execution_count": 27,
   "metadata": {},
   "outputs": [
    {
     "name": "stdout",
     "output_type": "stream",
     "text": [
      "instance_id        False\n",
      "predicted_score    False\n",
      "dtype: bool\n"
     ]
    }
   ],
   "source": [
    "test.loc[:, 'predicted_score'] = lgbM.predict(test[features])\n",
    "res = test[['instance_id', 'predicted_score']]\n",
    "print(res.isnull().any())\n",
    "res.to_csv('result/lgb-0429-150round.txt', index=False, sep=' ', line_terminator='\\r')  # 保存在线提交结果"
   ]
  },
  {
   "cell_type": "markdown",
   "metadata": {},
   "source": [
    "# XGB训练"
   ]
  },
  {
   "cell_type": "code",
   "execution_count": 16,
   "metadata": {
    "scrolled": true
   },
   "outputs": [
    {
     "name": "stdout",
     "output_type": "stream",
     "text": [
      "[0]\ttrain-logloss:0.652882\tvalid-logloss:0.652649\n",
      "Multiple eval metrics have been passed: 'valid-logloss' will be used for early stopping.\n",
      "\n",
      "Will train until valid-logloss hasn't improved in 50 rounds.\n",
      "[1]\ttrain-logloss:0.616503\tvalid-logloss:0.616007\n",
      "[2]\ttrain-logloss:0.583392\tvalid-logloss:0.582686\n",
      "[3]\ttrain-logloss:0.553262\tvalid-logloss:0.552339\n",
      "[4]\ttrain-logloss:0.525713\tvalid-logloss:0.524569\n",
      "[5]\ttrain-logloss:0.500475\tvalid-logloss:0.499155\n",
      "[6]\ttrain-logloss:0.477257\tvalid-logloss:0.47575\n",
      "[7]\ttrain-logloss:0.455925\tvalid-logloss:0.454184\n",
      "[8]\ttrain-logloss:0.436246\tvalid-logloss:0.434341\n",
      "[9]\ttrain-logloss:0.418069\tvalid-logloss:0.415972\n",
      "[10]\ttrain-logloss:0.401256\tvalid-logloss:0.398988\n",
      "[11]\ttrain-logloss:0.385671\tvalid-logloss:0.383232\n",
      "[12]\ttrain-logloss:0.371239\tvalid-logloss:0.368616\n",
      "[13]\ttrain-logloss:0.357843\tvalid-logloss:0.355045\n",
      "[14]\ttrain-logloss:0.345412\tvalid-logloss:0.342452\n",
      "[15]\ttrain-logloss:0.333826\tvalid-logloss:0.330734\n",
      "[16]\ttrain-logloss:0.323055\tvalid-logloss:0.31982\n",
      "[17]\ttrain-logloss:0.313026\tvalid-logloss:0.309638\n",
      "[18]\ttrain-logloss:0.303687\tvalid-logloss:0.300148\n",
      "[19]\ttrain-logloss:0.295016\tvalid-logloss:0.291319\n",
      "[20]\ttrain-logloss:0.286918\tvalid-logloss:0.283091\n",
      "[21]\ttrain-logloss:0.279369\tvalid-logloss:0.275419\n",
      "[22]\ttrain-logloss:0.272318\tvalid-logloss:0.26824\n",
      "[23]\ttrain-logloss:0.26574\tvalid-logloss:0.261539\n",
      "[24]\ttrain-logloss:0.259598\tvalid-logloss:0.255272\n",
      "[25]\ttrain-logloss:0.253894\tvalid-logloss:0.249446\n",
      "[26]\ttrain-logloss:0.248537\tvalid-logloss:0.24396\n",
      "[27]\ttrain-logloss:0.243551\tvalid-logloss:0.238856\n",
      "[28]\ttrain-logloss:0.238878\tvalid-logloss:0.234065\n",
      "[29]\ttrain-logloss:0.234537\tvalid-logloss:0.229592\n",
      "[30]\ttrain-logloss:0.230473\tvalid-logloss:0.225424\n",
      "[31]\ttrain-logloss:0.226672\tvalid-logloss:0.221511\n",
      "[32]\ttrain-logloss:0.223114\tvalid-logloss:0.217856\n",
      "[33]\ttrain-logloss:0.21981\tvalid-logloss:0.21444\n",
      "[34]\ttrain-logloss:0.2167\tvalid-logloss:0.211239\n",
      "[35]\ttrain-logloss:0.213836\tvalid-logloss:0.208279\n",
      "[36]\ttrain-logloss:0.211127\tvalid-logloss:0.205475\n",
      "[37]\ttrain-logloss:0.208622\tvalid-logloss:0.202878\n",
      "[38]\ttrain-logloss:0.206292\tvalid-logloss:0.20046\n",
      "[39]\ttrain-logloss:0.204087\tvalid-logloss:0.198169\n",
      "[40]\ttrain-logloss:0.202024\tvalid-logloss:0.19602\n",
      "[41]\ttrain-logloss:0.200097\tvalid-logloss:0.194005\n",
      "[42]\ttrain-logloss:0.198305\tvalid-logloss:0.192142\n",
      "[43]\ttrain-logloss:0.196629\tvalid-logloss:0.190395\n",
      "[44]\ttrain-logloss:0.195057\tvalid-logloss:0.18876\n",
      "[45]\ttrain-logloss:0.193598\tvalid-logloss:0.187234\n",
      "[46]\ttrain-logloss:0.192237\tvalid-logloss:0.185802\n",
      "[47]\ttrain-logloss:0.190961\tvalid-logloss:0.184469\n",
      "[48]\ttrain-logloss:0.189771\tvalid-logloss:0.183218\n",
      "[49]\ttrain-logloss:0.188664\tvalid-logloss:0.182051\n",
      "[50]\ttrain-logloss:0.187646\tvalid-logloss:0.180977\n",
      "[51]\ttrain-logloss:0.186688\tvalid-logloss:0.17996\n",
      "[52]\ttrain-logloss:0.18578\tvalid-logloss:0.179003\n",
      "[53]\ttrain-logloss:0.184947\tvalid-logloss:0.178121\n",
      "[54]\ttrain-logloss:0.18416\tvalid-logloss:0.177298\n",
      "[55]\ttrain-logloss:0.183428\tvalid-logloss:0.176525\n",
      "[56]\ttrain-logloss:0.182746\tvalid-logloss:0.175801\n",
      "[57]\ttrain-logloss:0.18211\tvalid-logloss:0.175115\n",
      "[58]\ttrain-logloss:0.181498\tvalid-logloss:0.174469\n",
      "[59]\ttrain-logloss:0.18093\tvalid-logloss:0.173869\n",
      "[60]\ttrain-logloss:0.1804\tvalid-logloss:0.173309\n",
      "[61]\ttrain-logloss:0.179913\tvalid-logloss:0.172782\n",
      "[62]\ttrain-logloss:0.179458\tvalid-logloss:0.17229\n",
      "[63]\ttrain-logloss:0.179012\tvalid-logloss:0.171819\n",
      "[64]\ttrain-logloss:0.178596\tvalid-logloss:0.171379\n",
      "[65]\ttrain-logloss:0.178206\tvalid-logloss:0.170968\n",
      "[66]\ttrain-logloss:0.177846\tvalid-logloss:0.170585\n",
      "[67]\ttrain-logloss:0.177506\tvalid-logloss:0.170225\n",
      "[68]\ttrain-logloss:0.177188\tvalid-logloss:0.169889\n",
      "[69]\ttrain-logloss:0.176884\tvalid-logloss:0.169561\n",
      "[70]\ttrain-logloss:0.176597\tvalid-logloss:0.169264\n",
      "[71]\ttrain-logloss:0.176333\tvalid-logloss:0.168992\n",
      "[72]\ttrain-logloss:0.176081\tvalid-logloss:0.168736\n",
      "[73]\ttrain-logloss:0.175858\tvalid-logloss:0.168496\n",
      "[74]\ttrain-logloss:0.175628\tvalid-logloss:0.168262\n",
      "[75]\ttrain-logloss:0.175425\tvalid-logloss:0.168047\n",
      "[76]\ttrain-logloss:0.175226\tvalid-logloss:0.167846\n",
      "[77]\ttrain-logloss:0.175039\tvalid-logloss:0.167648\n",
      "[78]\ttrain-logloss:0.174858\tvalid-logloss:0.167455\n",
      "[79]\ttrain-logloss:0.17468\tvalid-logloss:0.167275\n",
      "[80]\ttrain-logloss:0.17451\tvalid-logloss:0.167098\n",
      "[81]\ttrain-logloss:0.174348\tvalid-logloss:0.166939\n",
      "[82]\ttrain-logloss:0.174204\tvalid-logloss:0.166794\n",
      "[83]\ttrain-logloss:0.17406\tvalid-logloss:0.166653\n",
      "[84]\ttrain-logloss:0.173921\tvalid-logloss:0.166518\n",
      "[85]\ttrain-logloss:0.173791\tvalid-logloss:0.166396\n",
      "[86]\ttrain-logloss:0.173662\tvalid-logloss:0.166264\n",
      "[87]\ttrain-logloss:0.173538\tvalid-logloss:0.166143\n",
      "[88]\ttrain-logloss:0.173411\tvalid-logloss:0.166046\n",
      "[89]\ttrain-logloss:0.173299\tvalid-logloss:0.165951\n",
      "[90]\ttrain-logloss:0.173201\tvalid-logloss:0.165855\n",
      "[91]\ttrain-logloss:0.173095\tvalid-logloss:0.165758\n",
      "[92]\ttrain-logloss:0.172993\tvalid-logloss:0.165669\n",
      "[93]\ttrain-logloss:0.172901\tvalid-logloss:0.165586\n",
      "[94]\ttrain-logloss:0.172803\tvalid-logloss:0.165494\n",
      "[95]\ttrain-logloss:0.172702\tvalid-logloss:0.165414\n",
      "[96]\ttrain-logloss:0.172609\tvalid-logloss:0.165327\n",
      "[97]\ttrain-logloss:0.172529\tvalid-logloss:0.165252\n",
      "[98]\ttrain-logloss:0.17244\tvalid-logloss:0.16518\n",
      "[99]\ttrain-logloss:0.172363\tvalid-logloss:0.165116\n",
      "[100]\ttrain-logloss:0.172272\tvalid-logloss:0.165035\n",
      "[101]\ttrain-logloss:0.172177\tvalid-logloss:0.16497\n",
      "[102]\ttrain-logloss:0.172084\tvalid-logloss:0.164897\n",
      "[103]\ttrain-logloss:0.172001\tvalid-logloss:0.164837\n",
      "[104]\ttrain-logloss:0.171922\tvalid-logloss:0.16478\n",
      "[105]\ttrain-logloss:0.171855\tvalid-logloss:0.164726\n",
      "[106]\ttrain-logloss:0.171765\tvalid-logloss:0.164659\n",
      "[107]\ttrain-logloss:0.171688\tvalid-logloss:0.164606\n",
      "[108]\ttrain-logloss:0.171612\tvalid-logloss:0.164553\n",
      "[109]\ttrain-logloss:0.17153\tvalid-logloss:0.164502\n",
      "[110]\ttrain-logloss:0.171457\tvalid-logloss:0.164456\n",
      "[111]\ttrain-logloss:0.171402\tvalid-logloss:0.164414\n",
      "[112]\ttrain-logloss:0.171328\tvalid-logloss:0.164359\n",
      "[113]\ttrain-logloss:0.171272\tvalid-logloss:0.164329\n",
      "[114]\ttrain-logloss:0.171199\tvalid-logloss:0.164279\n",
      "[115]\ttrain-logloss:0.171141\tvalid-logloss:0.164237\n",
      "[116]\ttrain-logloss:0.171055\tvalid-logloss:0.16419\n",
      "[117]\ttrain-logloss:0.170999\tvalid-logloss:0.164149\n",
      "[118]\ttrain-logloss:0.170947\tvalid-logloss:0.16412\n",
      "[119]\ttrain-logloss:0.170879\tvalid-logloss:0.164073\n",
      "[120]\ttrain-logloss:0.170824\tvalid-logloss:0.164053\n",
      "[121]\ttrain-logloss:0.170785\tvalid-logloss:0.164024\n",
      "[122]\ttrain-logloss:0.170736\tvalid-logloss:0.163989\n",
      "[123]\ttrain-logloss:0.170674\tvalid-logloss:0.163958\n",
      "[124]\ttrain-logloss:0.170612\tvalid-logloss:0.163924\n",
      "[125]\ttrain-logloss:0.170558\tvalid-logloss:0.16389\n",
      "[126]\ttrain-logloss:0.170499\tvalid-logloss:0.163863\n",
      "[127]\ttrain-logloss:0.170461\tvalid-logloss:0.16384\n",
      "[128]\ttrain-logloss:0.170418\tvalid-logloss:0.163813\n",
      "[129]\ttrain-logloss:0.170363\tvalid-logloss:0.163785\n",
      "[130]\ttrain-logloss:0.170311\tvalid-logloss:0.16376\n",
      "[131]\ttrain-logloss:0.170263\tvalid-logloss:0.16373\n",
      "[132]\ttrain-logloss:0.170225\tvalid-logloss:0.163709\n",
      "[133]\ttrain-logloss:0.170181\tvalid-logloss:0.163689\n",
      "[134]\ttrain-logloss:0.17012\tvalid-logloss:0.163672\n",
      "[135]\ttrain-logloss:0.170073\tvalid-logloss:0.163648\n",
      "[136]\ttrain-logloss:0.170023\tvalid-logloss:0.163631\n",
      "[137]\ttrain-logloss:0.169964\tvalid-logloss:0.163598\n",
      "[138]\ttrain-logloss:0.169923\tvalid-logloss:0.163576\n",
      "[139]\ttrain-logloss:0.169876\tvalid-logloss:0.163556\n",
      "[140]\ttrain-logloss:0.16982\tvalid-logloss:0.163527\n",
      "[141]\ttrain-logloss:0.169763\tvalid-logloss:0.163494\n",
      "[142]\ttrain-logloss:0.169722\tvalid-logloss:0.163479\n",
      "[143]\ttrain-logloss:0.169663\tvalid-logloss:0.163445\n",
      "[144]\ttrain-logloss:0.169622\tvalid-logloss:0.163426\n",
      "[145]\ttrain-logloss:0.169576\tvalid-logloss:0.1634\n",
      "[146]\ttrain-logloss:0.169537\tvalid-logloss:0.163382\n",
      "[147]\ttrain-logloss:0.169497\tvalid-logloss:0.163364\n",
      "[148]\ttrain-logloss:0.169455\tvalid-logloss:0.163352\n",
      "[149]\ttrain-logloss:0.169407\tvalid-logloss:0.163334\n",
      "[150]\ttrain-logloss:0.169371\tvalid-logloss:0.163318\n",
      "[151]\ttrain-logloss:0.169327\tvalid-logloss:0.163305\n",
      "[152]\ttrain-logloss:0.169286\tvalid-logloss:0.1633\n",
      "[153]\ttrain-logloss:0.169237\tvalid-logloss:0.163289\n",
      "[154]\ttrain-logloss:0.16919\tvalid-logloss:0.16327\n",
      "[155]\ttrain-logloss:0.169148\tvalid-logloss:0.16326\n",
      "[156]\ttrain-logloss:0.169113\tvalid-logloss:0.163248\n",
      "[157]\ttrain-logloss:0.169067\tvalid-logloss:0.163234\n"
     ]
    },
    {
     "name": "stdout",
     "output_type": "stream",
     "text": [
      "[158]\ttrain-logloss:0.169026\tvalid-logloss:0.16322\n",
      "[159]\ttrain-logloss:0.168992\tvalid-logloss:0.163209\n",
      "[160]\ttrain-logloss:0.168955\tvalid-logloss:0.163196\n",
      "[161]\ttrain-logloss:0.168899\tvalid-logloss:0.163172\n",
      "[162]\ttrain-logloss:0.168863\tvalid-logloss:0.163152\n",
      "[163]\ttrain-logloss:0.168836\tvalid-logloss:0.163138\n",
      "[164]\ttrain-logloss:0.168783\tvalid-logloss:0.163116\n",
      "[165]\ttrain-logloss:0.168758\tvalid-logloss:0.163105\n",
      "[166]\ttrain-logloss:0.168702\tvalid-logloss:0.163085\n",
      "[167]\ttrain-logloss:0.16866\tvalid-logloss:0.163075\n",
      "[168]\ttrain-logloss:0.168631\tvalid-logloss:0.163064\n",
      "[169]\ttrain-logloss:0.168604\tvalid-logloss:0.163053\n",
      "[170]\ttrain-logloss:0.168574\tvalid-logloss:0.16304\n",
      "[171]\ttrain-logloss:0.168539\tvalid-logloss:0.163032\n",
      "[172]\ttrain-logloss:0.168489\tvalid-logloss:0.163015\n",
      "[173]\ttrain-logloss:0.168449\tvalid-logloss:0.162999\n",
      "[174]\ttrain-logloss:0.168418\tvalid-logloss:0.162989\n",
      "[175]\ttrain-logloss:0.168383\tvalid-logloss:0.162984\n",
      "[176]\ttrain-logloss:0.168336\tvalid-logloss:0.16297\n",
      "[177]\ttrain-logloss:0.168298\tvalid-logloss:0.16296\n",
      "[178]\ttrain-logloss:0.168259\tvalid-logloss:0.162957\n",
      "[179]\ttrain-logloss:0.168218\tvalid-logloss:0.162941\n",
      "[180]\ttrain-logloss:0.168191\tvalid-logloss:0.162936\n",
      "[181]\ttrain-logloss:0.168143\tvalid-logloss:0.162925\n",
      "[182]\ttrain-logloss:0.168107\tvalid-logloss:0.162917\n",
      "[183]\ttrain-logloss:0.168067\tvalid-logloss:0.162898\n",
      "[184]\ttrain-logloss:0.168019\tvalid-logloss:0.162878\n",
      "[185]\ttrain-logloss:0.16798\tvalid-logloss:0.162867\n",
      "[186]\ttrain-logloss:0.167949\tvalid-logloss:0.162862\n",
      "[187]\ttrain-logloss:0.167909\tvalid-logloss:0.162846\n",
      "[188]\ttrain-logloss:0.167876\tvalid-logloss:0.162838\n",
      "[189]\ttrain-logloss:0.167827\tvalid-logloss:0.162819\n",
      "[190]\ttrain-logloss:0.167791\tvalid-logloss:0.16281\n",
      "[191]\ttrain-logloss:0.167758\tvalid-logloss:0.162803\n",
      "[192]\ttrain-logloss:0.16772\tvalid-logloss:0.162801\n",
      "[193]\ttrain-logloss:0.167683\tvalid-logloss:0.162787\n",
      "[194]\ttrain-logloss:0.167653\tvalid-logloss:0.162778\n",
      "[195]\ttrain-logloss:0.167607\tvalid-logloss:0.162764\n",
      "[196]\ttrain-logloss:0.167566\tvalid-logloss:0.162755\n",
      "[197]\ttrain-logloss:0.167524\tvalid-logloss:0.162746\n",
      "[198]\ttrain-logloss:0.167499\tvalid-logloss:0.162735\n",
      "[199]\ttrain-logloss:0.167459\tvalid-logloss:0.162725\n",
      "[200]\ttrain-logloss:0.167428\tvalid-logloss:0.162713\n",
      "[201]\ttrain-logloss:0.167388\tvalid-logloss:0.162706\n",
      "[202]\ttrain-logloss:0.167347\tvalid-logloss:0.162699\n",
      "[203]\ttrain-logloss:0.167319\tvalid-logloss:0.162691\n",
      "[204]\ttrain-logloss:0.167295\tvalid-logloss:0.162686\n",
      "[205]\ttrain-logloss:0.167269\tvalid-logloss:0.162676\n",
      "[206]\ttrain-logloss:0.167224\tvalid-logloss:0.162665\n",
      "[207]\ttrain-logloss:0.167201\tvalid-logloss:0.162662\n",
      "[208]\ttrain-logloss:0.167176\tvalid-logloss:0.162661\n",
      "[209]\ttrain-logloss:0.167132\tvalid-logloss:0.162652\n",
      "[210]\ttrain-logloss:0.167112\tvalid-logloss:0.162645\n",
      "[211]\ttrain-logloss:0.167097\tvalid-logloss:0.16264\n",
      "[212]\ttrain-logloss:0.167066\tvalid-logloss:0.162635\n",
      "[213]\ttrain-logloss:0.167038\tvalid-logloss:0.16263\n",
      "[214]\ttrain-logloss:0.167005\tvalid-logloss:0.162623\n",
      "[215]\ttrain-logloss:0.16698\tvalid-logloss:0.162616\n",
      "[216]\ttrain-logloss:0.166956\tvalid-logloss:0.162616\n",
      "[217]\ttrain-logloss:0.166925\tvalid-logloss:0.162613\n",
      "[218]\ttrain-logloss:0.1669\tvalid-logloss:0.16261\n",
      "[219]\ttrain-logloss:0.166874\tvalid-logloss:0.162606\n",
      "[220]\ttrain-logloss:0.166831\tvalid-logloss:0.162593\n",
      "[221]\ttrain-logloss:0.166797\tvalid-logloss:0.16258\n",
      "[222]\ttrain-logloss:0.166763\tvalid-logloss:0.162575\n",
      "[223]\ttrain-logloss:0.166721\tvalid-logloss:0.162569\n",
      "[224]\ttrain-logloss:0.166694\tvalid-logloss:0.162572\n",
      "[225]\ttrain-logloss:0.166662\tvalid-logloss:0.162569\n",
      "[226]\ttrain-logloss:0.166639\tvalid-logloss:0.162564\n",
      "[227]\ttrain-logloss:0.166612\tvalid-logloss:0.162557\n",
      "[228]\ttrain-logloss:0.166582\tvalid-logloss:0.162547\n",
      "[229]\ttrain-logloss:0.166545\tvalid-logloss:0.16254\n",
      "[230]\ttrain-logloss:0.166518\tvalid-logloss:0.162536\n",
      "[231]\ttrain-logloss:0.166497\tvalid-logloss:0.162528\n",
      "[232]\ttrain-logloss:0.166475\tvalid-logloss:0.162521\n",
      "[233]\ttrain-logloss:0.16644\tvalid-logloss:0.162519\n",
      "[234]\ttrain-logloss:0.166406\tvalid-logloss:0.16251\n",
      "[235]\ttrain-logloss:0.166385\tvalid-logloss:0.162507\n",
      "[236]\ttrain-logloss:0.166349\tvalid-logloss:0.162507\n",
      "[237]\ttrain-logloss:0.166314\tvalid-logloss:0.162494\n",
      "[238]\ttrain-logloss:0.166288\tvalid-logloss:0.162488\n",
      "[239]\ttrain-logloss:0.166274\tvalid-logloss:0.162484\n",
      "[240]\ttrain-logloss:0.166253\tvalid-logloss:0.162479\n",
      "[241]\ttrain-logloss:0.166225\tvalid-logloss:0.162479\n",
      "[242]\ttrain-logloss:0.166203\tvalid-logloss:0.162481\n",
      "[243]\ttrain-logloss:0.166184\tvalid-logloss:0.162477\n",
      "[244]\ttrain-logloss:0.166144\tvalid-logloss:0.162469\n",
      "[245]\ttrain-logloss:0.166106\tvalid-logloss:0.162461\n",
      "[246]\ttrain-logloss:0.166076\tvalid-logloss:0.162455\n",
      "[247]\ttrain-logloss:0.166049\tvalid-logloss:0.16245\n",
      "[248]\ttrain-logloss:0.166026\tvalid-logloss:0.162446\n",
      "[249]\ttrain-logloss:0.165994\tvalid-logloss:0.16244\n",
      "[250]\ttrain-logloss:0.165972\tvalid-logloss:0.162432\n",
      "[251]\ttrain-logloss:0.165952\tvalid-logloss:0.162427\n",
      "[252]\ttrain-logloss:0.165928\tvalid-logloss:0.162421\n",
      "[253]\ttrain-logloss:0.165904\tvalid-logloss:0.162415\n",
      "[254]\ttrain-logloss:0.165877\tvalid-logloss:0.162411\n",
      "[255]\ttrain-logloss:0.165843\tvalid-logloss:0.162406\n",
      "[256]\ttrain-logloss:0.165817\tvalid-logloss:0.162398\n",
      "[257]\ttrain-logloss:0.165803\tvalid-logloss:0.162394\n",
      "[258]\ttrain-logloss:0.165772\tvalid-logloss:0.162391\n",
      "[259]\ttrain-logloss:0.165744\tvalid-logloss:0.162391\n",
      "[260]\ttrain-logloss:0.165715\tvalid-logloss:0.162393\n",
      "[261]\ttrain-logloss:0.165685\tvalid-logloss:0.162382\n",
      "[262]\ttrain-logloss:0.165662\tvalid-logloss:0.162379\n",
      "[263]\ttrain-logloss:0.165627\tvalid-logloss:0.162376\n",
      "[264]\ttrain-logloss:0.165606\tvalid-logloss:0.16237\n",
      "[265]\ttrain-logloss:0.165578\tvalid-logloss:0.162374\n",
      "[266]\ttrain-logloss:0.165552\tvalid-logloss:0.162374\n",
      "[267]\ttrain-logloss:0.165534\tvalid-logloss:0.162373\n",
      "[268]\ttrain-logloss:0.16551\tvalid-logloss:0.162373\n",
      "[269]\ttrain-logloss:0.16547\tvalid-logloss:0.16237\n",
      "[270]\ttrain-logloss:0.165459\tvalid-logloss:0.162366\n",
      "[271]\ttrain-logloss:0.165437\tvalid-logloss:0.162364\n",
      "[272]\ttrain-logloss:0.165406\tvalid-logloss:0.16236\n",
      "[273]\ttrain-logloss:0.165374\tvalid-logloss:0.162351\n",
      "[274]\ttrain-logloss:0.165344\tvalid-logloss:0.162353\n",
      "[275]\ttrain-logloss:0.165322\tvalid-logloss:0.16235\n",
      "[276]\ttrain-logloss:0.165302\tvalid-logloss:0.162348\n",
      "[277]\ttrain-logloss:0.165267\tvalid-logloss:0.162342\n",
      "[278]\ttrain-logloss:0.165237\tvalid-logloss:0.162338\n",
      "[279]\ttrain-logloss:0.16521\tvalid-logloss:0.162341\n",
      "[280]\ttrain-logloss:0.165181\tvalid-logloss:0.16234\n",
      "[281]\ttrain-logloss:0.165157\tvalid-logloss:0.162334\n",
      "[282]\ttrain-logloss:0.165139\tvalid-logloss:0.162334\n",
      "[283]\ttrain-logloss:0.165108\tvalid-logloss:0.162324\n",
      "[284]\ttrain-logloss:0.16509\tvalid-logloss:0.162321\n",
      "[285]\ttrain-logloss:0.16507\tvalid-logloss:0.162316\n",
      "[286]\ttrain-logloss:0.16504\tvalid-logloss:0.162312\n",
      "[287]\ttrain-logloss:0.165015\tvalid-logloss:0.162314\n",
      "[288]\ttrain-logloss:0.164985\tvalid-logloss:0.162307\n",
      "[289]\ttrain-logloss:0.164959\tvalid-logloss:0.162305\n",
      "[290]\ttrain-logloss:0.164944\tvalid-logloss:0.162302\n",
      "[291]\ttrain-logloss:0.164916\tvalid-logloss:0.1623\n",
      "[292]\ttrain-logloss:0.1649\tvalid-logloss:0.162299\n",
      "[293]\ttrain-logloss:0.164864\tvalid-logloss:0.162297\n",
      "[294]\ttrain-logloss:0.164847\tvalid-logloss:0.162297\n",
      "[295]\ttrain-logloss:0.164824\tvalid-logloss:0.162296\n",
      "[296]\ttrain-logloss:0.164802\tvalid-logloss:0.162294\n",
      "[297]\ttrain-logloss:0.164784\tvalid-logloss:0.162294\n",
      "[298]\ttrain-logloss:0.164767\tvalid-logloss:0.162289\n",
      "[299]\ttrain-logloss:0.16474\tvalid-logloss:0.162289\n",
      "[300]\ttrain-logloss:0.164724\tvalid-logloss:0.162285\n",
      "[301]\ttrain-logloss:0.164702\tvalid-logloss:0.162284\n",
      "[302]\ttrain-logloss:0.16468\tvalid-logloss:0.16228\n",
      "[303]\ttrain-logloss:0.164646\tvalid-logloss:0.162279\n",
      "[304]\ttrain-logloss:0.164616\tvalid-logloss:0.162274\n",
      "[305]\ttrain-logloss:0.164601\tvalid-logloss:0.162274\n",
      "[306]\ttrain-logloss:0.164587\tvalid-logloss:0.162276\n",
      "[307]\ttrain-logloss:0.164556\tvalid-logloss:0.162274\n",
      "[308]\ttrain-logloss:0.16453\tvalid-logloss:0.162271\n",
      "[309]\ttrain-logloss:0.164505\tvalid-logloss:0.162267\n",
      "[310]\ttrain-logloss:0.16448\tvalid-logloss:0.162264\n",
      "[311]\ttrain-logloss:0.164445\tvalid-logloss:0.162267\n",
      "[312]\ttrain-logloss:0.164413\tvalid-logloss:0.162255\n",
      "[313]\ttrain-logloss:0.164386\tvalid-logloss:0.162252\n",
      "[314]\ttrain-logloss:0.164357\tvalid-logloss:0.162246\n",
      "[315]\ttrain-logloss:0.164343\tvalid-logloss:0.162245\n",
      "[316]\ttrain-logloss:0.164314\tvalid-logloss:0.162237\n"
     ]
    },
    {
     "name": "stdout",
     "output_type": "stream",
     "text": [
      "[317]\ttrain-logloss:0.164287\tvalid-logloss:0.16223\n",
      "[318]\ttrain-logloss:0.16427\tvalid-logloss:0.162234\n",
      "[319]\ttrain-logloss:0.164243\tvalid-logloss:0.162237\n",
      "[320]\ttrain-logloss:0.164223\tvalid-logloss:0.162237\n",
      "[321]\ttrain-logloss:0.164209\tvalid-logloss:0.162234\n",
      "[322]\ttrain-logloss:0.164185\tvalid-logloss:0.162235\n",
      "[323]\ttrain-logloss:0.164166\tvalid-logloss:0.162234\n",
      "[324]\ttrain-logloss:0.164147\tvalid-logloss:0.162229\n",
      "[325]\ttrain-logloss:0.164121\tvalid-logloss:0.162228\n",
      "[326]\ttrain-logloss:0.164104\tvalid-logloss:0.162228\n",
      "[327]\ttrain-logloss:0.164082\tvalid-logloss:0.162226\n",
      "[328]\ttrain-logloss:0.164063\tvalid-logloss:0.162225\n",
      "[329]\ttrain-logloss:0.164051\tvalid-logloss:0.162224\n",
      "[330]\ttrain-logloss:0.164026\tvalid-logloss:0.162219\n",
      "[331]\ttrain-logloss:0.163993\tvalid-logloss:0.162217\n",
      "[332]\ttrain-logloss:0.163976\tvalid-logloss:0.162214\n",
      "[333]\ttrain-logloss:0.163952\tvalid-logloss:0.162211\n",
      "[334]\ttrain-logloss:0.163947\tvalid-logloss:0.16221\n",
      "[335]\ttrain-logloss:0.163918\tvalid-logloss:0.162211\n",
      "[336]\ttrain-logloss:0.163901\tvalid-logloss:0.16221\n",
      "[337]\ttrain-logloss:0.163876\tvalid-logloss:0.162198\n",
      "[338]\ttrain-logloss:0.163851\tvalid-logloss:0.162197\n",
      "[339]\ttrain-logloss:0.16383\tvalid-logloss:0.162194\n",
      "[340]\ttrain-logloss:0.163815\tvalid-logloss:0.162193\n",
      "[341]\ttrain-logloss:0.16379\tvalid-logloss:0.162189\n",
      "[342]\ttrain-logloss:0.163773\tvalid-logloss:0.162186\n",
      "[343]\ttrain-logloss:0.163754\tvalid-logloss:0.162183\n",
      "[344]\ttrain-logloss:0.163732\tvalid-logloss:0.162179\n",
      "[345]\ttrain-logloss:0.163717\tvalid-logloss:0.162175\n",
      "[346]\ttrain-logloss:0.16369\tvalid-logloss:0.162172\n",
      "[347]\ttrain-logloss:0.163677\tvalid-logloss:0.162171\n",
      "[348]\ttrain-logloss:0.163663\tvalid-logloss:0.162172\n",
      "[349]\ttrain-logloss:0.163634\tvalid-logloss:0.162172\n",
      "[350]\ttrain-logloss:0.163621\tvalid-logloss:0.162174\n",
      "[351]\ttrain-logloss:0.163609\tvalid-logloss:0.162172\n",
      "[352]\ttrain-logloss:0.163587\tvalid-logloss:0.162172\n",
      "[353]\ttrain-logloss:0.163567\tvalid-logloss:0.162169\n",
      "[354]\ttrain-logloss:0.163543\tvalid-logloss:0.162173\n",
      "[355]\ttrain-logloss:0.163525\tvalid-logloss:0.162175\n",
      "[356]\ttrain-logloss:0.163507\tvalid-logloss:0.162172\n",
      "[357]\ttrain-logloss:0.163473\tvalid-logloss:0.162171\n",
      "[358]\ttrain-logloss:0.163442\tvalid-logloss:0.162171\n",
      "[359]\ttrain-logloss:0.163413\tvalid-logloss:0.162171\n",
      "[360]\ttrain-logloss:0.163404\tvalid-logloss:0.162168\n",
      "[361]\ttrain-logloss:0.163397\tvalid-logloss:0.16217\n",
      "[362]\ttrain-logloss:0.163368\tvalid-logloss:0.162159\n",
      "[363]\ttrain-logloss:0.16334\tvalid-logloss:0.162155\n",
      "[364]\ttrain-logloss:0.163319\tvalid-logloss:0.162152\n",
      "[365]\ttrain-logloss:0.163309\tvalid-logloss:0.16215\n",
      "[366]\ttrain-logloss:0.163294\tvalid-logloss:0.162151\n",
      "[367]\ttrain-logloss:0.163274\tvalid-logloss:0.162152\n",
      "[368]\ttrain-logloss:0.163248\tvalid-logloss:0.162155\n",
      "[369]\ttrain-logloss:0.163226\tvalid-logloss:0.162152\n",
      "[370]\ttrain-logloss:0.163207\tvalid-logloss:0.162156\n",
      "[371]\ttrain-logloss:0.163182\tvalid-logloss:0.162153\n",
      "[372]\ttrain-logloss:0.16316\tvalid-logloss:0.162153\n",
      "[373]\ttrain-logloss:0.163134\tvalid-logloss:0.162153\n",
      "[374]\ttrain-logloss:0.163102\tvalid-logloss:0.162147\n",
      "[375]\ttrain-logloss:0.163095\tvalid-logloss:0.162147\n",
      "[376]\ttrain-logloss:0.163067\tvalid-logloss:0.162149\n",
      "[377]\ttrain-logloss:0.163037\tvalid-logloss:0.162148\n",
      "[378]\ttrain-logloss:0.163024\tvalid-logloss:0.162147\n",
      "[379]\ttrain-logloss:0.16301\tvalid-logloss:0.162147\n",
      "[380]\ttrain-logloss:0.162996\tvalid-logloss:0.162147\n",
      "[381]\ttrain-logloss:0.162966\tvalid-logloss:0.162143\n",
      "[382]\ttrain-logloss:0.162939\tvalid-logloss:0.162137\n",
      "[383]\ttrain-logloss:0.162911\tvalid-logloss:0.162135\n",
      "[384]\ttrain-logloss:0.162899\tvalid-logloss:0.162133\n",
      "[385]\ttrain-logloss:0.162877\tvalid-logloss:0.162133\n",
      "[386]\ttrain-logloss:0.162861\tvalid-logloss:0.162135\n",
      "[387]\ttrain-logloss:0.162828\tvalid-logloss:0.16214\n",
      "[388]\ttrain-logloss:0.162812\tvalid-logloss:0.162141\n",
      "[389]\ttrain-logloss:0.162794\tvalid-logloss:0.162144\n",
      "[390]\ttrain-logloss:0.162775\tvalid-logloss:0.162145\n",
      "[391]\ttrain-logloss:0.162759\tvalid-logloss:0.162146\n",
      "[392]\ttrain-logloss:0.162729\tvalid-logloss:0.162148\n",
      "[393]\ttrain-logloss:0.162707\tvalid-logloss:0.162152\n",
      "[394]\ttrain-logloss:0.162687\tvalid-logloss:0.162151\n",
      "[395]\ttrain-logloss:0.162668\tvalid-logloss:0.162156\n",
      "[396]\ttrain-logloss:0.162658\tvalid-logloss:0.162155\n",
      "[397]\ttrain-logloss:0.162632\tvalid-logloss:0.162157\n",
      "[398]\ttrain-logloss:0.16261\tvalid-logloss:0.162153\n",
      "[399]\ttrain-logloss:0.162598\tvalid-logloss:0.162155\n",
      "[400]\ttrain-logloss:0.162577\tvalid-logloss:0.162155\n",
      "[401]\ttrain-logloss:0.162561\tvalid-logloss:0.162155\n",
      "[402]\ttrain-logloss:0.162536\tvalid-logloss:0.162153\n",
      "[403]\ttrain-logloss:0.162518\tvalid-logloss:0.162155\n",
      "[404]\ttrain-logloss:0.162497\tvalid-logloss:0.162157\n",
      "[405]\ttrain-logloss:0.16248\tvalid-logloss:0.162153\n",
      "[406]\ttrain-logloss:0.162454\tvalid-logloss:0.162155\n",
      "[407]\ttrain-logloss:0.162434\tvalid-logloss:0.162154\n",
      "[408]\ttrain-logloss:0.162407\tvalid-logloss:0.162153\n",
      "[409]\ttrain-logloss:0.162393\tvalid-logloss:0.162152\n",
      "[410]\ttrain-logloss:0.162369\tvalid-logloss:0.162152\n",
      "[411]\ttrain-logloss:0.162363\tvalid-logloss:0.162151\n",
      "[412]\ttrain-logloss:0.162353\tvalid-logloss:0.162148\n",
      "[413]\ttrain-logloss:0.162335\tvalid-logloss:0.16215\n",
      "[414]\ttrain-logloss:0.162318\tvalid-logloss:0.162151\n",
      "[415]\ttrain-logloss:0.162298\tvalid-logloss:0.162154\n",
      "[416]\ttrain-logloss:0.162288\tvalid-logloss:0.162156\n",
      "[417]\ttrain-logloss:0.162263\tvalid-logloss:0.162156\n",
      "[418]\ttrain-logloss:0.162247\tvalid-logloss:0.162157\n",
      "[419]\ttrain-logloss:0.162228\tvalid-logloss:0.162156\n",
      "[420]\ttrain-logloss:0.162202\tvalid-logloss:0.162156\n",
      "[421]\ttrain-logloss:0.162174\tvalid-logloss:0.162155\n",
      "[422]\ttrain-logloss:0.16215\tvalid-logloss:0.162156\n",
      "[423]\ttrain-logloss:0.162119\tvalid-logloss:0.162155\n",
      "[424]\ttrain-logloss:0.1621\tvalid-logloss:0.162155\n",
      "[425]\ttrain-logloss:0.162089\tvalid-logloss:0.162156\n",
      "[426]\ttrain-logloss:0.162083\tvalid-logloss:0.162157\n",
      "[427]\ttrain-logloss:0.162054\tvalid-logloss:0.162154\n",
      "[428]\ttrain-logloss:0.162032\tvalid-logloss:0.162148\n",
      "[429]\ttrain-logloss:0.162007\tvalid-logloss:0.162151\n",
      "[430]\ttrain-logloss:0.161991\tvalid-logloss:0.16215\n",
      "[431]\ttrain-logloss:0.161976\tvalid-logloss:0.162149\n",
      "[432]\ttrain-logloss:0.161956\tvalid-logloss:0.16215\n",
      "[433]\ttrain-logloss:0.161938\tvalid-logloss:0.16215\n",
      "[434]\ttrain-logloss:0.161905\tvalid-logloss:0.162147\n",
      "Stopping. Best iteration:\n",
      "[384]\ttrain-logloss:0.162899\tvalid-logloss:0.162133\n",
      "\n"
     ]
    }
   ],
   "source": [
    "xgbParam = {\n",
    "    'booster': 'gbtree',\n",
    "    'objective': 'binary:logistic',\n",
    "    'eta': 0.05,\n",
    "    'max_depth': 6,\n",
    "    'subsample': 0.7,\n",
    "    'colsample_bytree': 0.7,\n",
    "    'eval_metric': 'logloss',\n",
    "    'seed': 3333,\n",
    "    'gamma': 0, # 节点分裂所需的最小损失函数下降值\n",
    "    'scale_pos_weight': 1,\n",
    "    # 'missing': -999,\n",
    "    'alpha': 0.1,\n",
    "    'min_child_weight': 5,\n",
    "    'silent': 1,\n",
    "#     'base_score': 0.0188\n",
    "}\n",
    "xgbtrain = xgb.DMatrix(off_train[features], off_train['is_trade'])\n",
    "xgbvalid = xgb.DMatrix(off_valid[features], off_valid['is_trade'])\n",
    "watchlist = [(xgbtrain, 'train'), (xgbvalid, 'valid')]\n",
    "xgbModel = xgb.train(xgbParam, xgbtrain, evals=watchlist, num_boost_round=1500, early_stopping_rounds=50)"
   ]
  },
  {
   "cell_type": "code",
   "execution_count": 17,
   "metadata": {
    "scrolled": true
   },
   "outputs": [
    {
     "name": "stdout",
     "output_type": "stream",
     "text": [
      "[0]\ttrain-logloss:0.652755\n",
      "[1]\ttrain-logloss:0.616251\n",
      "[2]\ttrain-logloss:0.583054\n",
      "[3]\ttrain-logloss:0.552797\n",
      "[4]\ttrain-logloss:0.525136\n",
      "[5]\ttrain-logloss:0.499818\n",
      "[6]\ttrain-logloss:0.476539\n",
      "[7]\ttrain-logloss:0.455107\n",
      "[8]\ttrain-logloss:0.435342\n",
      "[9]\ttrain-logloss:0.417105\n",
      "[10]\ttrain-logloss:0.400216\n",
      "[11]\ttrain-logloss:0.38459\n",
      "[12]\ttrain-logloss:0.370107\n",
      "[13]\ttrain-logloss:0.356652\n",
      "[14]\ttrain-logloss:0.344189\n",
      "[15]\ttrain-logloss:0.332569\n",
      "[16]\ttrain-logloss:0.321744\n",
      "[17]\ttrain-logloss:0.311709\n",
      "[18]\ttrain-logloss:0.30233\n",
      "[19]\ttrain-logloss:0.293598\n",
      "[20]\ttrain-logloss:0.28547\n",
      "[21]\ttrain-logloss:0.277898\n",
      "[22]\ttrain-logloss:0.2708\n",
      "[23]\ttrain-logloss:0.264185\n",
      "[24]\ttrain-logloss:0.258008\n",
      "[25]\ttrain-logloss:0.252247\n",
      "[26]\ttrain-logloss:0.246884\n",
      "[27]\ttrain-logloss:0.241865\n",
      "[28]\ttrain-logloss:0.237182\n",
      "[29]\ttrain-logloss:0.232802\n",
      "[30]\ttrain-logloss:0.228707\n",
      "[31]\ttrain-logloss:0.224889\n",
      "[32]\ttrain-logloss:0.221317\n",
      "[33]\ttrain-logloss:0.217974\n",
      "[34]\ttrain-logloss:0.214855\n",
      "[35]\ttrain-logloss:0.211938\n",
      "[36]\ttrain-logloss:0.209221\n",
      "[37]\ttrain-logloss:0.206675\n",
      "[38]\ttrain-logloss:0.204305\n",
      "[39]\ttrain-logloss:0.202098\n",
      "[40]\ttrain-logloss:0.200021\n",
      "[41]\ttrain-logloss:0.198085\n",
      "[42]\ttrain-logloss:0.196297\n",
      "[43]\ttrain-logloss:0.194613\n",
      "[44]\ttrain-logloss:0.193058\n",
      "[45]\ttrain-logloss:0.191605\n",
      "[46]\ttrain-logloss:0.190258\n",
      "[47]\ttrain-logloss:0.188991\n",
      "[48]\ttrain-logloss:0.187811\n",
      "[49]\ttrain-logloss:0.186692\n",
      "[50]\ttrain-logloss:0.185661\n",
      "[51]\ttrain-logloss:0.184685\n",
      "[52]\ttrain-logloss:0.183765\n",
      "[53]\ttrain-logloss:0.182917\n",
      "[54]\ttrain-logloss:0.182136\n",
      "[55]\ttrain-logloss:0.181395\n",
      "[56]\ttrain-logloss:0.180709\n",
      "[57]\ttrain-logloss:0.180051\n",
      "[58]\ttrain-logloss:0.179447\n",
      "[59]\ttrain-logloss:0.178876\n",
      "[60]\ttrain-logloss:0.178348\n",
      "[61]\ttrain-logloss:0.177858\n",
      "[62]\ttrain-logloss:0.177395\n",
      "[63]\ttrain-logloss:0.176964\n",
      "[64]\ttrain-logloss:0.17655\n",
      "[65]\ttrain-logloss:0.176165\n",
      "[66]\ttrain-logloss:0.175811\n",
      "[67]\ttrain-logloss:0.175491\n",
      "[68]\ttrain-logloss:0.175172\n",
      "[69]\ttrain-logloss:0.174871\n",
      "[70]\ttrain-logloss:0.174599\n",
      "[71]\ttrain-logloss:0.174343\n",
      "[72]\ttrain-logloss:0.174083\n",
      "[73]\ttrain-logloss:0.173855\n",
      "[74]\ttrain-logloss:0.173623\n",
      "[75]\ttrain-logloss:0.173426\n",
      "[76]\ttrain-logloss:0.17322\n",
      "[77]\ttrain-logloss:0.173031\n",
      "[78]\ttrain-logloss:0.17284\n",
      "[79]\ttrain-logloss:0.172662\n",
      "[80]\ttrain-logloss:0.172505\n",
      "[81]\ttrain-logloss:0.172344\n",
      "[82]\ttrain-logloss:0.172181\n",
      "[83]\ttrain-logloss:0.172036\n",
      "[84]\ttrain-logloss:0.171906\n",
      "[85]\ttrain-logloss:0.171783\n",
      "[86]\ttrain-logloss:0.171653\n",
      "[87]\ttrain-logloss:0.171538\n",
      "[88]\ttrain-logloss:0.171425\n",
      "[89]\ttrain-logloss:0.171312\n",
      "[90]\ttrain-logloss:0.171194\n",
      "[91]\ttrain-logloss:0.171096\n",
      "[92]\ttrain-logloss:0.171005\n",
      "[93]\ttrain-logloss:0.170916\n",
      "[94]\ttrain-logloss:0.170826\n",
      "[95]\ttrain-logloss:0.170715\n",
      "[96]\ttrain-logloss:0.170634\n",
      "[97]\ttrain-logloss:0.170554\n",
      "[98]\ttrain-logloss:0.170457\n",
      "[99]\ttrain-logloss:0.170378\n",
      "[100]\ttrain-logloss:0.170297\n",
      "[101]\ttrain-logloss:0.170221\n",
      "[102]\ttrain-logloss:0.17015\n",
      "[103]\ttrain-logloss:0.170084\n",
      "[104]\ttrain-logloss:0.170015\n",
      "[105]\ttrain-logloss:0.169942\n",
      "[106]\ttrain-logloss:0.169875\n",
      "[107]\ttrain-logloss:0.169815\n",
      "[108]\ttrain-logloss:0.169751\n",
      "[109]\ttrain-logloss:0.169695\n",
      "[110]\ttrain-logloss:0.169636\n",
      "[111]\ttrain-logloss:0.169574\n",
      "[112]\ttrain-logloss:0.169518\n",
      "[113]\ttrain-logloss:0.169468\n",
      "[114]\ttrain-logloss:0.169411\n",
      "[115]\ttrain-logloss:0.169356\n",
      "[116]\ttrain-logloss:0.169288\n",
      "[117]\ttrain-logloss:0.169215\n",
      "[118]\ttrain-logloss:0.169168\n",
      "[119]\ttrain-logloss:0.169119\n",
      "[120]\ttrain-logloss:0.169067\n",
      "[121]\ttrain-logloss:0.169014\n",
      "[122]\ttrain-logloss:0.16896\n",
      "[123]\ttrain-logloss:0.168915\n",
      "[124]\ttrain-logloss:0.168858\n",
      "[125]\ttrain-logloss:0.16882\n",
      "[126]\ttrain-logloss:0.168779\n",
      "[127]\ttrain-logloss:0.168727\n",
      "[128]\ttrain-logloss:0.168686\n",
      "[129]\ttrain-logloss:0.168646\n",
      "[130]\ttrain-logloss:0.168582\n",
      "[131]\ttrain-logloss:0.168527\n",
      "[132]\ttrain-logloss:0.168484\n",
      "[133]\ttrain-logloss:0.168422\n",
      "[134]\ttrain-logloss:0.168379\n",
      "[135]\ttrain-logloss:0.168337\n",
      "[136]\ttrain-logloss:0.168292\n",
      "[137]\ttrain-logloss:0.168261\n",
      "[138]\ttrain-logloss:0.168228\n",
      "[139]\ttrain-logloss:0.168194\n",
      "[140]\ttrain-logloss:0.16814\n",
      "[141]\ttrain-logloss:0.168085\n",
      "[142]\ttrain-logloss:0.168045\n",
      "[143]\ttrain-logloss:0.168012\n",
      "[144]\ttrain-logloss:0.167973\n",
      "[145]\ttrain-logloss:0.167929\n",
      "[146]\ttrain-logloss:0.167894\n",
      "[147]\ttrain-logloss:0.167864\n",
      "[148]\ttrain-logloss:0.167829\n",
      "[149]\ttrain-logloss:0.167788\n",
      "[150]\ttrain-logloss:0.167751\n",
      "[151]\ttrain-logloss:0.167719\n",
      "[152]\ttrain-logloss:0.167678\n",
      "[153]\ttrain-logloss:0.16762\n",
      "[154]\ttrain-logloss:0.167576\n",
      "[155]\ttrain-logloss:0.167547\n",
      "[156]\ttrain-logloss:0.167519\n",
      "[157]\ttrain-logloss:0.167481\n",
      "[158]\ttrain-logloss:0.167429\n",
      "[159]\ttrain-logloss:0.167398\n",
      "[160]\ttrain-logloss:0.167372\n",
      "[161]\ttrain-logloss:0.167334\n",
      "[162]\ttrain-logloss:0.167303\n",
      "[163]\ttrain-logloss:0.16727\n",
      "[164]\ttrain-logloss:0.167231\n",
      "[165]\ttrain-logloss:0.167208\n",
      "[166]\ttrain-logloss:0.167163\n",
      "[167]\ttrain-logloss:0.167131\n",
      "[168]\ttrain-logloss:0.167097\n",
      "[169]\ttrain-logloss:0.167073\n",
      "[170]\ttrain-logloss:0.167039\n",
      "[171]\ttrain-logloss:0.167011\n",
      "[172]\ttrain-logloss:0.166963\n",
      "[173]\ttrain-logloss:0.166926\n",
      "[174]\ttrain-logloss:0.166901\n",
      "[175]\ttrain-logloss:0.166867\n",
      "[176]\ttrain-logloss:0.166826\n",
      "[177]\ttrain-logloss:0.166777\n",
      "[178]\ttrain-logloss:0.166739\n",
      "[179]\ttrain-logloss:0.166713\n",
      "[180]\ttrain-logloss:0.166686\n",
      "[181]\ttrain-logloss:0.166655\n",
      "[182]\ttrain-logloss:0.166623\n",
      "[183]\ttrain-logloss:0.166588\n",
      "[184]\ttrain-logloss:0.166563\n",
      "[185]\ttrain-logloss:0.166538\n",
      "[186]\ttrain-logloss:0.166504\n",
      "[187]\ttrain-logloss:0.166484\n",
      "[188]\ttrain-logloss:0.166448\n",
      "[189]\ttrain-logloss:0.166416\n",
      "[190]\ttrain-logloss:0.166384\n",
      "[191]\ttrain-logloss:0.166361\n",
      "[192]\ttrain-logloss:0.166335\n",
      "[193]\ttrain-logloss:0.166308\n",
      "[194]\ttrain-logloss:0.166274\n",
      "[195]\ttrain-logloss:0.166252\n",
      "[196]\ttrain-logloss:0.166236\n",
      "[197]\ttrain-logloss:0.166203\n",
      "[198]\ttrain-logloss:0.166179\n",
      "[199]\ttrain-logloss:0.166142\n",
      "[200]\ttrain-logloss:0.166112\n",
      "[201]\ttrain-logloss:0.166085\n",
      "[202]\ttrain-logloss:0.16605\n",
      "[203]\ttrain-logloss:0.166028\n",
      "[204]\ttrain-logloss:0.165994\n",
      "[205]\ttrain-logloss:0.165967\n",
      "[206]\ttrain-logloss:0.165949\n",
      "[207]\ttrain-logloss:0.165923\n",
      "[208]\ttrain-logloss:0.165889\n",
      "[209]\ttrain-logloss:0.165861\n",
      "[210]\ttrain-logloss:0.165834\n",
      "[211]\ttrain-logloss:0.16581\n",
      "[212]\ttrain-logloss:0.165784\n",
      "[213]\ttrain-logloss:0.165753\n",
      "[214]\ttrain-logloss:0.165716\n",
      "[215]\ttrain-logloss:0.165694\n",
      "[216]\ttrain-logloss:0.165667\n",
      "[217]\ttrain-logloss:0.165651\n",
      "[218]\ttrain-logloss:0.165626\n",
      "[219]\ttrain-logloss:0.16559\n",
      "[220]\ttrain-logloss:0.165556\n",
      "[221]\ttrain-logloss:0.165528\n",
      "[222]\ttrain-logloss:0.165509\n",
      "[223]\ttrain-logloss:0.165488\n",
      "[224]\ttrain-logloss:0.165455\n",
      "[225]\ttrain-logloss:0.165434\n",
      "[226]\ttrain-logloss:0.165402\n",
      "[227]\ttrain-logloss:0.16537\n",
      "[228]\ttrain-logloss:0.165337\n",
      "[229]\ttrain-logloss:0.16532\n",
      "[230]\ttrain-logloss:0.165283\n",
      "[231]\ttrain-logloss:0.165248\n",
      "[232]\ttrain-logloss:0.165217\n",
      "[233]\ttrain-logloss:0.165207\n",
      "[234]\ttrain-logloss:0.165181\n",
      "[235]\ttrain-logloss:0.165157\n",
      "[236]\ttrain-logloss:0.165131\n",
      "[237]\ttrain-logloss:0.165094\n",
      "[238]\ttrain-logloss:0.165063\n",
      "[239]\ttrain-logloss:0.165034\n",
      "[240]\ttrain-logloss:0.165008\n",
      "[241]\ttrain-logloss:0.164973\n",
      "[242]\ttrain-logloss:0.164951\n",
      "[243]\ttrain-logloss:0.164928\n",
      "[244]\ttrain-logloss:0.164908\n",
      "[245]\ttrain-logloss:0.164875\n",
      "[246]\ttrain-logloss:0.164857\n",
      "[247]\ttrain-logloss:0.164831\n",
      "[248]\ttrain-logloss:0.164797\n",
      "[249]\ttrain-logloss:0.164774\n",
      "[250]\ttrain-logloss:0.164754\n",
      "[251]\ttrain-logloss:0.164738\n",
      "[252]\ttrain-logloss:0.164723\n",
      "[253]\ttrain-logloss:0.164706\n",
      "[254]\ttrain-logloss:0.164691\n",
      "[255]\ttrain-logloss:0.164663\n",
      "[256]\ttrain-logloss:0.164637\n",
      "[257]\ttrain-logloss:0.164614\n",
      "[258]\ttrain-logloss:0.16459\n",
      "[259]\ttrain-logloss:0.164561\n",
      "[260]\ttrain-logloss:0.164533\n",
      "[261]\ttrain-logloss:0.164508\n",
      "[262]\ttrain-logloss:0.164482\n",
      "[263]\ttrain-logloss:0.164456\n",
      "[264]\ttrain-logloss:0.164431\n",
      "[265]\ttrain-logloss:0.164409\n",
      "[266]\ttrain-logloss:0.164392\n",
      "[267]\ttrain-logloss:0.164376\n",
      "[268]\ttrain-logloss:0.164362\n",
      "[269]\ttrain-logloss:0.164348\n",
      "[270]\ttrain-logloss:0.164326\n",
      "[271]\ttrain-logloss:0.164297\n",
      "[272]\ttrain-logloss:0.164279\n",
      "[273]\ttrain-logloss:0.164256\n",
      "[274]\ttrain-logloss:0.164236\n",
      "[275]\ttrain-logloss:0.164223\n",
      "[276]\ttrain-logloss:0.164194\n",
      "[277]\ttrain-logloss:0.16417\n",
      "[278]\ttrain-logloss:0.164146\n",
      "[279]\ttrain-logloss:0.16413\n",
      "[280]\ttrain-logloss:0.164104\n",
      "[281]\ttrain-logloss:0.164085\n",
      "[282]\ttrain-logloss:0.164062\n",
      "[283]\ttrain-logloss:0.164044\n",
      "[284]\ttrain-logloss:0.164032\n",
      "[285]\ttrain-logloss:0.164015\n",
      "[286]\ttrain-logloss:0.163989\n",
      "[287]\ttrain-logloss:0.163971\n"
     ]
    },
    {
     "name": "stdout",
     "output_type": "stream",
     "text": [
      "[288]\ttrain-logloss:0.163956\n",
      "[289]\ttrain-logloss:0.163942\n",
      "[290]\ttrain-logloss:0.163912\n",
      "[291]\ttrain-logloss:0.163892\n",
      "[292]\ttrain-logloss:0.16387\n",
      "[293]\ttrain-logloss:0.163847\n",
      "[294]\ttrain-logloss:0.163829\n",
      "[295]\ttrain-logloss:0.163811\n",
      "[296]\ttrain-logloss:0.163791\n",
      "[297]\ttrain-logloss:0.163779\n",
      "[298]\ttrain-logloss:0.163753\n",
      "[299]\ttrain-logloss:0.163726\n",
      "[300]\ttrain-logloss:0.163711\n",
      "[301]\ttrain-logloss:0.163691\n",
      "[302]\ttrain-logloss:0.163664\n",
      "[303]\ttrain-logloss:0.163637\n",
      "[304]\ttrain-logloss:0.163626\n",
      "[305]\ttrain-logloss:0.163609\n",
      "[306]\ttrain-logloss:0.163587\n",
      "[307]\ttrain-logloss:0.163567\n",
      "[308]\ttrain-logloss:0.163546\n",
      "[309]\ttrain-logloss:0.163534\n",
      "[310]\ttrain-logloss:0.16351\n",
      "[311]\ttrain-logloss:0.163481\n",
      "[312]\ttrain-logloss:0.163452\n",
      "[313]\ttrain-logloss:0.163426\n",
      "[314]\ttrain-logloss:0.163404\n",
      "[315]\ttrain-logloss:0.163395\n",
      "[316]\ttrain-logloss:0.163385\n",
      "[317]\ttrain-logloss:0.163374\n",
      "[318]\ttrain-logloss:0.163361\n",
      "[319]\ttrain-logloss:0.163336\n",
      "[320]\ttrain-logloss:0.163313\n",
      "[321]\ttrain-logloss:0.163293\n",
      "[322]\ttrain-logloss:0.163277\n",
      "[323]\ttrain-logloss:0.163251\n",
      "[324]\ttrain-logloss:0.163232\n",
      "[325]\ttrain-logloss:0.163214\n",
      "[326]\ttrain-logloss:0.163191\n",
      "[327]\ttrain-logloss:0.163171\n",
      "[328]\ttrain-logloss:0.163154\n",
      "[329]\ttrain-logloss:0.163132\n",
      "[330]\ttrain-logloss:0.163117\n",
      "[331]\ttrain-logloss:0.163098\n",
      "[332]\ttrain-logloss:0.163086\n",
      "[333]\ttrain-logloss:0.163072\n",
      "[334]\ttrain-logloss:0.163049\n",
      "[335]\ttrain-logloss:0.163034\n",
      "[336]\ttrain-logloss:0.163015\n",
      "[337]\ttrain-logloss:0.163001\n",
      "[338]\ttrain-logloss:0.162993\n",
      "[339]\ttrain-logloss:0.16298\n",
      "[340]\ttrain-logloss:0.162955\n",
      "[341]\ttrain-logloss:0.162934\n",
      "[342]\ttrain-logloss:0.162914\n",
      "[343]\ttrain-logloss:0.162893\n",
      "[344]\ttrain-logloss:0.162879\n",
      "[345]\ttrain-logloss:0.162865\n",
      "[346]\ttrain-logloss:0.162854\n",
      "[347]\ttrain-logloss:0.162841\n",
      "[348]\ttrain-logloss:0.162818\n",
      "[349]\ttrain-logloss:0.162799\n",
      "[350]\ttrain-logloss:0.162779\n",
      "[351]\ttrain-logloss:0.162768\n",
      "[352]\ttrain-logloss:0.162742\n",
      "[353]\ttrain-logloss:0.162718\n",
      "[354]\ttrain-logloss:0.162692\n",
      "[355]\ttrain-logloss:0.162682\n",
      "[356]\ttrain-logloss:0.162663\n",
      "[357]\ttrain-logloss:0.162649\n",
      "[358]\ttrain-logloss:0.162629\n",
      "[359]\ttrain-logloss:0.162606\n",
      "[360]\ttrain-logloss:0.162592\n",
      "[361]\ttrain-logloss:0.162572\n",
      "[362]\ttrain-logloss:0.16255\n",
      "[363]\ttrain-logloss:0.162528\n",
      "[364]\ttrain-logloss:0.162508\n",
      "[365]\ttrain-logloss:0.162487\n",
      "[366]\ttrain-logloss:0.162471\n",
      "[367]\ttrain-logloss:0.162455\n",
      "[368]\ttrain-logloss:0.162426\n",
      "[369]\ttrain-logloss:0.162415\n",
      "[370]\ttrain-logloss:0.162401\n",
      "[371]\ttrain-logloss:0.162373\n",
      "[372]\ttrain-logloss:0.16235\n",
      "[373]\ttrain-logloss:0.162328\n",
      "[374]\ttrain-logloss:0.162307\n",
      "[375]\ttrain-logloss:0.162283\n",
      "[376]\ttrain-logloss:0.162253\n",
      "[377]\ttrain-logloss:0.162235\n",
      "[378]\ttrain-logloss:0.162217\n",
      "[379]\ttrain-logloss:0.162198\n",
      "[380]\ttrain-logloss:0.162192\n",
      "[381]\ttrain-logloss:0.162178\n",
      "[382]\ttrain-logloss:0.162168\n",
      "[383]\ttrain-logloss:0.162145\n"
     ]
    }
   ],
   "source": [
    "bst_iter = xgbModel.best_iteration\n",
    "xgbtrain = xgb.DMatrix(train[features], train['is_trade'])\n",
    "watchlist = [(xgbtrain, 'train')]\n",
    "_xgbModel = xgb.train(xgbParam, xgbtrain, evals=watchlist, num_boost_round=bst_iter)"
   ]
  },
  {
   "cell_type": "code",
   "execution_count": 18,
   "metadata": {},
   "outputs": [],
   "source": [
    "test_b = pd.read_table('../glq/2.data/round2_test_b.txt', delim_whitespace=True, index_col=None)"
   ]
  },
  {
   "cell_type": "code",
   "execution_count": 19,
   "metadata": {
    "scrolled": true
   },
   "outputs": [
    {
     "name": "stdout",
     "output_type": "stream",
     "text": [
      "1209768\n",
      "1209768\n",
      "instance_id        False\n",
      "predicted_score    False\n",
      "dtype: bool\n"
     ]
    }
   ],
   "source": [
    "testB_len = len(test_b)\n",
    "print(testB_len)\n",
    "xgbtest = xgb.DMatrix(test.iloc[-testB_len:][features])\n",
    "test_b.loc[:, 'predicted_score'] = _xgbModel.predict(xgbtest)\n",
    "res = test_b[['instance_id', 'predicted_score']].reset_index(drop=True)\n",
    "print(len(res))\n",
    "print(res.isnull().any())\n",
    "res.to_csv('res-xgb-0515-3.txt', index=False, sep=' ', line_terminator='\\r')  # 保存在线提交结果"
   ]
  },
  {
   "cell_type": "code",
   "execution_count": 175,
   "metadata": {},
   "outputs": [
    {
     "data": {
      "text/plain": [
       "0.04031452536582947"
      ]
     },
     "execution_count": 175,
     "metadata": {},
     "output_type": "execute_result"
    }
   ],
   "source": [
    "res['predicted_score'].mean()"
   ]
  },
  {
   "cell_type": "code",
   "execution_count": 176,
   "metadata": {},
   "outputs": [],
   "source": [
    "# 用来修正\n",
    "test_b[['user_id', 'predicted_score', 'instance_id']].reset_index(drop=True).to_csv('test-res-0514.csv', index=False)  # 保存在线提交结果"
   ]
  },
  {
   "cell_type": "markdown",
   "metadata": {},
   "source": [
    "# Catboost训练\n",
    "- 参考：https://blog.csdn.net/AiirrrrYee/article/details/78224232"
   ]
  },
  {
   "cell_type": "code",
   "execution_count": null,
   "metadata": {},
   "outputs": [],
   "source": [
    "from catboost import CatBoostClassifier\n",
    "from catboost import Pool"
   ]
  },
  {
   "cell_type": "code",
   "execution_count": null,
   "metadata": {},
   "outputs": [],
   "source": [
    "model = CatBoostClassifier(\n",
    "    fold_permutation_block_size=None, # 在数据随机排列前分块，值越小越慢。默认1。\n",
    "    nan_mode=None, # 处理输入数据中缺失值的方法，包括Forbidden(禁止存在缺失)，Min(用最小值补)，Max(用最大值补)。默认Min。\n",
    "    ignored_features=None,\n",
    "    use_best_model=None,\n",
    "    custom_loss=None,\n",
    "    loss_function='Logloss', # 支持的有RMSE, Logloss, MAE, CrossEntropy, Quantile, LogLinQuantile, Multiclass, MultiClassOneVsAll, MAPE, Poisson。默认Logloss。\n",
    "    eval_metric=None,\n",
    "    iterations=None, # 最大树数。默认500。\n",
    "    depth=None, #  树深，最大16，建议在1到10之间。默认6。\n",
    "    learning_rate=None, # 学习率。默认0.03。\n",
    "    rsm=None,\n",
    "    leaf_estimation_method=None,\n",
    "    l2_leaf_reg=None,  # l2正则参数。默认3\n",
    "    has_time=None,\n",
    "    name=None,\n",
    "    fold_len_multiplier=None,\n",
    "    approx_on_full_history=None,\n",
    "    classes_count=None,\n",
    "    class_weights=None,\n",
    "    one_hot_max_size=None,\n",
    "    random_strength=None,\n",
    "    bagging_temperature=None,\n",
    "    \n",
    "    # Binarization settings \n",
    "    border_count=None, # numerical features的分割数，范围1－255。默认128。 \n",
    "    feature_border_type=None, # numerical features的二值化模式，Median, Uniform, UniformAndQuantiles, MaxSumLog, MinEntropy, GreedyLogSum。默认MiniEntropy。\n",
    "    # Overfitting detection settings \n",
    "    od_pval=None, # 使用IncToDec时的阈值，值越大越早检测出过拟合。默认0（不使用过拟合检测）。\n",
    "    od_wait=None, # 在最小化损失函数后的迭代次数。使用InctoDec时，表示当达到阈值后，忽略过拟合检测，继续训练。使用Iter时，表示达到指定次数后，停止训练。默认20。\n",
    "    od_type=None, # 过拟合检测类型：IncToDec/ Iter。默认IncToDec。 \n",
    "    # CTR settings \n",
    "    counter_calc_method=None, # 计算点击率类型的方法，PrefixTest考虑测试集中当前对象，FullTest考虑测试集中所有对象，SkipTest不考虑测试集中的对象，Full考虑训练和测试集中的全部对象。默认None（PrefixTest）。 \n",
    "    ctr_leaf_count_limit=None,\n",
    "    store_all_simple_ctr=None,\n",
    "    max_ctr_complexity=None,\n",
    "    ctr_description=None,\n",
    "    # Performance settings\n",
    "    thread_count=None,\n",
    "    # Output settings \n",
    "    verbose=None,\n",
    "    train_dir=None,\n",
    "    allow_writing_files=None,\n",
    "    save_snapshot=None,\n",
    "    snapshot_file=None,\n",
    "    logging_level=None,\n",
    "    \n",
    "    \n",
    "    \n",
    "    leaf_estimation_iterations=None,\n",
    "    model_size_reg=None,\n",
    "    random_seed=None,\n",
    "    metric_period=None,\n",
    "    custom_metric=None,\n",
    "    used_ram_limit=None,\n",
    "    gpu_ram_part=None,\n",
    "    boosting_type=None,\n",
    "    simple_ctr=None,                         \n",
    "    combinations_ctr=None,\n",
    "    per_feature_ctr=None,\n",
    "    task_type=None,\n",
    "    device_config=None,\n",
    "    devices=None,\n",
    "    bootstrap_type=None,\n",
    "    subsample=None,\n",
    "    max_depth=None,\n",
    "    n_estimators=None,\n",
    "    num_boost_round=None,\n",
    "    num_trees=None,\n",
    "    colsample_bylevel=None,\n",
    "    random_state=None,\n",
    "    reg_lambda=None,\n",
    "    objective=None,\n",
    "    eta=None,\n",
    "    max_bin=None,\n",
    "    scale_pos_weight=None,\n",
    "    gpu_cat_features_storage=None)\n",
    "\n",
    "model.fit(train_data, train_label, cat_features=[0,2,5])\n"
   ]
  }
 ],
 "metadata": {
  "kernelspec": {
   "display_name": "Python 3",
   "language": "python",
   "name": "python3"
  },
  "language_info": {
   "codemirror_mode": {
    "name": "ipython",
    "version": 3
   },
   "file_extension": ".py",
   "mimetype": "text/x-python",
   "name": "python",
   "nbconvert_exporter": "python",
   "pygments_lexer": "ipython3",
   "version": "3.6.4"
  }
 },
 "nbformat": 4,
 "nbformat_minor": 2
}
