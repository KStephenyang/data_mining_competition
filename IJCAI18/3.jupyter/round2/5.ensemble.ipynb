{
 "cells": [
  {
   "cell_type": "code",
   "execution_count": 2,
   "metadata": {},
   "outputs": [],
   "source": [
    "# coding: utf-8\n",
    "import pandas as pd\n",
    "import numpy as np\n",
    "from scipy.stats import hmean"
   ]
  },
  {
   "cell_type": "markdown",
   "metadata": {},
   "source": [
    "# 较优结果"
   ]
  },
  {
   "cell_type": "code",
   "execution_count": 2,
   "metadata": {},
   "outputs": [],
   "source": [
    "res_xgb_14133 = pd.read_table('res-xgb-0512-14133.txt', delim_whitespace=True, index_col=None)\n",
    "res_haobin_lgb_14159 = pd.read_table('res-haobin-lgb-14159.txt', delim_whitespace=True, index_col=None)\n",
    "res_xgb_14061 = pd.read_table('res-xgb-0513-14061.txt', delim_whitespace=True, index_col=None)"
   ]
  },
  {
   "cell_type": "code",
   "execution_count": 6,
   "metadata": {},
   "outputs": [
    {
     "data": {
      "text/plain": [
       "0.03590824052380701"
      ]
     },
     "execution_count": 6,
     "metadata": {},
     "output_type": "execute_result"
    }
   ],
   "source": [
    "res_haobin_lgb_14159['predicted_score'].mean()"
   ]
  },
  {
   "cell_type": "code",
   "execution_count": 7,
   "metadata": {},
   "outputs": [
    {
     "data": {
      "text/plain": [
       "0.042517971309844194"
      ]
     },
     "execution_count": 7,
     "metadata": {},
     "output_type": "execute_result"
    }
   ],
   "source": [
    "res_xgb_14133['predicted_score'].mean()"
   ]
  },
  {
   "cell_type": "code",
   "execution_count": 8,
   "metadata": {},
   "outputs": [
    {
     "data": {
      "text/plain": [
       "0.04023400877042759"
      ]
     },
     "execution_count": 8,
     "metadata": {},
     "output_type": "execute_result"
    }
   ],
   "source": [
    "res_xgb_14061['predicted_score'].mean()"
   ]
  },
  {
   "cell_type": "code",
   "execution_count": null,
   "metadata": {},
   "outputs": [],
   "source": []
  },
  {
   "cell_type": "code",
   "execution_count": 3,
   "metadata": {},
   "outputs": [],
   "source": [
    "one = pd.read_table('res-xgb-0514-14048.txt', delim_whitespace=True, index_col=None)"
   ]
  },
  {
   "cell_type": "code",
   "execution_count": 4,
   "metadata": {},
   "outputs": [],
   "source": [
    "two = pd.read_table('res-lgb-subsample-final.txt', delim_whitespace=True, index_col=None)"
   ]
  },
  {
   "cell_type": "code",
   "execution_count": 5,
   "metadata": {},
   "outputs": [],
   "source": [
    "three = pd.read_table('res-xgb-0515-1.txt', delim_whitespace=True, index_col=None)"
   ]
  },
  {
   "cell_type": "code",
   "execution_count": 10,
   "metadata": {
    "scrolled": true
   },
   "outputs": [],
   "source": [
    "four = pd.read_table('res-lgb-0515-2-162224.txt', delim_whitespace=True, index_col=None)"
   ]
  },
  {
   "cell_type": "code",
   "execution_count": 8,
   "metadata": {},
   "outputs": [],
   "source": [
    "five = pd.read_table('res-lgb-0515-1-162246.txt', delim_whitespace=True, index_col=None)"
   ]
  },
  {
   "cell_type": "code",
   "execution_count": 7,
   "metadata": {},
   "outputs": [],
   "source": [
    "six = pd.read_table('res-xgb-0515-3.txt', delim_whitespace=True, index_col=None)"
   ]
  },
  {
   "cell_type": "markdown",
   "metadata": {},
   "source": [
    "# 平均"
   ]
  },
  {
   "cell_type": "markdown",
   "metadata": {},
   "source": [
    "### 算术平均"
   ]
  },
  {
   "cell_type": "code",
   "execution_count": 15,
   "metadata": {},
   "outputs": [],
   "source": [
    "concat_res = pd.concat([one,two,three,four,six])\n",
    "mean_res = concat_res.groupby(['instance_id'], as_index=False, sort=False)['predicted_score'].agg({'predicted_score': 'mean'})\n",
    "mean_res.to_csv('final-of-5.txt', index=False, sep=' ', line_terminator='\\r')"
   ]
  },
  {
   "cell_type": "code",
   "execution_count": 13,
   "metadata": {
    "scrolled": true
   },
   "outputs": [
    {
     "data": {
      "text/plain": [
       "0.03540010755048796"
      ]
     },
     "execution_count": 13,
     "metadata": {},
     "output_type": "execute_result"
    }
   ],
   "source": [
    "mean_res['predicted_score'].std()"
   ]
  },
  {
   "cell_type": "code",
   "execution_count": 18,
   "metadata": {
    "collapsed": true
   },
   "outputs": [],
   "source": [
    "concat_res = pd.concat([res_8109, res_8107, res_8118])\n",
    "mean_res = concat_res.groupby(['instance_id'], as_index=False, sort=False)['predicted_score'].agg({'predicted_score': 'mean'})\n",
    "mean_res.to_csv('results/ensemble/mean-0412-1.txt', index=False, sep=' ', line_terminator='\\r')"
   ]
  },
  {
   "cell_type": "markdown",
   "metadata": {},
   "source": [
    "### logit变换"
   ]
  },
  {
   "cell_type": "code",
   "execution_count": 14,
   "metadata": {},
   "outputs": [],
   "source": [
    "_logit = (0-np.log(1/one['predicted_score']-1) - np.log(1/two['predicted_score']-1) - np.log(1/three['predicted_score']-1) - np.log(1/four['predicted_score']-1)- np.log(1/five['predicted_score']-1)- np.log(1/six['predicted_score']-1))/6\n",
    "logit_mean_score = 1/(1+np.exp(_logit*-1))\n",
    "logit_res = pd.concat([one['instance_id'], logit_mean_score], axis=1)\n",
    "logit_res.to_csv('final-res-logit-mean.txt', index=False, sep=' ', line_terminator='\\r')"
   ]
  },
  {
   "cell_type": "code",
   "execution_count": 20,
   "metadata": {
    "collapsed": true
   },
   "outputs": [],
   "source": [
    "_logit = (0-np.log(1/res_8109['predicted_score']-1) - np.log(1/res_8107['predicted_score']-1) - np.log(1/res_8118['predicted_score']-1))/3\n",
    "logit_mean_score = 1/(1+np.exp(_logit*-1))\n",
    "logit_res = pd.concat([res_8121['instance_id'], logit_mean_score], axis=1)\n",
    "logit_res.to_csv('results/ensemble/logit-0412-3.txt', index=False, sep=' ', line_terminator='\\r')"
   ]
  },
  {
   "cell_type": "code",
   "execution_count": 7,
   "metadata": {
    "collapsed": true
   },
   "outputs": [],
   "source": [
    "_logit = (0-np.log(1/res_8099['predicted_score']-1) - np.log(1/res_8094['predicted_score']-1) - np.log(1/res_8093['predicted_score']-1))/3\n",
    "logit_mean_score = 1/(1+np.exp(_logit*-1))\n",
    "logit_res = pd.concat([res_8099['instance_id'], logit_mean_score], axis=1)\n",
    "logit_res.to_csv('results/ensemble/logit-0417.txt', index=False, sep=' ', line_terminator='\\r')"
   ]
  },
  {
   "cell_type": "markdown",
   "metadata": {},
   "source": [
    "# 调和平均"
   ]
  },
  {
   "cell_type": "code",
   "execution_count": 16,
   "metadata": {
    "collapsed": true
   },
   "outputs": [],
   "source": [
    "concat_res = pd.concat([res_8121, res_8112, res_8118])\n",
    "hmean_res = concat_res.groupby(['instance_id'], as_index=False, sort=False)['predicted_score'].agg({'predicted_score': hmean})\n",
    "logit_res.to_csv('results/ensemble/hmean-0413-3.txt', index=False, sep=' ', line_terminator='\\r')"
   ]
  },
  {
   "cell_type": "markdown",
   "metadata": {
    "collapsed": true
   },
   "source": [
    "# 结果的转化率查看"
   ]
  },
  {
   "cell_type": "code",
   "execution_count": 3,
   "metadata": {
    "scrolled": true
   },
   "outputs": [
    {
     "data": {
      "text/html": [
       "<div>\n",
       "<style>\n",
       "    .dataframe thead tr:only-child th {\n",
       "        text-align: right;\n",
       "    }\n",
       "\n",
       "    .dataframe thead th {\n",
       "        text-align: left;\n",
       "    }\n",
       "\n",
       "    .dataframe tbody tr th {\n",
       "        vertical-align: top;\n",
       "    }\n",
       "</style>\n",
       "<table border=\"1\" class=\"dataframe\">\n",
       "  <thead>\n",
       "    <tr style=\"text-align: right;\">\n",
       "      <th></th>\n",
       "      <th>instance_id</th>\n",
       "      <th>predicted_score</th>\n",
       "    </tr>\n",
       "  </thead>\n",
       "  <tbody>\n",
       "    <tr>\n",
       "      <th>count</th>\n",
       "      <td>1.837100e+04</td>\n",
       "      <td>18371.000000</td>\n",
       "    </tr>\n",
       "    <tr>\n",
       "      <th>mean</th>\n",
       "      <td>4.607419e+18</td>\n",
       "      <td>0.019746</td>\n",
       "    </tr>\n",
       "    <tr>\n",
       "      <th>std</th>\n",
       "      <td>2.674410e+18</td>\n",
       "      <td>0.017168</td>\n",
       "    </tr>\n",
       "    <tr>\n",
       "      <th>min</th>\n",
       "      <td>1.772728e+14</td>\n",
       "      <td>0.001655</td>\n",
       "    </tr>\n",
       "    <tr>\n",
       "      <th>25%</th>\n",
       "      <td>2.287309e+18</td>\n",
       "      <td>0.008995</td>\n",
       "    </tr>\n",
       "    <tr>\n",
       "      <th>50%</th>\n",
       "      <td>4.627598e+18</td>\n",
       "      <td>0.014435</td>\n",
       "    </tr>\n",
       "    <tr>\n",
       "      <th>75%</th>\n",
       "      <td>6.928380e+18</td>\n",
       "      <td>0.024219</td>\n",
       "    </tr>\n",
       "    <tr>\n",
       "      <th>max</th>\n",
       "      <td>9.222350e+18</td>\n",
       "      <td>0.241275</td>\n",
       "    </tr>\n",
       "  </tbody>\n",
       "</table>\n",
       "</div>"
      ],
      "text/plain": [
       "        instance_id  predicted_score\n",
       "count  1.837100e+04     18371.000000\n",
       "mean   4.607419e+18         0.019746\n",
       "std    2.674410e+18         0.017168\n",
       "min    1.772728e+14         0.001655\n",
       "25%    2.287309e+18         0.008995\n",
       "50%    4.627598e+18         0.014435\n",
       "75%    6.928380e+18         0.024219\n",
       "max    9.222350e+18         0.241275"
      ]
     },
     "execution_count": 3,
     "metadata": {},
     "output_type": "execute_result"
    }
   ],
   "source": [
    "res_8062 = pd.read_table('results/ensemble/0412/mean-0412-1-8062.txt', delim_whitespace=True, index_col=None)\n",
    "res_8062.describe()"
   ]
  },
  {
   "cell_type": "code",
   "execution_count": 12,
   "metadata": {},
   "outputs": [
    {
     "name": "stdout",
     "output_type": "stream",
     "text": [
      "0.0209608110069\n",
      "0.0191996766718\n",
      "0.0193671766356\n"
     ]
    }
   ],
   "source": [
    "res_8185 = pd.read_table('results/xgb/0412/xgb-0412-0.txt', delim_whitespace=True, index_col=None)\n",
    "print res_8185['predicted_score'].mean()\n",
    "res_8133 = pd.read_table('results/xgb/0412/xgb-0412-2.txt', delim_whitespace=True, index_col=None)\n",
    "print res_8133['predicted_score'].mean()\n",
    "res_8112 = pd.read_table('results/xgb/0412/xgb-0412-1.txt', delim_whitespace=True, index_col=None)\n",
    "print res_8112['predicted_score'].mean()"
   ]
  },
  {
   "cell_type": "code",
   "execution_count": 17,
   "metadata": {},
   "outputs": [
    {
     "data": {
      "text/plain": [
       "0.019113276210992482"
      ]
     },
     "execution_count": 17,
     "metadata": {},
     "output_type": "execute_result"
    }
   ],
   "source": [
    "logit_res['predicted_score'].mean()"
   ]
  },
  {
   "cell_type": "code",
   "execution_count": null,
   "metadata": {
    "collapsed": true
   },
   "outputs": [],
   "source": []
  }
 ],
 "metadata": {
  "kernelspec": {
   "display_name": "Python 3",
   "language": "python",
   "name": "python3"
  },
  "language_info": {
   "codemirror_mode": {
    "name": "ipython",
    "version": 3
   },
   "file_extension": ".py",
   "mimetype": "text/x-python",
   "name": "python",
   "nbconvert_exporter": "python",
   "pygments_lexer": "ipython3",
   "version": "3.6.4"
  }
 },
 "nbformat": 4,
 "nbformat_minor": 2
}
