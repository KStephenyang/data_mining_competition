{
 "cells": [
  {
   "cell_type": "markdown",
   "metadata": {},
   "source": [
    "# 0.导包"
   ]
  },
  {
   "cell_type": "code",
   "execution_count": 1,
   "metadata": {
    "collapsed": true
   },
   "outputs": [],
   "source": [
    "import os\n",
    "#数据处理\n",
    "import pandas as pd\n",
    "import numpy as np\n",
    "import random\n",
    "import sklearn.preprocessing as preprocessing\n",
    "#可视化\n",
    "import matplotlib.pyplot as plt\n",
    "import seaborn as sns\n",
    "%matplotlib inline\n",
    "#ML\n",
    "from sklearn.neighbors import KNeighborsClassifier\n",
    "from sklearn.model_selection import GridSearchCV\n",
    "from sklearn.ensemble import (GradientBoostingClassifier, GradientBoostingRegressor, \n",
    "                              RandomForestClassifier, RandomForestRegressor)\n",
    "from sklearn.linear_model import LogisticRegression\n",
    "from sklearn.model_selection import train_test_split\n",
    "from sklearn.model_selection import learning_curve\n",
    "\n",
    "import warnings\n",
    "warnings.filterwarnings('ignore')"
   ]
  },
  {
   "cell_type": "markdown",
   "metadata": {},
   "source": [
    "# 1.数据载入"
   ]
  },
  {
   "cell_type": "code",
   "execution_count": 3,
   "metadata": {},
   "outputs": [
    {
     "name": "stdout",
     "output_type": "stream",
     "text": [
      "(18371,)\n"
     ]
    }
   ],
   "source": [
    "# 载入数据，需要5GB内存\n",
    "feature_type = (np.int64,np.int64,(np.str,60),(np.str,1990),np.int64,np.int64,np.int8,np.int8,np.int8,np.int8,np.int64,np.int8,np.int64,np.int64,np.int64,np.int64,np.int64,np.int32,(np.str,385),np.int64,np.int8,float,np.int16,float,float,float,np.int8)\n",
    "data = np.genfromtxt('data/round1_train.txt',dtype = feature_type,delimiter=' ',skip_header=1)\n",
    "print(data.shape)\n",
    "data = pd.DataFrame(data)\n",
    "\n",
    "# 读入缺失值\n",
    "data[data == -1] = np.nan\n",
    "data[data == -1.00] = np.nan\n",
    "data[data == '-1'] = np.nan"
   ]
  },
  {
   "cell_type": "markdown",
   "metadata": {},
   "source": [
    "# 2.重复值处理"
   ]
  },
  {
   "cell_type": "code",
   "execution_count": 4,
   "metadata": {
    "scrolled": true
   },
   "outputs": [
    {
     "name": "stdout",
     "output_type": "stream",
     "text": [
      "18371\n",
      "18371\n"
     ]
    }
   ],
   "source": [
    "print(len(data))\n",
    "data = data.drop_duplicates()\n",
    "print(len(data))"
   ]
  },
  {
   "cell_type": "markdown",
   "metadata": {},
   "source": [
    "# 3.缺失值处理\n",
    "\n",
    "- 缺失的值比较少，取均值\n",
    "\n",
    "- 缺失的值中间，对于类别信息的列可以将缺失作为新的类别做 one-hot\n",
    "\n",
    "## 3.1缺失值\n",
    "- 广告商品的品牌编号:丢弃缺失值所在样本\n",
    "- 广告商品的城市编号:丢弃缺失值所在样本\n",
    "- 广告商品的销量等级（数值越大表示销量越高）:\n",
    "\n",
    "\n",
    "- 用户的预测性别编号：新建一个类别\n",
    "- 用户的预测年龄等级（数值越大表示年龄越大）：\n",
    "- 用户的预测职业编号：\n",
    "- 用户的星级编号（越大星级越高）：\n",
    "- 根据查询词预测的类目属性列表：丢弃缺失值所在样本\n",
    "\n",
    "\n",
    "- 店铺的好评率（越大越高）：丢弃缺失值所在样本\n",
    "- 店铺的服务态度评分（越大越高）:丢弃缺失值所在样本\n",
    "- 店铺的物流服务评分（越大越高）:丢弃缺失值所在样本\n",
    "- 店铺的描述相符评分（越大越高）:丢弃缺失值所在样本\n",
    "\n",
    "## 3.2扔掉缺失值的样本\n",
    "- 这样虽然信息用的不充分，但也不会引入额外的误差。\n",
    "\n",
    "## 3.3用平均值或者中位数来填充缺失值\n",
    "- 连续值：\n",
    "    - 偏正态分布，使用均值代替，可以保持数据的均值\n",
    "    - 偏长尾分布，使用中值代替，避免受 outlier 的影响\n",
    "- 离散值：使用众数代替\n",
    "\n",
    "## 3.4空与不空可以作为特征值（扩充取值域）"
   ]
  },
  {
   "cell_type": "code",
   "execution_count": 5,
   "metadata": {
    "scrolled": true
   },
   "outputs": [
    {
     "name": "stdout",
     "output_type": "stream",
     "text": [
      "f0       0\n",
      "f1       0\n",
      "f2       0\n",
      "f3       0\n",
      "f4      18\n",
      "f5       6\n",
      "f6       0\n",
      "f7      35\n",
      "f8       0\n",
      "f9       0\n",
      "f10      0\n",
      "f11    469\n",
      "f12     18\n",
      "f13     18\n",
      "f14     18\n",
      "f15      0\n",
      "f16      0\n",
      "f17      0\n",
      "f18      0\n",
      "f19      0\n",
      "f20      0\n",
      "f21      0\n",
      "f22      0\n",
      "f23      1\n",
      "f24      1\n",
      "f25      1\n",
      "dtype: int64\n",
      "18371\n"
     ]
    }
   ],
   "source": [
    "print(data.isnull().sum())\n",
    "print(len(data))"
   ]
  },
  {
   "cell_type": "code",
   "execution_count": 14,
   "metadata": {
    "collapsed": true,
    "scrolled": true
   },
   "outputs": [],
   "source": [
    "data.dropna(axis = 0,subset = ['f4','f5','f18','f21','f23','f24','f25'],inplace = True)"
   ]
  },
  {
   "cell_type": "code",
   "execution_count": 7,
   "metadata": {
    "scrolled": true
   },
   "outputs": [
    {
     "name": "stdout",
     "output_type": "stream",
     "text": [
      "f0      0\n",
      "f1      0\n",
      "f2      0\n",
      "f3      0\n",
      "f4     18\n",
      "f5      6\n",
      "f6      0\n",
      "f7      0\n",
      "f8      0\n",
      "f9      0\n",
      "f10     0\n",
      "f11     0\n",
      "f12     0\n",
      "f13     0\n",
      "f14     0\n",
      "f15     0\n",
      "f16     0\n",
      "f17     0\n",
      "f18     0\n",
      "f19     0\n",
      "f20     0\n",
      "f21     0\n",
      "f22     0\n",
      "f23     1\n",
      "f24     1\n",
      "f25     1\n",
      "dtype: int64\n"
     ]
    }
   ],
   "source": [
    "print(data.isnull().sum())"
   ]
  },
  {
   "cell_type": "code",
   "execution_count": 9,
   "metadata": {
    "collapsed": true
   },
   "outputs": [],
   "source": [
    "# 对于test数据\n",
    "# data['f4'].fillna(int(data['f4'].mean()),inplace = True) # 广告商品的销量等级（数值越大表示销量越高）\n",
    "# data['f5'].fillna(int(data['f6'].mean()),inplace = True) # 广告商品的销量等级（数值越大表示销量越高）\n",
    "\n",
    "# data['f23'].fillna(data['f23'].mean(),inplace = True) # 广告商品的销量等级（数值越大表示销量越高）\n",
    "# data['f24'].fillna(data['f24'].mean(),inplace = True) # 广告商品的销量等级（数值越大表示销量越高）\n",
    "# data['f25'].fillna(data['f25'].mean(),inplace = True) # 广告商品的销量等级（数值越大表示销量越高）"
   ]
  },
  {
   "cell_type": "code",
   "execution_count": 6,
   "metadata": {
    "collapsed": true
   },
   "outputs": [],
   "source": [
    "data['f11'].fillna(3,inplace = True) # 用户的预测性别编号\n",
    "\n",
    "data['f7'].fillna(int(data['f7'].mean()),inplace = True) # 广告商品的销量等级（数值越大表示销量越高）\n",
    "data['f12'].fillna(int(data['f12'].mean()),inplace = True) # 广告商品被收藏次数的等级（数值越大表示被收藏次数越高）\n",
    "data['f13'].fillna(int(data['f13'].mode()),inplace = True) # 用户的预测职业编号\n",
    "data['f14'].fillna(int(data['f14'].median()),inplace = True) # 用户的星级编号（越大星级越高）"
   ]
  },
  {
   "cell_type": "markdown",
   "metadata": {},
   "source": [
    "## 3.5利用其它的变量去估计缺失变量的值"
   ]
  },
  {
   "cell_type": "code",
   "execution_count": null,
   "metadata": {
    "collapsed": true,
    "scrolled": true
   },
   "outputs": [],
   "source": [
    "# 预测f7广告商品的销售等级\n",
    "# 相关变量：f6、f8、f9、f20、f21、f22、f23、f24、f25、f16\n",
    "# 暂时不用\n",
    "def setMissingAges(df,train_labels,test_label):\n",
    "\n",
    "    # 去模型变量\n",
    "    age_df = df[test_label + train_labels]\n",
    "\n",
    "    # 将年龄缺失样本挑出\n",
    "    knownAge = age_df.loc[ (df[test_label].notnull()) ]\n",
    "    unknownAge = age_df.loc[ (df[test_label].isnull()) ]\n",
    "\n",
    "    # 取y值\n",
    "    y = knownAge.values[:, 0]\n",
    "\n",
    "    # 取X值\n",
    "    X = knownAge.values[:, 1::]\n",
    "\n",
    "    # 建模\n",
    "    rtr = RandomForestRegressor(n_estimators=2000, n_jobs=-1)\n",
    "    \n",
    "    rtr.fit(X, y)\n",
    "\n",
    "    # 预测\n",
    "    predictedAges = rtr.predict(unknownAge.values[:, 1::])\n",
    "\n",
    "    # 赋值\n",
    "    df.loc[ (df[test_label].isnull()), test_label ] = predictedAges\n",
    "\n",
    "    return df\n",
    "\n",
    "setMissingAges(data,'f7',['f6','f8', 'f9', 'f20', 'f21','f22','f23','f24','f25','f26'])"
   ]
  },
  {
   "cell_type": "code",
   "execution_count": 17,
   "metadata": {
    "scrolled": true
   },
   "outputs": [
    {
     "name": "stdout",
     "output_type": "stream",
     "text": [
      "f0     0\n",
      "f1     0\n",
      "f2     0\n",
      "f3     0\n",
      "f4     0\n",
      "f5     0\n",
      "f6     0\n",
      "f7     0\n",
      "f8     0\n",
      "f9     0\n",
      "f10    0\n",
      "f11    0\n",
      "f12    0\n",
      "f13    0\n",
      "f14    0\n",
      "f15    0\n",
      "f16    0\n",
      "f17    0\n",
      "f18    0\n",
      "f19    0\n",
      "f20    0\n",
      "f21    0\n",
      "f22    0\n",
      "f23    0\n",
      "f24    0\n",
      "f25    0\n",
      "f26    0\n",
      "dtype: int64\n",
      "477303\n"
     ]
    }
   ],
   "source": [
    "print(data.isnull().sum())\n",
    "print(len(data))"
   ]
  },
  {
   "cell_type": "markdown",
   "metadata": {},
   "source": [
    "# 4.离群点处理\n",
    "- 散点图中：f6\\f7\\f9\\f20\\f21\\f22\\f23\\f24\\f25这几个特征貌似有离群点\n",
    "- 离群点处理完了之后，再看一下变量分布是否符合正态"
   ]
  },
  {
   "cell_type": "markdown",
   "metadata": {},
   "source": [
    "# 5.保存结果"
   ]
  },
  {
   "cell_type": "code",
   "execution_count": 18,
   "metadata": {
    "collapsed": true
   },
   "outputs": [],
   "source": [
    "data.to_csv(\"data/round1_train.csv\",index=False,sep=\" \")  "
   ]
  }
 ],
 "metadata": {
  "kernelspec": {
   "display_name": "Python 3",
   "language": "python",
   "name": "python3"
  },
  "language_info": {
   "codemirror_mode": {
    "name": "ipython",
    "version": 3
   },
   "file_extension": ".py",
   "mimetype": "text/x-python",
   "name": "python",
   "nbconvert_exporter": "python",
   "pygments_lexer": "ipython3",
   "version": "3.6.3"
  }
 },
 "nbformat": 4,
 "nbformat_minor": 2
}
